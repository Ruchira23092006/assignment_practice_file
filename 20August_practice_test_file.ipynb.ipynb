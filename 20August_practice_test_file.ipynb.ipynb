{
 "cells": [
  {
   "cell_type": "code",
   "execution_count": null,
   "id": "11519f95-d120-4646-a502-5c1f17fe8ac8",
   "metadata": {},
   "outputs": [],
   "source": [
    "#1.to reverse a string"
   ]
  },
  {
   "cell_type": "code",
   "execution_count": 8,
   "id": "00613bec-4344-4c9a-bff2-637cd853d750",
   "metadata": {},
   "outputs": [
    {
     "data": {
      "text/plain": [
       "'sgniteerg'"
      ]
     },
     "execution_count": 8,
     "metadata": {},
     "output_type": "execute_result"
    }
   ],
   "source": [
    "s1=\"greetings\"\n",
    "s1[::-1]"
   ]
  },
  {
   "cell_type": "code",
   "execution_count": null,
   "id": "9a25841d-0f2b-4287-8d41-9a2adf75fe39",
   "metadata": {},
   "outputs": [],
   "source": [
    "#2.to check if a string is a palindrome"
   ]
  },
  {
   "cell_type": "code",
   "execution_count": 9,
   "id": "5e6a692b-0f39-49e3-ab70-49561b1558ab",
   "metadata": {},
   "outputs": [],
   "source": [
    "s2=s1[::-1]"
   ]
  },
  {
   "cell_type": "code",
   "execution_count": 13,
   "id": "c5ceb015-10c0-4b1f-86ec-430fc601aa3c",
   "metadata": {},
   "outputs": [
    {
     "name": "stdout",
     "output_type": "stream",
     "text": [
      "the string is not a palindrome\n"
     ]
    }
   ],
   "source": [
    "if s1==s2:\n",
    "    print(\"the string is a palindrome\")\n",
    "else:\n",
    "    print(\"the string is not a palindrome\")"
   ]
  },
  {
   "cell_type": "code",
   "execution_count": 8,
   "id": "48ffcd23-8d16-47fb-80ef-50ab8c27e561",
   "metadata": {},
   "outputs": [
    {
     "data": {
      "text/plain": [
       "'sgniteerg'"
      ]
     },
     "execution_count": 8,
     "metadata": {},
     "output_type": "execute_result"
    }
   ],
   "source": [
    "s1=\"greetings\"\n",
    "s1[::-1]"
   ]
  },
  {
   "cell_type": "code",
   "execution_count": null,
   "id": "991b5222",
   "metadata": {},
   "outputs": [],
   "source": [
    "#3.convert a string to uppercase"
   ]
  },
  {
   "cell_type": "code",
   "execution_count": 15,
   "id": "a7638db2-f275-4e11-9e70-6c50f29e6158",
   "metadata": {},
   "outputs": [
    {
     "name": "stdout",
     "output_type": "stream",
     "text": [
      "GREETINGS\n"
     ]
    }
   ],
   "source": [
    "s3=s1.upper()\n",
    "print(s3)"
   ]
  },
  {
   "cell_type": "code",
   "execution_count": null,
   "id": "69de8a28-1ae8-440c-a298-31d8f48f0a2b",
   "metadata": {},
   "outputs": [],
   "source": [
    "#4.convert a string to lowercase"
   ]
  },
  {
   "cell_type": "code",
   "execution_count": 16,
   "id": "09937d84-14d1-4cc1-88a7-ab87b270e3af",
   "metadata": {},
   "outputs": [
    {
     "name": "stdout",
     "output_type": "stream",
     "text": [
      "greetings\n"
     ]
    }
   ],
   "source": [
    "s4=s1.lower()\n",
    "print(s4)"
   ]
  },
  {
   "cell_type": "code",
   "execution_count": null,
   "id": "439522a6-9f96-413a-ae2f-512e886a0ea8",
   "metadata": {},
   "outputs": [],
   "source": [
    "#5.count the number of vowels in the string"
   ]
  },
  {
   "cell_type": "code",
   "execution_count": 28,
   "id": "aec1e3e7-e3cc-4885-a40e-ff23e4a368e4",
   "metadata": {},
   "outputs": [
    {
     "name": "stdin",
     "output_type": "stream",
     "text": [
      "enter any string this is my india\n"
     ]
    }
   ],
   "source": [
    "s1=input(\"enter any string\")"
   ]
  },
  {
   "cell_type": "code",
   "execution_count": 24,
   "id": "a644c2dc-c7c8-4bcb-9601-6f2af3d35cc0",
   "metadata": {},
   "outputs": [
    {
     "name": "stdout",
     "output_type": "stream",
     "text": [
      "3\n"
     ]
    }
   ],
   "source": [
    "count=0\n",
    "for i in s1:\n",
    "   if (i=='a' or i=='e' or i=='i' or i=='o' or i=='u'):\n",
    "    count=count+1\n",
    "print(count)"
   ]
  },
  {
   "cell_type": "code",
   "execution_count": null,
   "id": "0642c324-0d0d-4c35-90de-776a983441fc",
   "metadata": {},
   "outputs": [],
   "source": [
    "#6. count the number of consonants in the string"
   ]
  },
  {
   "cell_type": "code",
   "execution_count": 26,
   "id": "a35fb3bf-18ae-447c-823b-3e688e30d42f",
   "metadata": {},
   "outputs": [
    {
     "name": "stdout",
     "output_type": "stream",
     "text": [
      "3\n",
      "2\n"
     ]
    }
   ],
   "source": [
    "vowels=0\n",
    "consonants=0\n",
    "for i in s1:\n",
    "   if (i=='a' or i=='e' or i=='i' or i=='o' or i=='u'):\n",
    "    vowels=vowels+1\n",
    "   else:\n",
    "    consonants=consonants+1\n",
    "print(vowels)\n",
    "print(consonants)"
   ]
  },
  {
   "cell_type": "code",
   "execution_count": null,
   "id": "f7788564-2b09-4f90-a95a-6e87c03d0161",
   "metadata": {},
   "outputs": [],
   "source": [
    "#7.remove all the whitespaces from the string"
   ]
  },
  {
   "cell_type": "code",
   "execution_count": 29,
   "id": "3da39961-70a3-4b40-907d-1d3ca9f03a1c",
   "metadata": {},
   "outputs": [
    {
     "name": "stdout",
     "output_type": "stream",
     "text": [
      "this is my india\n"
     ]
    }
   ],
   "source": [
    "s1.replace(\" \", \"\")\n",
    "print(s1)"
   ]
  },
  {
   "cell_type": "code",
   "execution_count": null,
   "id": "f0b458f1-f869-40d2-b0bb-927f3451ab34",
   "metadata": {
    "tags": []
   },
   "outputs": [],
   "source": [
    "#8 find the length of string\n"
   ]
  },
  {
   "cell_type": "code",
   "execution_count": 30,
   "id": "6fa3251a-f131-45f9-84cc-3e17fdffdeee",
   "metadata": {},
   "outputs": [
    {
     "name": "stdin",
     "output_type": "stream",
     "text": [
      "enter any string cricket\n"
     ]
    }
   ],
   "source": [
    "s2=input(\"enter any string\")\n",
    "india"
   ]
  },
  {
   "cell_type": "raw",
   "id": "942376e4-9816-4cbe-a3ec-d747be9cb527",
   "metadata": {},
   "source": [
    "count=0\n",
    "for i in s2:\n",
    "  count=count+1\n",
    "print(count)"
   ]
  },
  {
   "cell_type": "code",
   "execution_count": null,
   "id": "7a09d419-7803-41b2-86d5-8ca0ddae0c4a",
   "metadata": {},
   "outputs": [],
   "source": [
    "#9. check if the string contains a specific word"
   ]
  },
  {
   "cell_type": "code",
   "execution_count": 1,
   "id": "4fd9579f-220a-4a6b-994a-129440df5fc8",
   "metadata": {},
   "outputs": [
    {
     "name": "stdin",
     "output_type": "stream",
     "text": [
      "enter the string IND\n",
      "the specific word IN\n"
     ]
    }
   ],
   "source": [
    "a=input(\"enter the string\")\n",
    "b=input(\"the specific word\")\n",
    "\n"
   ]
  },
  {
   "cell_type": "code",
   "execution_count": 4,
   "id": "e67e43d1-ef75-4444-921e-09ff02e95805",
   "metadata": {},
   "outputs": [
    {
     "name": "stdout",
     "output_type": "stream",
     "text": [
      "the specific word doesn't exist in the string\n"
     ]
    }
   ],
   "source": [
    "if b in a:\n",
    "    print(\"the specific word exists in the string\")\n",
    "else:\n",
    "    print(\"the specific word doesn't exist in the string\")\n",
    "    "
   ]
  },
  {
   "cell_type": "code",
   "execution_count": null,
   "id": "0784c5ed-ef14-4c94-82a3-0adde4e65223",
   "metadata": {},
   "outputs": [],
   "source": [
    "#10.replace word in the string with another word\n"
   ]
  },
  {
   "cell_type": "code",
   "execution_count": 5,
   "id": "e2582ee3-5185-4561-9b98-21a2d3cd9396",
   "metadata": {},
   "outputs": [
    {
     "name": "stdout",
     "output_type": "stream",
     "text": [
      "this is india\n"
     ]
    }
   ],
   "source": [
    "c=a.replace(\"australia\", \"india\")\n",
    "print(c)\n"
   ]
  },
  {
   "cell_type": "code",
   "execution_count": 6,
   "id": "bd7a108a-b95c-4ea7-a17e-e2e8bc7000c5",
   "metadata": {},
   "outputs": [],
   "source": [
    "#11.count the occurences of a word in a string\n"
   ]
  },
  {
   "cell_type": "code",
   "execution_count": 3,
   "id": "b02e78b3-f430-4508-991b-df628ebd3904",
   "metadata": {},
   "outputs": [
    {
     "name": "stdin",
     "output_type": "stream",
     "text": [
      "enter any string this is a match of india vs australia in india\n"
     ]
    }
   ],
   "source": [
    "a=input(\"enter any string\")"
   ]
  },
  {
   "cell_type": "code",
   "execution_count": 5,
   "id": "c1e90436-13cc-4826-b29b-92537e6015b2",
   "metadata": {},
   "outputs": [],
   "source": [
    "count=0\n",
    "b=a.split()"
   ]
  },
  {
   "cell_type": "code",
   "execution_count": 6,
   "id": "cab0d0d3-dd6c-4996-8506-2823b783a5cc",
   "metadata": {},
   "outputs": [
    {
     "data": {
      "text/plain": [
       "['this', 'is', 'a', 'match', 'of', 'india', 'vs', 'australia', 'in', 'india']"
      ]
     },
     "execution_count": 6,
     "metadata": {},
     "output_type": "execute_result"
    }
   ],
   "source": [
    "b"
   ]
  },
  {
   "cell_type": "code",
   "execution_count": 18,
   "id": "ee683b6f-28ea-4254-a515-a002219e7067",
   "metadata": {},
   "outputs": [
    {
     "name": "stdout",
     "output_type": "stream",
     "text": [
      "2\n"
     ]
    }
   ],
   "source": [
    "target_word=\"india\"\n",
    "for word in b:\n",
    "    if word==target_word:\n",
    "       count=count+1\n",
    "print(count)"
   ]
  },
  {
   "cell_type": "code",
   "execution_count": 19,
   "id": "c4c6d5cf-bb8d-4f2b-be46-2900046740e7",
   "metadata": {},
   "outputs": [],
   "source": [
    "#12.find the first occurence of a word in a string"
   ]
  },
  {
   "cell_type": "code",
   "execution_count": 27,
   "id": "9849b883-b773-4958-b4a3-e37251f38017",
   "metadata": {},
   "outputs": [],
   "source": [
    "target_word=\"india\"\n",
    "index=a.find(target_word)"
   ]
  },
  {
   "cell_type": "code",
   "execution_count": 28,
   "id": "206ad274-fe01-43b3-bfd8-6b743e439145",
   "metadata": {},
   "outputs": [
    {
     "data": {
      "text/plain": [
       "19"
      ]
     },
     "execution_count": 28,
     "metadata": {},
     "output_type": "execute_result"
    }
   ],
   "source": [
    "index\n"
   ]
  },
  {
   "cell_type": "code",
   "execution_count": 29,
   "id": "1b287e62-3cdb-4a15-8f59-cee0448f3dbc",
   "metadata": {},
   "outputs": [],
   "source": [
    "#13 find the last occurence of a word in string"
   ]
  },
  {
   "cell_type": "code",
   "execution_count": 30,
   "id": "10e5c203-0714-4ba6-9867-761efe486e27",
   "metadata": {},
   "outputs": [],
   "source": [
    "target_word=\"india\""
   ]
  },
  {
   "cell_type": "code",
   "execution_count": 31,
   "id": "f08e6757-9cb7-4e0b-bf67-8a81690fa184",
   "metadata": {},
   "outputs": [],
   "source": [
    "index=a.rfind(target_word)"
   ]
  },
  {
   "cell_type": "code",
   "execution_count": 32,
   "id": "6e763e43-9058-458c-824b-f3edd55e44ed",
   "metadata": {},
   "outputs": [
    {
     "data": {
      "text/plain": [
       "41"
      ]
     },
     "execution_count": 32,
     "metadata": {},
     "output_type": "execute_result"
    }
   ],
   "source": [
    "index"
   ]
  },
  {
   "cell_type": "code",
   "execution_count": 33,
   "id": "1b1212cf-4159-4dba-b61f-1263a1994ea6",
   "metadata": {},
   "outputs": [],
   "source": [
    "#14 split the word into a list of words"
   ]
  },
  {
   "cell_type": "code",
   "execution_count": 34,
   "id": "51e8b15a-5980-4708-bcd5-649522197ddb",
   "metadata": {},
   "outputs": [],
   "source": [
    "b=a.split()"
   ]
  },
  {
   "cell_type": "code",
   "execution_count": 35,
   "id": "5ee5a57f-60c3-4842-86a2-5eea51607e78",
   "metadata": {},
   "outputs": [
    {
     "name": "stdout",
     "output_type": "stream",
     "text": [
      "['this', 'is', 'a', 'match', 'of', 'india', 'vs', 'australia', 'in', 'india']\n"
     ]
    }
   ],
   "source": [
    "print(b)"
   ]
  },
  {
   "cell_type": "code",
   "execution_count": 36,
   "id": "00ef7879-9dfd-4a13-ad7c-3904ca04d9c3",
   "metadata": {},
   "outputs": [],
   "source": [
    "#15 join a list of words in a string\n"
   ]
  },
  {
   "cell_type": "code",
   "execution_count": 48,
   "id": "bbb99176-e075-4a2f-81bb-9f6b00d44863",
   "metadata": {},
   "outputs": [
    {
     "name": "stdin",
     "output_type": "stream",
     "text": [
      "enter any list of words in string \"the\",\"story\",\"of\",\"india\"\n"
     ]
    }
   ],
   "source": [
    "d=input (\"enter any list of words in string\")"
   ]
  },
  {
   "cell_type": "code",
   "execution_count": 49,
   "id": "92f12a0a-1c79-4430-afc1-bab73de283c4",
   "metadata": {},
   "outputs": [],
   "source": [
    "e=''.join(d)"
   ]
  },
  {
   "cell_type": "code",
   "execution_count": 50,
   "id": "3b26a99e-14f3-460b-a774-c5be770c3028",
   "metadata": {},
   "outputs": [
    {
     "name": "stdout",
     "output_type": "stream",
     "text": [
      "\"the\",\"story\",\"of\",\"india\"\n"
     ]
    }
   ],
   "source": [
    "print(e)"
   ]
  },
  {
   "cell_type": "code",
   "execution_count": null,
   "id": "21bb9095-6682-4d65-b562-d5fe43fd160a",
   "metadata": {},
   "outputs": [],
   "source": [
    "#16 convert a string where words are seperated by spaces are converted to underscore"
   ]
  },
  {
   "cell_type": "code",
   "execution_count": 51,
   "id": "e77ae6f8-3a27-4239-a2dd-245fd33a1556",
   "metadata": {},
   "outputs": [],
   "source": [
    "b=a.replace(\" \", \"_\")"
   ]
  },
  {
   "cell_type": "code",
   "execution_count": 52,
   "id": "8703986c-d39e-46ef-b015-28443ba70c0c",
   "metadata": {},
   "outputs": [
    {
     "data": {
      "text/plain": [
       "'this_is_a_match_of_india_vs_australia_in_india'"
      ]
     },
     "execution_count": 52,
     "metadata": {},
     "output_type": "execute_result"
    }
   ],
   "source": [
    "b\n"
   ]
  },
  {
   "cell_type": "code",
   "execution_count": null,
   "id": "10926487-553b-4c89-b80e-9f72ad245798",
   "metadata": {},
   "outputs": [],
   "source": [
    "#17 check if a string starts with a specific word or phrase\n"
   ]
  },
  {
   "cell_type": "code",
   "execution_count": 2,
   "id": "93ae5ea5-00ae-4a26-a580-8ce4d1cb26de",
   "metadata": {},
   "outputs": [
    {
     "name": "stdin",
     "output_type": "stream",
     "text": [
      "enter any string This is my country\n"
     ]
    }
   ],
   "source": [
    "s=input(\"enter any string\")\n"
   ]
  },
  {
   "cell_type": "code",
   "execution_count": 10,
   "id": "b88b1ac2-3949-493e-aefe-859e068bb76e",
   "metadata": {},
   "outputs": [],
   "source": [
    "specific=\"india\""
   ]
  },
  {
   "cell_type": "code",
   "execution_count": 11,
   "id": "e937acd4-6d12-4383-88db-cbbe5fbb56cc",
   "metadata": {},
   "outputs": [],
   "source": [
    "check=s.startswith(specific)"
   ]
  },
  {
   "cell_type": "code",
   "execution_count": 12,
   "id": "6f6b57c4-f393-4b6c-ab3e-2d3ddf5fc26b",
   "metadata": {},
   "outputs": [
    {
     "data": {
      "text/plain": [
       "False"
      ]
     },
     "execution_count": 12,
     "metadata": {},
     "output_type": "execute_result"
    }
   ],
   "source": [
    "check"
   ]
  },
  {
   "cell_type": "code",
   "execution_count": 13,
   "id": "48ed20f2-5d65-4e7c-b7d6-720156f23862",
   "metadata": {},
   "outputs": [],
   "source": [
    "#18 check if a string ends with a specific word"
   ]
  },
  {
   "cell_type": "code",
   "execution_count": 15,
   "id": "323d9f84-77d2-4de0-9436-8bf9bdca75d6",
   "metadata": {},
   "outputs": [
    {
     "name": "stdout",
     "output_type": "stream",
     "text": [
      "the string ends with a specific word\n"
     ]
    }
   ],
   "source": [
    "output=s.endswith(specific)\n",
    "if output:\n",
    "    print(\"the string ends with a specific word\")\n",
    "else:\n",
    "    print(\"the string doesn't end with a specific word\")\n",
    "          "
   ]
  },
  {
   "cell_type": "code",
   "execution_count": null,
   "id": "bb7898c4-84ce-4aca-bb67-e589261425fe",
   "metadata": {},
   "outputs": [],
   "source": [
    "#19. convert a string to title case\n"
   ]
  },
  {
   "cell_type": "code",
   "execution_count": 16,
   "id": "5cb08df1-79f5-4573-b755-05376da772d7",
   "metadata": {},
   "outputs": [],
   "source": [
    "s_title=s.title()\n"
   ]
  },
  {
   "cell_type": "code",
   "execution_count": 17,
   "id": "9fbb4442-1c5a-4364-96ff-75b6c3f7c3ea",
   "metadata": {},
   "outputs": [
    {
     "data": {
      "text/plain": [
       "'This Is My India'"
      ]
     },
     "execution_count": 17,
     "metadata": {},
     "output_type": "execute_result"
    }
   ],
   "source": [
    "s_title"
   ]
  },
  {
   "cell_type": "code",
   "execution_count": null,
   "id": "27f4e0c1-c7ab-4bc9-afcf-e12a1e5920f5",
   "metadata": {},
   "outputs": [],
   "source": [
    "#20. find the longest word in the string\n"
   ]
  },
  {
   "cell_type": "code",
   "execution_count": 19,
   "id": "e16cbd86-207b-439c-b63e-2a47961611e8",
   "metadata": {},
   "outputs": [
    {
     "name": "stdout",
     "output_type": "stream",
     "text": [
      "india\n"
     ]
    }
   ],
   "source": [
    "words=s.split()\n",
    "max_length=0\n",
    "longest_word=\"\"\n",
    "for word in words:\n",
    "  if len(word)>max_length:\n",
    "    max_length=len(word)\n",
    "    longest_word=word\n",
    "print(longest_word)    \n",
    "\n"
   ]
  },
  {
   "cell_type": "code",
   "execution_count": null,
   "id": "0f5d4537-f619-4b14-b561-75a5ca58513e",
   "metadata": {},
   "outputs": [],
   "source": [
    "#21 find the shortest word in the string\n"
   ]
  },
  {
   "cell_type": "code",
   "execution_count": 24,
   "id": "3addc845-5cc4-49cf-8f55-e4b722cda8f9",
   "metadata": {},
   "outputs": [
    {
     "name": "stdout",
     "output_type": "stream",
     "text": [
      "is\n"
     ]
    }
   ],
   "source": [
    "words=s.split()\n",
    "min_length=10\n",
    "shortest_word=\"\"\n",
    "for word in words:\n",
    "  if len(word)<min_length:\n",
    "    min_length=len(word)\n",
    "    shortest_word=word\n",
    "print(shortest_word)    \n",
    "\n"
   ]
  },
  {
   "cell_type": "code",
   "execution_count": null,
   "id": "3579b5fc-0e93-452b-8708-09a75ddf7da7",
   "metadata": {},
   "outputs": [],
   "source": [
    "#22. reverse the order of words in a string\n"
   ]
  },
  {
   "cell_type": "code",
   "execution_count": 24,
   "id": "a7ac1c93-5b10-4fb3-aa70-752e576778e3",
   "metadata": {},
   "outputs": [
    {
     "name": "stdout",
     "output_type": "stream",
     "text": [
      "is\n"
     ]
    }
   ],
   "source": [
    "words=s.split()\n",
    "min_length=10\n",
    "shortest_word=\"\"\n",
    "for word in words:\n",
    "  if len(word)<min_length:\n",
    "    min_length=len(word)\n",
    "    shortest_word=word\n",
    "print(shortest_word)    \n",
    "\n"
   ]
  },
  {
   "cell_type": "code",
   "execution_count": 25,
   "id": "954ff385-61f5-4d72-b1ee-a1d376728f5c",
   "metadata": {},
   "outputs": [],
   "source": [
    "#23. check if a string is alphanumeric\n"
   ]
  },
  {
   "cell_type": "code",
   "execution_count": 26,
   "id": "ae6dc05d-6e60-418a-8537-0c6f86d2568b",
   "metadata": {},
   "outputs": [
    {
     "data": {
      "text/plain": [
       "False"
      ]
     },
     "execution_count": 26,
     "metadata": {},
     "output_type": "execute_result"
    }
   ],
   "source": [
    "s.isalpha()"
   ]
  },
  {
   "cell_type": "code",
   "execution_count": null,
   "id": "ef8d907f-f8b6-45ba-842a-ca76454e4dab",
   "metadata": {},
   "outputs": [],
   "source": [
    "#24. extract all digits from the string\n"
   ]
  },
  {
   "cell_type": "code",
   "execution_count": 3,
   "id": "e2d76f77-9b5b-4898-95cf-c00a841e38a6",
   "metadata": {},
   "outputs": [
    {
     "data": {
      "text/plain": [
       "False"
      ]
     },
     "execution_count": 3,
     "metadata": {},
     "output_type": "execute_result"
    }
   ],
   "source": [
    "s.isdigit()"
   ]
  },
  {
   "cell_type": "code",
   "execution_count": 4,
   "id": "37b3b030-e631-4f22-b5da-c6fa92796ba6",
   "metadata": {},
   "outputs": [],
   "source": [
    "#25. extract all alphabets from a string\n"
   ]
  },
  {
   "cell_type": "code",
   "execution_count": 6,
   "id": "1689f1c5-6542-417c-b9a8-3aa8db40ef99",
   "metadata": {},
   "outputs": [
    {
     "name": "stdin",
     "output_type": "stream",
     "text": [
      "enter any string THISIS123MYINDIA456\n"
     ]
    }
   ],
   "source": [
    "st=input(\"enter any string\")\n"
   ]
  },
  {
   "cell_type": "code",
   "execution_count": 7,
   "id": "f98ecd42-e9b2-406f-9d7a-e680d68081d0",
   "metadata": {},
   "outputs": [],
   "source": [
    "alphabets=''.join([char for char in st if char.isalpha()])\n"
   ]
  },
  {
   "cell_type": "code",
   "execution_count": 8,
   "id": "1cb48afa-7908-48ab-9c98-9986e3a59795",
   "metadata": {},
   "outputs": [
    {
     "name": "stdout",
     "output_type": "stream",
     "text": [
      "THISISMYINDIA\n"
     ]
    }
   ],
   "source": [
    "print(alphabets)"
   ]
  },
  {
   "cell_type": "code",
   "execution_count": null,
   "id": "3552afb5-ec71-444c-bfaf-28b89fee46a4",
   "metadata": {},
   "outputs": [],
   "source": [
    "#26. count the number of uppercase letters in a string\n"
   ]
  },
  {
   "cell_type": "code",
   "execution_count": 10,
   "id": "fa9f548a-7e5e-410a-b6ac-1a07741f44b3",
   "metadata": {},
   "outputs": [
    {
     "name": "stdout",
     "output_type": "stream",
     "text": [
      "1\n"
     ]
    }
   ],
   "source": [
    "count=0\n",
    "for char in s:\n",
    "  if(char.isupper()):\n",
    "        count+=1\n",
    "print (count)\n"
   ]
  },
  {
   "cell_type": "code",
   "execution_count": null,
   "id": "ec4bafb3-d5b3-4664-b13f-732801155cec",
   "metadata": {},
   "outputs": [],
   "source": [
    "#27 count the number of lowercase letters in a string"
   ]
  },
  {
   "cell_type": "code",
   "execution_count": 11,
   "id": "3b39a0d4-4685-4e3b-bb41-1074a53d9b52",
   "metadata": {},
   "outputs": [
    {
     "name": "stdout",
     "output_type": "stream",
     "text": [
      "14\n"
     ]
    }
   ],
   "source": [
    "count=0\n",
    "for char in s:\n",
    "  if(char.islower()):\n",
    "        count+=1\n",
    "print (count)\n"
   ]
  },
  {
   "cell_type": "code",
   "execution_count": 12,
   "id": "e0430e76-f7d3-4e59-9061-c9d0e2b0bd25",
   "metadata": {},
   "outputs": [],
   "source": [
    "#28. swap the case of each character in a string\n"
   ]
  },
  {
   "cell_type": "code",
   "execution_count": 13,
   "id": "df17e2c0-e37e-4238-a3f7-a1247dd179f8",
   "metadata": {},
   "outputs": [
    {
     "name": "stdout",
     "output_type": "stream",
     "text": [
      "tHIS IS MY COUNTRY\n"
     ]
    }
   ],
   "source": [
    "s_swapped=s.swapcase()\n",
    "print(s_swapped)\n"
   ]
  },
  {
   "cell_type": "code",
   "execution_count": 14,
   "id": "937e2ca1-1da2-4c31-8c17-41a54d2462fa",
   "metadata": {},
   "outputs": [],
   "source": [
    "#29. remove a specific word from a string"
   ]
  },
  {
   "cell_type": "code",
   "execution_count": 1,
   "id": "9b2c024c-58aa-412d-9e81-16e9438327a5",
   "metadata": {},
   "outputs": [
    {
     "name": "stdout",
     "output_type": "stream",
     "text": [
      "Hello world, welcome to the of programming.\n"
     ]
    }
   ],
   "source": [
    "def remove_word(input_string, word_to_remove):\n",
    "    words = input_string.split()  # Split the input string into a list of words\n",
    "    filtered_words = [word for word in words if word != word_to_remove]  # Create a new list excluding the word to remove\n",
    "    modified_string = ' '.join(filtered_words)  # Join the filtered words back into a string\n",
    "    return modified_string\n",
    "\n",
    "# Example input string and word to remove\n",
    "input_string = \"Hello world, welcome to the world of programming.\"\n",
    "word_to_remove = \"world\"\n",
    "result = remove_word(input_string, word_to_remove)\n",
    "print(result)"
   ]
  },
  {
   "cell_type": "code",
   "execution_count": null,
   "id": "b8877d1b-4ac2-488b-948c-e68f30d823e8",
   "metadata": {},
   "outputs": [],
   "source": [
    "#30. check if a string is a valid email address"
   ]
  },
  {
   "cell_type": "code",
   "execution_count": 2,
   "id": "7a5d6ff5-2536-4f2e-845a-2027277a2b0a",
   "metadata": {},
   "outputs": [
    {
     "name": "stdout",
     "output_type": "stream",
     "text": [
      "True\n",
      "False\n"
     ]
    }
   ],
   "source": [
    "import re  # Import the regular expression module\n",
    "\n",
    "def is_valid_email(email):\n",
    "    pattern = r'^[\\w\\.-]+@[\\w\\.-]+\\.\\w+$'  # Regular expression pattern for a basic email validation\n",
    "    if re.match(pattern, email):\n",
    "        return True\n",
    "    else:\n",
    "        return False\n",
    "\n",
    "# Example email addresses\n",
    "email1 = \"example@email.com\"\n",
    "email2 = \"invalid-email\"\n",
    "result1 = is_valid_email(email1)\n",
    "result2 = is_valid_email(email2)\n",
    "print(result1)\n",
    "print(result2)"
   ]
  },
  {
   "cell_type": "code",
   "execution_count": null,
   "id": "84609143-9234-4335-a4d0-3e4c9c575dcb",
   "metadata": {},
   "outputs": [],
   "source": [
    "#31. extract the username from the string"
   ]
  },
  {
   "cell_type": "code",
   "execution_count": 3,
   "id": "8cb41be4-d507-4fb9-a8db-d39b102790f5",
   "metadata": {},
   "outputs": [
    {
     "name": "stdout",
     "output_type": "stream",
     "text": [
      "example\n"
     ]
    }
   ],
   "source": [
    "def extract_username(email):\n",
    "    username = email.split('@')[0]  # Split the email address at \"@\" and take the first part\n",
    "    return username\n",
    "\n",
    "# Example email address\n",
    "email = \"example@email.com\"\n",
    "result = extract_username(email)\n",
    "print(result)"
   ]
  },
  {
   "cell_type": "code",
   "execution_count": null,
   "id": "b2b5f5fc-b5e9-48dc-9a20-2863cdf04cb9",
   "metadata": {},
   "outputs": [],
   "source": [
    "#32. extract the domain name "
   ]
  },
  {
   "cell_type": "code",
   "execution_count": 4,
   "id": "8f220f8c-2c4b-4b61-af74-cf0ee7adf120",
   "metadata": {},
   "outputs": [
    {
     "name": "stdout",
     "output_type": "stream",
     "text": [
      "email.com\n"
     ]
    }
   ],
   "source": [
    "def extract_domain(email):\n",
    "    domain = email.split('@')[1]  # Split the email address at \"@\" and take the second part\n",
    "    return domain\n",
    "\n",
    "# Example email address\n",
    "email = \"example@email.com\"\n",
    "result = extract_domain(email)\n",
    "print(result)"
   ]
  },
  {
   "cell_type": "code",
   "execution_count": null,
   "id": "b42c441c-b31b-4c22-818f-45058fe00b02",
   "metadata": {},
   "outputs": [],
   "source": [
    "#33. Split the string at spaces and then join using a single space"
   ]
  },
  {
   "cell_type": "code",
   "execution_count": 5,
   "id": "451e1aeb-c4cb-4bad-8de6-aa89be67f1e6",
   "metadata": {},
   "outputs": [
    {
     "name": "stdout",
     "output_type": "stream",
     "text": [
      "Hello world! How are you?\n"
     ]
    }
   ],
   "source": [
    "def replace_multiple_spaces(input_string):\n",
    "    cleaned_string = ' '.join(input_string.split())  # Split the string at spaces and then join using a single space\n",
    "    return cleaned_string\n",
    "\n",
    "# Example input string with multiple spaces\n",
    "input_string = \"Hello     world!   How   are   you?\"\n",
    "result = replace_multiple_spaces(input_string)\n",
    "print(result)"
   ]
  },
  {
   "cell_type": "code",
   "execution_count": null,
   "id": "f620ba6a-1111-4483-a659-238724bbcd5f",
   "metadata": {},
   "outputs": [],
   "source": [
    "#34. Check if a string is a valid URL."
   ]
  },
  {
   "cell_type": "code",
   "execution_count": 1,
   "id": "d4394e56-c3bc-4bb2-9311-73bd107f836f",
   "metadata": {},
   "outputs": [],
   "source": [
    "from urllib.parse import urlparse\n",
    "\n",
    "def is_valid_url(url):\n",
    "    try:\n",
    "        result = urlparse(url)\n",
    "        return all([result.scheme, result.netloc])  # Check if both scheme and netloc are present\n",
    "    except ValueError:\n",
    "        return False\n"
   ]
  },
  {
   "cell_type": "code",
   "execution_count": null,
   "id": "ae9b215e-e6ce-481e-8b7e-bdb10add46d3",
   "metadata": {},
   "outputs": [],
   "source": [
    "#35. extract the protocol"
   ]
  },
  {
   "cell_type": "code",
   "execution_count": 3,
   "id": "b30c2c47-159c-4979-8b4f-09d0b74c3905",
   "metadata": {},
   "outputs": [],
   "source": [
    "def extract_protocol(url):\n",
    "    # Find the index of the first occurrence of \"://\"\n",
    "    protocol_end = url.find(\"://\")\n",
    "\n",
    "    if protocol_end != -1:\n",
    "        # Extract the protocol from the URL\n",
    "        protocol = url[:protocol_end]\n",
    "        return protocol\n",
    "    else:\n",
    "        return None"
   ]
  },
  {
   "cell_type": "code",
   "execution_count": 5,
   "id": "5f002d09-da95-4584-a498-1144f1a378e5",
   "metadata": {},
   "outputs": [
    {
     "name": "stdout",
     "output_type": "stream",
     "text": [
      "Protocol 1: https\n",
      "Protocol 2: http\n",
      "Protocol 3: ftp\n"
     ]
    }
   ],
   "source": [
    "url1 = \"https://www.example.com\"\n",
    "url2 = \"http://google.com\"\n",
    "url3 = \"ftp://ftp.example.com\"\n",
    "\n",
    "# Extract protocols\n",
    "protocol1 = extract_protocol(url1)\n",
    "protocol2 = extract_protocol(url2)\n",
    "protocol3 = extract_protocol(url3)\n",
    "\n",
    "# Print extracted protocols\n",
    "print(\"Protocol 1:\", protocol1)\n",
    "print(\"Protocol 2:\", protocol2)\n",
    "print(\"Protocol 3:\", protocol3)"
   ]
  },
  {
   "cell_type": "code",
   "execution_count": null,
   "id": "26550029-de07-4433-b2d1-f3cbe04a252e",
   "metadata": {},
   "outputs": [],
   "source": [
    "#36. Find the frequency of each character in a string."
   ]
  },
  {
   "cell_type": "code",
   "execution_count": 8,
   "id": "69293782-5372-449d-b492-220ef9010891",
   "metadata": {},
   "outputs": [
    {
     "name": "stdin",
     "output_type": "stream",
     "text": [
      "enter any string ruchira\n"
     ]
    }
   ],
   "source": [
    "st=input(\"enter any string\")\n",
    "char='abcdefghijklmnopqrstuvwxyz'\n",
    "count=0\n",
    "for char in st:\n",
    "    if char in st:\n",
    "        count=count+1\n",
    "    else:\n",
    "        count=0\n",
    "  \n"
   ]
  },
  {
   "cell_type": "code",
   "execution_count": 9,
   "id": "7b2e995f-b460-4887-8382-a3a2999ba3a9",
   "metadata": {},
   "outputs": [
    {
     "name": "stdout",
     "output_type": "stream",
     "text": [
      "7\n"
     ]
    }
   ],
   "source": [
    "print(count)\n"
   ]
  },
  {
   "cell_type": "code",
   "execution_count": 10,
   "id": "68b12780-ddb0-4fd3-84d9-ac9ace5ad6ab",
   "metadata": {},
   "outputs": [
    {
     "name": "stdout",
     "output_type": "stream",
     "text": [
      "Character: 'h', Frequency: 1\n",
      "Character: 'e', Frequency: 1\n",
      "Character: 'l', Frequency: 3\n",
      "Character: 'o', Frequency: 2\n",
      "Character: ' ', Frequency: 1\n",
      "Character: 'w', Frequency: 1\n",
      "Character: 'r', Frequency: 1\n",
      "Character: 'd', Frequency: 1\n"
     ]
    }
   ],
   "source": [
    "def character_frequency(input_string):\n",
    "    frequency = {}  # Create an empty dictionary to store character frequencies\n",
    "\n",
    "    for char in input_string:\n",
    "        if char in frequency:\n",
    "            frequency[char] += 1  # Increment the frequency count if the character is already in the dictionary\n",
    "        else:\n",
    "            frequency[char] = 1   # Initialize the frequency count to 1 if the character is not in the dictionary\n",
    "\n",
    "    return frequency\n",
    "\n",
    "# Example string\n",
    "input_str = \"hello world\"\n",
    "\n",
    "# Calculate character frequencies\n",
    "char_freq = character_frequency(input_str)\n",
    "\n",
    "# Print character frequencies\n",
    "for char, freq in char_freq.items():\n",
    "    print(f\"Character: '{char}', Frequency: {freq}\")\n",
    "    "
   ]
  },
  {
   "cell_type": "code",
   "execution_count": 12,
   "id": "166b6f67-2423-4332-83db-23a291df07dd",
   "metadata": {},
   "outputs": [
    {
     "name": "stdout",
     "output_type": "stream",
     "text": [
      "Original string: Hello, world! How's it going?\n",
      "Cleaned string: Hello world Hows it going\n"
     ]
    }
   ],
   "source": [
    "#37.Remove all punctuation from a string.\n",
    "\n",
    "import string\n",
    "\n",
    "def remove_punctuation(input_string):\n",
    "    # Create a translation table to remove punctuation\n",
    "    translator = str.maketrans(\"\", \"\", string.punctuation)\n",
    "\n",
    "    # Use the translation table to remove punctuation from the input string\n",
    "    clean_string = input_string.translate(translator)\n",
    "\n",
    "    return clean_string\n",
    "\n",
    "# Example string with punctuation\n",
    "input_str = \"Hello, world! How's it going?\"\n",
    "\n",
    "# Remove punctuation\n",
    "cleaned_str = remove_punctuation(input_str)\n",
    "\n",
    "# Print the cleaned string\n",
    "print(\"Original string:\", input_str)\n",
    "print(\"Cleaned string:\", cleaned_str)"
   ]
  },
  {
   "cell_type": "code",
   "execution_count": null,
   "id": "9cad3b8d-e6ed-43b1-b74d-61a5848c702c",
   "metadata": {},
   "outputs": [],
   "source": [
    "#38. Check if a string contains only digits."
   ]
  },
  {
   "cell_type": "code",
   "execution_count": 16,
   "id": "4ea90813-4ece-400f-adbf-80565aa82f24",
   "metadata": {},
   "outputs": [],
   "source": [
    "def contains_only_digits(input_string):\n",
    "    # Check if all characters in the string are digits\n",
    "    return input_string.isdigit()"
   ]
  },
  {
   "cell_type": "code",
   "execution_count": 14,
   "id": "e1c7bb0a-259f-41c4-b245-c18e774a0a30",
   "metadata": {},
   "outputs": [],
   "source": [
    "input_string=\"12345ruchira\""
   ]
  },
  {
   "cell_type": "code",
   "execution_count": null,
   "id": "46e506ec-9126-4df4-aab3-6b41b1f5e90b",
   "metadata": {},
   "outputs": [],
   "source": [
    "#39. check if the string contains only alphabets"
   ]
  },
  {
   "cell_type": "code",
   "execution_count": 2,
   "id": "9d5bc6d0-f4b2-4df1-a4f1-8249a48b2413",
   "metadata": {},
   "outputs": [
    {
     "name": "stdout",
     "output_type": "stream",
     "text": [
      "'Hello' contains only alphabets: True\n",
      "'Hello123' contains only alphabets: False\n",
      "'12345' contains only alphabets: False\n"
     ]
    }
   ],
   "source": [
    "\n",
    "def contains_only_alphabets(input_string):\n",
    "    # Check if all characters in the string are alphabetic\n",
    "    return input_string.isalpha()\n",
    "\n",
    "# Example strings\n",
    "string1 = \"Hello\"\n",
    "string2 = \"Hello123\"\n",
    "string3 = \"12345\"\n",
    "\n",
    "# Check if strings contain only alphabets\n",
    "result1 = contains_only_alphabets(string1)\n",
    "result2 = contains_only_alphabets(string2)\n",
    "result3 = contains_only_alphabets(string3)\n",
    "\n",
    "# Print the results\n",
    "print(f\"'{string1}' contains only alphabets:\", result1)\n",
    "print(f\"'{string2}' contains only alphabets:\", result2)\n",
    "print(f\"'{string3}' contains only alphabets:\", result3)\n"
   ]
  },
  {
   "cell_type": "code",
   "execution_count": null,
   "id": "f664a1dc-2d01-4519-be94-dd4a0b7ff04f",
   "metadata": {},
   "outputs": [],
   "source": [
    "#40. Convert a string to a list of characters."
   ]
  },
  {
   "cell_type": "code",
   "execution_count": 6,
   "id": "9c8d15f2-bbe8-4e33-93cb-df0aa251c088",
   "metadata": {},
   "outputs": [
    {
     "name": "stdout",
     "output_type": "stream",
     "text": [
      "'Ruchira' contains list of characters: ['R', 'u', 'c', 'h', 'i', 'r', 'a']\n"
     ]
    }
   ],
   "source": [
    "def string_to_listofchar(input_string):\n",
    "     return list(input_string)\n",
    "string1=\"Ruchira\"\n",
    "    \n",
    "result1=string_to_listofchar(string1)\n",
    "print(f\"'{string1}' contains list of characters:\", result1)"
   ]
  },
  {
   "cell_type": "code",
   "execution_count": 4,
   "id": "22432f57-01c0-48be-b262-a7954a0841e9",
   "metadata": {},
   "outputs": [
    {
     "data": {
      "text/plain": [
       "str"
      ]
     },
     "execution_count": 4,
     "metadata": {},
     "output_type": "execute_result"
    }
   ],
   "source": [
    "type(string1)\n"
   ]
  },
  {
   "cell_type": "code",
   "execution_count": 7,
   "id": "a6d2eacc-4552-4d50-9768-7c25a896db10",
   "metadata": {},
   "outputs": [
    {
     "data": {
      "text/plain": [
       "list"
      ]
     },
     "execution_count": 7,
     "metadata": {},
     "output_type": "execute_result"
    }
   ],
   "source": [
    "type(result1)"
   ]
  },
  {
   "cell_type": "code",
   "execution_count": null,
   "id": "8c86b591-b61f-40e2-a091-e152c728f75b",
   "metadata": {},
   "outputs": [],
   "source": [
    "#41. Check if two strings are anagram"
   ]
  },
  {
   "cell_type": "code",
   "execution_count": 8,
   "id": "9264bdbf-7c83-4455-b862-ae17751e8937",
   "metadata": {},
   "outputs": [
    {
     "name": "stdout",
     "output_type": "stream",
     "text": [
      "'listen' and 'silent' are anagrams: True\n",
      "'hello' and 'world' are anagrams: False\n"
     ]
    }
   ],
   "source": [
    "def are_anagrams(str1, str2):\n",
    "    # Remove spaces and convert strings to lowercase for accurate comparison\n",
    "    str1 = str1.replace(\" \", \"\").lower()\n",
    "    str2 = str2.replace(\" \", \"\").lower()\n",
    "\n",
    "    # Sort the characters in both strings and compare\n",
    "    return sorted(str1) == sorted(str2)\n",
    "\n",
    "# Example strings\n",
    "string1 = \"listen\"\n",
    "string2 = \"silent\"\n",
    "string3 = \"hello\"\n",
    "string4 = \"world\"\n",
    "\n",
    "# Check if strings are anagrams\n",
    "result1 = are_anagrams(string1, string2)\n",
    "result2 = are_anagrams(string3, string4)\n",
    "\n",
    "# Print the results\n",
    "print(f\"'{string1}' and '{string2}' are anagrams:\", result1)\n",
    "print(f\"'{string3}' and '{string4}' are anagrams:\", result2)"
   ]
  },
  {
   "cell_type": "code",
   "execution_count": null,
   "id": "50c45eaa-9dc6-45eb-84e7-60268760d740",
   "metadata": {},
   "outputs": [],
   "source": [
    "#42. encode using cipher code"
   ]
  },
  {
   "cell_type": "code",
   "execution_count": 9,
   "id": "5c8e3608-de96-4557-b7ea-1ce70b9e7498",
   "metadata": {},
   "outputs": [
    {
     "name": "stdout",
     "output_type": "stream",
     "text": [
      "Encoded text: ehoor, zruog!\n"
     ]
    }
   ],
   "source": [
    "def caesar_cipher(text, shift):\n",
    "  \"\"\"\n",
    "  Encodes a string using a Caesar cipher.\n",
    "\n",
    "  Args:\n",
    "    text: The string to encode.\n",
    "    shift: The number of positions to shift each letter.\n",
    "\n",
    "  Returns:\n",
    "    The encoded string.\n",
    "  \"\"\"\n",
    "\n",
    "  # Initialize an empty string to store the encoded text.\n",
    "  encoded_text = \"\"\n",
    "\n",
    "  # Iterate through each character in the input text.\n",
    "  for char in text:\n",
    "    # Check if the character is alphabetic.\n",
    "    if char.isalpha():\n",
    "      # Calculate the encoded character's Unicode code point value by shifting it by the specified amount.\n",
    "      # Ensure the value wraps around within the lowercase alphabet range (a-z).\n",
    "      encoded_char = chr((ord(char) + shift - ord('a')) % 26 + ord('a'))\n",
    "    else:\n",
    "      # Keep non-alphabetic characters unchanged.\n",
    "      encoded_char = char\n",
    "\n",
    "    # Add the encoded character to the encoded text.\n",
    "    encoded_text += encoded_char\n",
    "\n",
    "  # Return the resulting encoded text.\n",
    "  return encoded_text\n",
    "\n",
    "# Define the input text and the shift value for encoding.\n",
    "text = \"Hello, world!\"\n",
    "shift = 3\n",
    "\n",
    "# Call the caesar_cipher function to encode the text using the specified shift.\n",
    "encoded_text = caesar_cipher(text, shift)\n",
    "\n",
    "# Print the encoded text.\n",
    "print(\"Encoded text:\", encoded_text)"
   ]
  },
  {
   "cell_type": "code",
   "execution_count": null,
   "id": "63532f4c-ba1d-495b-a8b5-4d2695ef2759",
   "metadata": {},
   "outputs": [],
   "source": [
    "#43 decode using cipher code"
   ]
  },
  {
   "cell_type": "code",
   "execution_count": 10,
   "id": "5c9e29f0-560a-432d-bbe7-69e3fe85074e",
   "metadata": {},
   "outputs": [
    {
     "name": "stdout",
     "output_type": "stream",
     "text": [
      "Decoded text: ilmm, world!\n"
     ]
    }
   ],
   "source": [
    "def caesar_cipher_decoder(text, shift):\n",
    "    \"\"\"\n",
    "    Decodes a string using a Caesar cipher.\n",
    "\n",
    "    Args:\n",
    "        text: The string to decode.\n",
    "        shift: The number of positions to shift each letter.\n",
    "\n",
    "    Returns:\n",
    "        The decoded string.\n",
    "    \"\"\"\n",
    "\n",
    "    # Initialize an empty string to store the decoded text\n",
    "    decoded_text = \"\"\n",
    "\n",
    "    # Loop through each character in the input text\n",
    "    for char in text:\n",
    "        # Check if the character is an alphabetic character\n",
    "        if char.isalpha():\n",
    "            # Calculate the decoded character using the shift value\n",
    "            decoded_char = chr((ord(char) - shift - ord('a')) % 26 + ord('a'))\n",
    "        else:\n",
    "            # If the character is not alphabetic, keep it unchanged\n",
    "            decoded_char = char\n",
    "\n",
    "        # Add the decoded character to the decoded text\n",
    "        decoded_text += decoded_char\n",
    "\n",
    "    # Return the fully decoded text\n",
    "    return decoded_text\n",
    "\n",
    "# Example input\n",
    "text = \"lopp, zruog!\"\n",
    "shift = 3\n",
    "\n",
    "# Call the caesar_cipher_decoder function to decode the input text\n",
    "decoded_text = caesar_cipher_decoder(text, shift)\n",
    "\n",
    "# Print the decoded text\n",
    "print(\"Decoded text:\", decoded_text)"
   ]
  },
  {
   "cell_type": "code",
   "execution_count": null,
   "id": "3cc7631a-682b-4d67-b869-a719a0071a93",
   "metadata": {},
   "outputs": [],
   "source": [
    "#44. Find the most frequent word in a string."
   ]
  },
  {
   "cell_type": "code",
   "execution_count": 4,
   "id": "5b6cb1e1-66ba-4a2f-b084-b3a1ee51c1b1",
   "metadata": {},
   "outputs": [
    {
     "name": "stdout",
     "output_type": "stream",
     "text": [
      "Most frequent word: hello\n"
     ]
    }
   ],
   "source": [
    "import re\n",
    "from collections import Counter\n",
    "\n",
    "def most_frequent_word(input_string):\n",
    "    # Remove punctuation and convert to lowercase\n",
    "    clean_string = re.sub(r'[^\\w\\s]', '', input_string).lower()\n",
    "\n",
    "    # Split the string into words\n",
    "    words = clean_string.split()\n",
    "\n",
    "    # Use Counter to count word frequencies\n",
    "    word_counter = Counter(words)\n",
    "\n",
    "    # Find the most common word\n",
    "    most_common_word = word_counter.most_common(1)[0][0]\n",
    "    return most_common_word\n",
    "\n",
    "# Example string\n",
    "input_str = \"Hello world, hello there! How's the world?\"\n",
    "\n",
    "# Find the most frequent word\n",
    "most_common = most_frequent_word(input_str)\n",
    "\n",
    "# Print the result\n",
    "print(\"Most frequent word:\", most_common)"
   ]
  },
  {
   "cell_type": "code",
   "execution_count": null,
   "id": "09a6cfbf-38b9-4876-baf4-34137de9ae42",
   "metadata": {},
   "outputs": [],
   "source": [
    "#45. find the unique words in a string"
   ]
  },
  {
   "cell_type": "code",
   "execution_count": 5,
   "id": "c0c96eb0-9c55-48ab-8ec6-79cb56350f05",
   "metadata": {},
   "outputs": [
    {
     "name": "stdout",
     "output_type": "stream",
     "text": [
      "Unique words: {'the', 'there', 'hello', 'hows', 'world'}\n"
     ]
    }
   ],
   "source": [
    "\n",
    "import re\n",
    "\n",
    "def unique_words(input_string):\n",
    "    # Remove punctuation and convert to lowercase\n",
    "    clean_string = re.sub(r'[^\\w\\s]', '', input_string).lower()\n",
    "\n",
    "    # Split the string into words and convert to a set for uniqueness\n",
    "    words = set(clean_string.split())\n",
    "\n",
    "    return words\n",
    "\n",
    "# Example string\n",
    "input_str = \"Hello world, hello there! How's the world?\"\n",
    "\n",
    "# Find unique words\n",
    "unique_word_set = unique_words(input_str)\n",
    "\n",
    "# Print the result\n",
    "print(\"Unique words:\", unique_word_set)"
   ]
  },
  {
   "cell_type": "code",
   "execution_count": null,
   "id": "1b0f3558-38b4-4e31-ab29-8d33f24088ac",
   "metadata": {},
   "outputs": [],
   "source": [
    "#46. Count the number of syllables in a string."
   ]
  },
  {
   "cell_type": "code",
   "execution_count": null,
   "id": "13cb24eb-2c44-4d77-8c4c-be05986b8420",
   "metadata": {},
   "outputs": [],
   "source": [
    "import re\n",
    "\n",
    "def count_syllables(word):\n",
    "    # Count vowel groups using regular expression\n",
    "    vowel_groups = re.findall(r'[aeiouy]+', word, re.IGNORECASE)\n",
    "\n",
    "    return len(vowel_groups)\n",
    "\n",
    "# Example words\n",
    "word1 = \"hello\"\n",
    "word2 = \"banana\"\n",
    "word3 = \"syllable\"\n",
    "\n",
    "# Count syllables\n",
    "syllables1 = count_syllables(word1)\n",
    "syllables2 = count_syllables(word2)\n",
    "syllables3 = count_syllables(word3)\n",
    "\n",
    "# Print the results\n",
    "print(f\"'{word1}' has {syllables1} syllables.\")\n",
    "print(f\"'{word2}' has {syllables2} syllables.\")\n",
    "print(f\"'{word3}' has {syllables3} syllables.\")"
   ]
  },
  {
   "cell_type": "code",
   "execution_count": null,
   "id": "f298c94d-ee18-4032-8259-49889e947783",
   "metadata": {},
   "outputs": [],
   "source": [
    "#47. find special characters in a string"
   ]
  },
  {
   "cell_type": "code",
   "execution_count": 11,
   "id": "e63c3378-b770-4c2f-8cd3-cf4ed72b22de",
   "metadata": {},
   "outputs": [
    {
     "name": "stdout",
     "output_type": "stream",
     "text": [
      "'Hello, world!' contains special characters: True\n",
      "'This is a test.' contains special characters: True\n",
      "'Special@Characters' contains special characters: True\n"
     ]
    }
   ],
   "source": [
    "import re\n",
    "\n",
    "def contains_special_characters(input_string):\n",
    "    # Define a regular expression pattern to match special characters\n",
    "    pattern = re.compile(r'[!@#$%^&*()_+{}\\[\\]:;<>,.?~\\\\/]')\n",
    "\n",
    "    # Use the search() method to find a match\n",
    "    match = pattern.search(input_string)\n",
    "\n",
    "    # Return True if a match is found, False otherwise\n",
    "    return bool(match)\n",
    "\n",
    "# Example strings\n",
    "string1 = \"Hello, world!\"\n",
    "string2 = \"This is a test.\"\n",
    "string3 = \"Special@Characters\"\n",
    "\n",
    "# Check if strings contain special characters\n",
    "result1 = contains_special_characters(string1)\n",
    "result2 = contains_special_characters(string2)\n",
    "result3 = contains_special_characters(string3)\n",
    "\n",
    "# Print the results\n",
    "print(f\"'{string1}' contains special characters:\", result1)\n",
    "print(f\"'{string2}' contains special characters:\", result2)\n",
    "print(f\"'{string3}' contains special characters:\", result3)"
   ]
  },
  {
   "cell_type": "markdown",
   "id": "151ea6dd-fe0a-4a17-9c68-714101a9d537",
   "metadata": {},
   "source": [
    "#48 Remove the nth word from a string.\n"
   ]
  },
  {
   "cell_type": "code",
   "execution_count": 17,
   "id": "065484d7-babb-45ee-8fcc-e02e2f93018c",
   "metadata": {},
   "outputs": [],
   "source": [
    "def remove_nth_word(input_string, n):\n",
    "    # Split the input string into words\n",
    "    words = input_string.split()\n",
    "\n",
    "    # Check if n is within a valid range\n",
    "    if n >= 1 and n <= len(words):\n",
    "        # Remove the nth word by excluding it from the words list\n",
    "        removed_word = words.pop(n - 1)\n",
    "        filtered_words = [word for word in words if word != removed_word]  # Create a new list excluding the word to remove\n",
    "        modified_string = ' '.join(filtered_words)  # Join the filtered words back into a string\n",
    "    return (modified_string, removed_word)\n",
    "\n",
    "    str1=\"hello this is a beautiful place to live in\"\n",
    "    n1=5\n",
    "    result=remove_nth_word(str1, n1)\n",
    "    print(result) \n",
    "        "
   ]
  },
  {
   "cell_type": "code",
   "execution_count": null,
   "id": "d57280de-8b4e-4701-8b43-18cfb4af548d",
   "metadata": {},
   "outputs": [],
   "source": [
    "#lists"
   ]
  },
  {
   "cell_type": "code",
   "execution_count": 17,
   "id": "88db3954-843e-4b78-8441-cd9ac5aa1820",
   "metadata": {},
   "outputs": [
    {
     "name": "stdout",
     "output_type": "stream",
     "text": [
      "[1, 2, 3, 4, 5, 6, 7, 8, 9, 10]\n"
     ]
    }
   ],
   "source": [
    "#1. Use a list comprehension to create a list of integers from 1 to 10\n",
    "integer_list = [i for i in range(1, 11)]\n",
    "\n",
    "# Print the list\n",
    "print(integer_list)"
   ]
  },
  {
   "cell_type": "code",
   "execution_count": null,
   "id": "39d0a101-2c07-4038-b267-e19a66872f61",
   "metadata": {},
   "outputs": [],
   "source": [
    "#2. Find the length of a list without using the len() function.\n"
   ]
  },
  {
   "cell_type": "code",
   "execution_count": null,
   "id": "361e26bb-e743-406c-b169-8e52a1fe9b80",
   "metadata": {},
   "outputs": [],
   "source": [
    "\n",
    "length = custom_len(my_list)\n",
    "for i in my_list:\n",
    "    length=length+1\n",
    "\n",
    "my_list=[1,2,5,6,7,8,9]\n",
    "print(\"Length of the list:\", length)\n"
   ]
  },
  {
   "cell_type": "code",
   "execution_count": null,
   "id": "48f3cec3-1289-425e-b696-c511dcee81a0",
   "metadata": {},
   "outputs": [],
   "source": [
    "#3. Append an element to the end of a list"
   ]
  },
  {
   "cell_type": "code",
   "execution_count": 18,
   "id": "4f374a4e-3b97-421d-905d-2687d0b4d052",
   "metadata": {},
   "outputs": [
    {
     "name": "stdout",
     "output_type": "stream",
     "text": [
      "Updated list: [10, 20, 30, 40]\n"
     ]
    }
   ],
   "source": [
    "my_list = [10, 20, 30]\n",
    "\n",
    "# Element to append\n",
    "new_element = 40\n",
    "\n",
    "# Append the new element to the end of the list\n",
    "my_list.append(new_element)\n",
    "\n",
    "# Print the updated list\n",
    "print(\"Updated list:\", my_list)\n"
   ]
  },
  {
   "cell_type": "code",
   "execution_count": 9,
   "id": "f53397d8-44fd-4ce0-866d-7f65cde29613",
   "metadata": {},
   "outputs": [
    {
     "name": "stdout",
     "output_type": "stream",
     "text": [
      "Updated list: [1, 2, 3, 5, 8, 7, 9, 10]\n"
     ]
    }
   ],
   "source": [
    "#4. Insert an element at a specific index in a list.\n",
    "my_list=[1,2,3,5,7,9,10]\n",
    "index_to_insert=4\n",
    "new_element=8\n",
    "my_list.insert(index_to_insert,new_element)\n",
    "\n",
    "# Print the updated list\n",
    "print(\"Updated list:\", my_list)"
   ]
  },
  {
   "cell_type": "code",
   "execution_count": null,
   "id": "841c7a83-a73b-4007-a43d-724f6703c9f0",
   "metadata": {},
   "outputs": [],
   "source": [
    "#5. Remove an element from a list by its value."
   ]
  },
  {
   "cell_type": "code",
   "execution_count": 12,
   "id": "a05bddb6-0b97-47ff-91ba-0c2247bffa35",
   "metadata": {},
   "outputs": [
    {
     "name": "stdout",
     "output_type": "stream",
     "text": [
      "Updated list: [1, 2, 3, 7, 9, 10]\n"
     ]
    }
   ],
   "source": [
    "\n",
    "my_list=[1,2,3,5,7,9,10]\n",
    "element_to_remove=5\n",
    "my_list.remove(element_to_remove)\n",
    "\n",
    "# Print the updated list\n",
    "print(\"Updated list:\", my_list)"
   ]
  },
  {
   "cell_type": "code",
   "execution_count": null,
   "id": "7f61e702-f05c-4455-ad34-688edb470672",
   "metadata": {},
   "outputs": [],
   "source": [
    "#6. Remove an element from a list by its index.\n"
   ]
  },
  {
   "cell_type": "code",
   "execution_count": 1,
   "id": "05832742-007b-4bdd-9444-59e4e9acc668",
   "metadata": {},
   "outputs": [
    {
     "name": "stdout",
     "output_type": "stream",
     "text": [
      "Updated list: [10, 20, 40, 50]\n",
      "Removed element: 30\n"
     ]
    }
   ],
   "source": [
    "my_list = [10, 20, 30, 40, 50]\n",
    "\n",
    "# Index of the element to remove\n",
    "index_to_remove = 2\n",
    "\n",
    "# Remove the element at the specified index\n",
    "removed_element = my_list.pop(index_to_remove)\n",
    "\n",
    "# Print the updated list and the removed element\n",
    "print(\"Updated list:\", my_list)\n",
    "print(\"Removed element:\", removed_element)"
   ]
  },
  {
   "cell_type": "code",
   "execution_count": null,
   "id": "d345deda-6c05-4896-a775-3bf7d98ebddd",
   "metadata": {},
   "outputs": [],
   "source": [
    "#7. Check if an element exists in a list."
   ]
  },
  {
   "cell_type": "code",
   "execution_count": 6,
   "id": "48080ab3-1710-4d6e-af9e-e44d0ab43fb1",
   "metadata": {},
   "outputs": [
    {
     "name": "stdout",
     "output_type": "stream",
     "text": [
      "true\n"
     ]
    }
   ],
   "source": [
    "my_list=[10, 20, 30, 40, 50]\n",
    "element_to_check=30\n",
    "if element_to_check in my_list:\n",
    "    print(\"true\")\n",
    "else:\n",
    "    print(\"false\")\n",
    "    \n"
   ]
  },
  {
   "cell_type": "code",
   "execution_count": null,
   "id": "3f9d34bb-fc87-47a3-a8a3-e4427aa97632",
   "metadata": {},
   "outputs": [],
   "source": [
    "#8. Find the index of the first occurrence of an element in a list."
   ]
  },
  {
   "cell_type": "code",
   "execution_count": 8,
   "id": "68ca180e-6269-4523-9b4d-863c041086e2",
   "metadata": {},
   "outputs": [
    {
     "name": "stdout",
     "output_type": "stream",
     "text": [
      "The index of 30 is 2\n"
     ]
    }
   ],
   "source": [
    "index = my_list.index(element_to_check)\n",
    "\n",
    "# Print the index\n",
    "print(f\"The index of {element_to_check} is {index}\")"
   ]
  },
  {
   "cell_type": "code",
   "execution_count": null,
   "id": "4463849d-075e-4766-a46b-a55069214810",
   "metadata": {},
   "outputs": [],
   "source": [
    "#9. Count the occurrences of an element in a list."
   ]
  },
  {
   "cell_type": "code",
   "execution_count": 9,
   "id": "3637c5c9-60ba-4520-8154-41dddf5d3653",
   "metadata": {},
   "outputs": [
    {
     "name": "stdout",
     "output_type": "stream",
     "text": [
      "1\n"
     ]
    }
   ],
   "source": [
    "countt=my_list.count(element_to_check)\n",
    "print(countt)"
   ]
  },
  {
   "cell_type": "code",
   "execution_count": null,
   "id": "dd915ed0-859c-4a43-9030-0f4f1c0a2296",
   "metadata": {},
   "outputs": [],
   "source": [
    "#10. Reverse the order of elements in a list."
   ]
  },
  {
   "cell_type": "code",
   "execution_count": 16,
   "id": "9c6ebcc6-797d-4bab-beb1-a9c0398a2f54",
   "metadata": {},
   "outputs": [
    {
     "name": "stdout",
     "output_type": "stream",
     "text": [
      "[77, 60, 50, 34, 10]\n"
     ]
    }
   ],
   "source": [
    "my_list=[10, 34, 50, 60, 77]\n",
    "my_list.reverse()\n",
    "print(my_list)"
   ]
  },
  {
   "cell_type": "code",
   "execution_count": null,
   "id": "49065188-6905-443f-8e30-b2592ddf9352",
   "metadata": {},
   "outputs": [],
   "source": [
    "#11. Sort a list in ascending order."
   ]
  },
  {
   "cell_type": "code",
   "execution_count": 17,
   "id": "f650c9f8-a9d5-46d1-b61a-0d7ebb6eb018",
   "metadata": {},
   "outputs": [
    {
     "name": "stdout",
     "output_type": "stream",
     "text": [
      "[10, 34, 50, 60, 77]\n"
     ]
    }
   ],
   "source": [
    "my_list.sort()\n",
    "print(my_list)"
   ]
  },
  {
   "cell_type": "code",
   "execution_count": null,
   "id": "082b6479-02af-4bc0-9de2-7ab64aa9d96e",
   "metadata": {},
   "outputs": [],
   "source": [
    "#12. Sort a list in descending order."
   ]
  },
  {
   "cell_type": "code",
   "execution_count": 18,
   "id": "e472f1e0-63f4-4c2c-91b2-ae9dc73c9708",
   "metadata": {},
   "outputs": [
    {
     "name": "stdout",
     "output_type": "stream",
     "text": [
      "[77, 60, 50, 34, 10]\n"
     ]
    }
   ],
   "source": [
    "my_list.sort(reverse=True)\n",
    "print(my_list)"
   ]
  },
  {
   "cell_type": "code",
   "execution_count": null,
   "id": "51eb8b5f-8940-4480-bc7b-bab58d86bec7",
   "metadata": {},
   "outputs": [],
   "source": [
    "#13. Create a list of even numbers from 1 to 20."
   ]
  },
  {
   "cell_type": "code",
   "execution_count": 19,
   "id": "1ca87c52-698e-49f7-8f06-1367bec160b2",
   "metadata": {},
   "outputs": [
    {
     "name": "stdout",
     "output_type": "stream",
     "text": [
      "List of even numbers: [2, 4, 6, 8, 10, 12, 14, 16, 18, 20]\n"
     ]
    }
   ],
   "source": [
    "even_numbers = [x for x in range(2, 21, 2)]\n",
    "\n",
    "# Print the list of even numbers\n",
    "print(\"List of even numbers:\", even_numbers)"
   ]
  },
  {
   "cell_type": "code",
   "execution_count": null,
   "id": "9ece6efd-f5a8-4e1a-af89-d4b84a27e1dc",
   "metadata": {},
   "outputs": [],
   "source": [
    "#14. Create a list of odd numbers from 1 to 20."
   ]
  },
  {
   "cell_type": "code",
   "execution_count": 21,
   "id": "25ebc1aa-8c8f-4a2f-bedc-e114af2a468e",
   "metadata": {},
   "outputs": [
    {
     "name": "stdout",
     "output_type": "stream",
     "text": [
      "[1, 3, 5, 7, 9, 11, 13, 15, 17, 19]\n"
     ]
    }
   ],
   "source": [
    "odd_numbers=[x for x in range(1, 21, 2)]\n",
    "print(odd_numbers)"
   ]
  },
  {
   "cell_type": "code",
   "execution_count": null,
   "id": "109f9061-2308-4a65-9c99-a3492392bd12",
   "metadata": {},
   "outputs": [],
   "source": [
    "#15. Find the sum of all elements in a list."
   ]
  },
  {
   "cell_type": "code",
   "execution_count": 24,
   "id": "65913195-df1e-4457-a3bc-1a19ff816fc2",
   "metadata": {},
   "outputs": [
    {
     "name": "stdout",
     "output_type": "stream",
     "text": [
      "231\n"
     ]
    }
   ],
   "source": [
    "summ=sum(my_list)\n",
    "print (summ)"
   ]
  },
  {
   "cell_type": "code",
   "execution_count": null,
   "id": "d9a438e7-4f9a-4d3d-a2f2-61df99c1b287",
   "metadata": {},
   "outputs": [],
   "source": [
    "#16. Find the maximum value in a list."
   ]
  },
  {
   "cell_type": "code",
   "execution_count": 25,
   "id": "36a24bf4-4cb9-49d8-84e7-e78bda6d9a87",
   "metadata": {},
   "outputs": [
    {
     "name": "stdout",
     "output_type": "stream",
     "text": [
      "77\n"
     ]
    }
   ],
   "source": [
    "maxx=max(my_list)\n",
    "print(maxx)"
   ]
  },
  {
   "cell_type": "code",
   "execution_count": null,
   "id": "fa24773f-0eef-4acb-ad03-ac1d983288ad",
   "metadata": {},
   "outputs": [],
   "source": [
    "#17. Find the minimum value in a list."
   ]
  },
  {
   "cell_type": "code",
   "execution_count": 26,
   "id": "7ed5942a-ece9-4b3f-bbca-20b8b92829fa",
   "metadata": {},
   "outputs": [
    {
     "name": "stdout",
     "output_type": "stream",
     "text": [
      "10\n"
     ]
    }
   ],
   "source": [
    "minn=min(my_list)\n",
    "print(minn)"
   ]
  },
  {
   "cell_type": "code",
   "execution_count": null,
   "id": "f3540d67-68f4-4896-917e-11888819d328",
   "metadata": {},
   "outputs": [],
   "source": [
    "#18. Create a list of squares of numbers from 1 to 10."
   ]
  },
  {
   "cell_type": "code",
   "execution_count": 28,
   "id": "2e5e1e75-9de3-463d-9b13-4c5efd864101",
   "metadata": {},
   "outputs": [
    {
     "name": "stdout",
     "output_type": "stream",
     "text": [
      "[1, 4, 9, 16, 25, 36, 49, 64, 81, 100]\n"
     ]
    }
   ],
   "source": [
    "sq=[x*x for x in range(1,11)]\n",
    "print(sq)"
   ]
  },
  {
   "cell_type": "code",
   "execution_count": null,
   "id": "daaae3f4-55ed-495a-ad48-68e966420bb4",
   "metadata": {},
   "outputs": [],
   "source": [
    "#19. Create a list of random numbers.\n",
    "[ ]"
   ]
  },
  {
   "cell_type": "code",
   "execution_count": 29,
   "id": "c3927930-3d69-4b3b-8997-5337e11a7c03",
   "metadata": {},
   "outputs": [
    {
     "name": "stdout",
     "output_type": "stream",
     "text": [
      "List of random integers: [2, 35, 66, 81, 56, 45, 64, 26, 92, 13]\n"
     ]
    }
   ],
   "source": [
    "import random\n",
    "\n",
    "# Create a list of random integers between 1 and 100\n",
    "random_integers = [random.randint(1, 100) for _ in range(10)]\n",
    "\n",
    "# Print the list of random integers\n",
    "print(\"List of random integers:\", random_integers)"
   ]
  },
  {
   "cell_type": "code",
   "execution_count": null,
   "id": "e604c7f6-bceb-4892-b619-ae1c5f835c68",
   "metadata": {},
   "outputs": [],
   "source": [
    "#20. remove duplicates from a list"
   ]
  },
  {
   "cell_type": "code",
   "execution_count": 31,
   "id": "b8e1c01e-3652-40d8-b044-9439f7c2f8a4",
   "metadata": {},
   "outputs": [],
   "source": [
    "my_list = [10, 20, 30, 20, 40, 10, 50, 30]\n",
    "\n",
    "# Remove duplicates by converting to a set and back to a list\n",
    "unique_list = list(set(my_list))"
   ]
  },
  {
   "cell_type": "code",
   "execution_count": 32,
   "id": "34c3e68f-b827-45fe-998d-2bfa1d41ff4a",
   "metadata": {},
   "outputs": [
    {
     "name": "stdout",
     "output_type": "stream",
     "text": [
      "[40, 10, 50, 20, 30]\n"
     ]
    }
   ],
   "source": [
    "print(unique_list)"
   ]
  },
  {
   "cell_type": "code",
   "execution_count": null,
   "id": "93b8fc7b-005d-4205-9a32-280bb8790f71",
   "metadata": {},
   "outputs": [],
   "source": [
    "#21. Find the common elements between two lists."
   ]
  },
  {
   "cell_type": "code",
   "execution_count": 8,
   "id": "442d5d51-dfca-442d-a721-74d87764ae59",
   "metadata": {},
   "outputs": [
    {
     "name": "stdout",
     "output_type": "stream",
     "text": [
      "[20, 30, 40]\n"
     ]
    }
   ],
   "source": [
    "list1=[10,20,30,35,40,45,50,55,60]\n",
    "list2=[20,30,40,80,67,90]\n",
    "common_element_list=[element for element in list1 if element in list2]\n",
    "print(common_element_list)                              \n",
    "                         \n",
    "    \n",
    "    \n",
    "        \n",
    "    \n",
    "   "
   ]
  },
  {
   "cell_type": "code",
   "execution_count": null,
   "id": "a5955dcf-e214-467d-a8df-e298cf945730",
   "metadata": {},
   "outputs": [],
   "source": [
    "#22.Find the difference between two lists."
   ]
  },
  {
   "cell_type": "code",
   "execution_count": 9,
   "id": "833d4df0-5951-437b-96f4-ed7b095c1380",
   "metadata": {},
   "outputs": [
    {
     "name": "stdout",
     "output_type": "stream",
     "text": [
      "Difference between lists: [20, 10]\n"
     ]
    }
   ],
   "source": [
    "list1 = [10, 20, 30, 40, 50]\n",
    "list2 = [30, 40, 50, 60, 70]\n",
    "\n",
    "# Find the difference between lists using the difference() method\n",
    "difference = list(set(list1).difference(list2))\n",
    "\n",
    "# Print the difference\n",
    "print(\"Difference between lists:\", difference)"
   ]
  },
  {
   "cell_type": "code",
   "execution_count": null,
   "id": "ccda4f1c-ba40-4eef-bee9-e234d8cad135",
   "metadata": {},
   "outputs": [],
   "source": [
    "#23. merge two lists"
   ]
  },
  {
   "cell_type": "code",
   "execution_count": 10,
   "id": "e7898144-ceca-4c71-bd48-59ada4faac5c",
   "metadata": {},
   "outputs": [
    {
     "name": "stdout",
     "output_type": "stream",
     "text": [
      "Merged list: [10, 20, 30, 40, 50, 60]\n"
     ]
    }
   ],
   "source": [
    "\n",
    "\n",
    "# Example lists\n",
    "list1 = [10, 20, 30]\n",
    "list2 = [40, 50, 60]\n",
    "\n",
    "# Merge lists using the + operator\n",
    "merged_list = list1 + list2\n",
    "\n",
    "# Print the merged list\n",
    "print(\"Merged list:\", merged_list)"
   ]
  },
  {
   "cell_type": "code",
   "execution_count": null,
   "id": "51b28aa4-10e1-4e0b-af1f-fa8d588f5d71",
   "metadata": {},
   "outputs": [],
   "source": [
    "#24. multiply all elemnts in the list by 2"
   ]
  },
  {
   "cell_type": "code",
   "execution_count": 11,
   "id": "9438f91c-89e6-4e7a-bcf3-8a38cf1c237f",
   "metadata": {},
   "outputs": [
    {
     "name": "stdout",
     "output_type": "stream",
     "text": [
      "Multiplied list: [20, 40, 60, 80, 100]\n"
     ]
    }
   ],
   "source": [
    "\n",
    "# Example list\n",
    "my_list = [10, 20, 30, 40, 50]\n",
    "\n",
    "# Multiply all elements by 2 using a list comprehension\n",
    "multiplied_list = [x * 2 for x in my_list]\n",
    "\n",
    "# Print the multiplied list\n",
    "print(\"Multiplied list:\", multiplied_list)"
   ]
  },
  {
   "cell_type": "code",
   "execution_count": null,
   "id": "cc3f3e20-2a3c-463a-bf99-b95d9ce3d106",
   "metadata": {},
   "outputs": [],
   "source": [
    "#25. Filter out all even numbers from a list."
   ]
  },
  {
   "cell_type": "code",
   "execution_count": null,
   "id": "afae4e93-69b1-474a-863d-56cddbe15157",
   "metadata": {},
   "outputs": [],
   "source": [
    "list1=[10,20,30,35,40,45,50,55,60]"
   ]
  },
  {
   "cell_type": "code",
   "execution_count": 13,
   "id": "d2b963a3-658f-4294-83ee-6c1f5fa14ca2",
   "metadata": {},
   "outputs": [
    {
     "name": "stdout",
     "output_type": "stream",
     "text": [
      "[]\n"
     ]
    }
   ],
   "source": [
    "filtered_element_list=[element for element in list1 if (element % 2!=0) ]\n",
    "print(filtered_element_list)                              \n",
    "                         "
   ]
  },
  {
   "cell_type": "code",
   "execution_count": null,
   "id": "f40cc20e-8bbc-4636-bef2-a093488ab1f4",
   "metadata": {},
   "outputs": [],
   "source": [
    "#26. Convert a list of strings to a list of integers.\n"
   ]
  },
  {
   "cell_type": "code",
   "execution_count": 14,
   "id": "870b1160-d55d-48ca-82a0-be4ddf1e146e",
   "metadata": {},
   "outputs": [
    {
     "name": "stdout",
     "output_type": "stream",
     "text": [
      "List of integers: [10, 20, 30, 40, 50]\n"
     ]
    }
   ],
   "source": [
    "string_list = [\"10\", \"20\", \"30\", \"40\", \"50\"]\n",
    "\n",
    "# Convert list of strings to list of integers using a list comprehension\n",
    "integer_list = [int(x) for x in string_list]\n",
    "\n",
    "# Print the list of integers\n",
    "print(\"List of integers:\", integer_list)"
   ]
  },
  {
   "cell_type": "code",
   "execution_count": null,
   "id": "1b09bfeb-cb79-4762-87bb-97245095239d",
   "metadata": {},
   "outputs": [],
   "source": [
    "#27. Convert a list of integers to a list of strings."
   ]
  },
  {
   "cell_type": "code",
   "execution_count": 15,
   "id": "65bf30db-50be-4e65-b422-3bbb8b76bb1c",
   "metadata": {},
   "outputs": [
    {
     "name": "stdout",
     "output_type": "stream",
     "text": [
      "List of strings: ['10', '20', '30', '40', '50']\n"
     ]
    }
   ],
   "source": [
    "\n",
    "# Example list of integers\n",
    "integer_list = [10, 20, 30, 40, 50]\n",
    "\n",
    "# Convert list of integers to list of strings using a list comprehension\n",
    "string_list = [str(x) for x in integer_list]\n",
    "\n",
    "# Print the list of strings\n",
    "print(\"List of strings:\", string_list)"
   ]
  },
  {
   "cell_type": "code",
   "execution_count": null,
   "id": "2b9d1c36-539d-4f41-a65c-19874a394de0",
   "metadata": {},
   "outputs": [],
   "source": [
    "#28. flatten a nested list"
   ]
  },
  {
   "cell_type": "code",
   "execution_count": 16,
   "id": "47945c4d-4663-4483-b421-96bbaabf872e",
   "metadata": {},
   "outputs": [
    {
     "name": "stdout",
     "output_type": "stream",
     "text": [
      "Flattened list: [1, 2, 3, 4, 5, 6, 7, 8, 9]\n"
     ]
    }
   ],
   "source": [
    "\n",
    "# Example nested list\n",
    "nested_list = [[1, 2, 3], [4, 5], [6, 7, 8, 9]]\n",
    "\n",
    "# Function to flatten a nested list\n",
    "def flatten_list(nested):\n",
    "    flattened = []\n",
    "    for sublist in nested:\n",
    "        if isinstance(sublist, list):\n",
    "            flattened.extend(flatten_list(sublist))\n",
    "        else:\n",
    "            flattened.append(sublist)\n",
    "    return flattened\n",
    "\n",
    "# Flatten the nested list\n",
    "flattened_list = flatten_list(nested_list)\n",
    "\n",
    "# Print the flattened list\n",
    "print(\"Flattened list:\", flattened_list)"
   ]
  },
  {
   "cell_type": "code",
   "execution_count": null,
   "id": "c113e0cc-54c6-4c67-b24a-66ff44987368",
   "metadata": {},
   "outputs": [],
   "source": [
    "#29. create a list of first 10 fibaonacci numbers"
   ]
  },
  {
   "cell_type": "code",
   "execution_count": 17,
   "id": "54ad960f-a078-4fb5-b66f-43afc7840b5c",
   "metadata": {},
   "outputs": [
    {
     "name": "stdout",
     "output_type": "stream",
     "text": [
      "First 10 Fibonacci numbers: [0, 1]\n"
     ]
    }
   ],
   "source": [
    "\n",
    "# Function to generate the first n Fibonacci numbers\n",
    "def generate_fibonacci(n):\n",
    "    fibonacci_list = [0, 1]  # Initialize the list with the first two Fibonacci numbers\n",
    "\n",
    "    for i in range(2, n):\n",
    "        next_fibonacci = fibonacci_list[i - 1] + fibonacci_list[i - 2]\n",
    "        fibonacci_list.append(next_fibonacci)\n",
    "\n",
    "    return fibonacci_list\n",
    "\n",
    "# Generate the first 10 Fibonacci numbers\n",
    "fibonacci_numbers = generate_fibonacci(2)\n",
    "\n",
    "# Print the list of Fibonacci numbers\n",
    "print(\"First 10 Fibonacci numbers:\", fibonacci_numbers)"
   ]
  },
  {
   "cell_type": "code",
   "execution_count": null,
   "id": "aa9adcfb-11ed-40ce-8377-2aba1832c86a",
   "metadata": {},
   "outputs": [],
   "source": [
    "#30. Check if a list is sorted."
   ]
  },
  {
   "cell_type": "code",
   "execution_count": 18,
   "id": "04d57da7-4ed8-46b9-9fee-6aa52a1d2a48",
   "metadata": {},
   "outputs": [
    {
     "name": "stdout",
     "output_type": "stream",
     "text": [
      "The list is sorted in ascending order.\n"
     ]
    }
   ],
   "source": [
    "def is_sorted_ascending(lst):\n",
    "    for i in range(1, len(lst)):\n",
    "        if lst[i] < lst[i - 1]:\n",
    "            return False\n",
    "    return True\n",
    "\n",
    "# Example list\n",
    "ascending_list = [10, 20, 30, 40, 50]\n",
    "\n",
    "# Check if the list is sorted in ascending order\n",
    "if is_sorted_ascending(ascending_list):\n",
    "    print(\"The list is sorted in ascending order.\")\n",
    "else:\n",
    "    print(\"The list is not sorted in ascending order.\")"
   ]
  },
  {
   "cell_type": "code",
   "execution_count": null,
   "id": "53de48b6-cb8f-46e6-84fc-d41fda9de393",
   "metadata": {},
   "outputs": [],
   "source": [
    "#31. Rotate a list to the left by n positions."
   ]
  },
  {
   "cell_type": "code",
   "execution_count": 19,
   "id": "47f14eaf-f953-4614-bf9d-d8e53601edbf",
   "metadata": {},
   "outputs": [
    {
     "name": "stdout",
     "output_type": "stream",
     "text": [
      "Rotated list: [3, 4, 5, 6, 1, 2]\n"
     ]
    }
   ],
   "source": [
    "def rotate_left(lst, n):\n",
    "    n = n % len(lst)  # Normalize n to handle cases where n is larger than the list length\n",
    "    # print(n)\n",
    "    rotated = lst[n:] + lst[:n]\n",
    "    return rotated\n",
    "\n",
    "# Example list\n",
    "my_list = [1, 2, 3, 4, 5, 6]\n",
    "\n",
    "# Number of positions to rotate by\n",
    "n = 2\n",
    "\n",
    "# Rotate the list to the left by n positions\n",
    "rotated_list = rotate_left(my_list, n)\n",
    "\n",
    "# Print the rotated list\n",
    "print(\"Rotated list:\", rotated_list)"
   ]
  },
  {
   "cell_type": "code",
   "execution_count": null,
   "id": "fed92afb-c75c-4a53-97f9-a006cd5290c5",
   "metadata": {},
   "outputs": [],
   "source": [
    "#32. Rotate a list to the right by n positions."
   ]
  },
  {
   "cell_type": "code",
   "execution_count": 20,
   "id": "ee1bfed6-515f-49ed-8e34-eb653e963292",
   "metadata": {},
   "outputs": [
    {
     "name": "stdout",
     "output_type": "stream",
     "text": [
      "Rotated list: [5, 6, 1, 2, 3, 4]\n"
     ]
    }
   ],
   "source": [
    "def rotate_right(lst, n):\n",
    "    n = n % len(lst)  # Normalize n to handle cases where n is larger than the list length\n",
    "    # print(n)\n",
    "    rotated = lst[-n:] + lst[:-n]\n",
    "    return rotated\n",
    "\n",
    "# Example list\n",
    "my_list = [1, 2, 3, 4, 5, 6]\n",
    "\n",
    "# Number of positions to rotate by\n",
    "n = 2\n",
    "\n",
    "# Rotate the list to the right by n positions\n",
    "rotated_list = rotate_right(my_list, n)\n",
    "\n",
    "# Print the rotated list\n",
    "print(\"Rotated list:\", rotated_list)"
   ]
  },
  {
   "cell_type": "code",
   "execution_count": null,
   "id": "f9d61cd3-65be-4a9f-860d-db1bea23aa78",
   "metadata": {},
   "outputs": [],
   "source": [
    "#33. Create a list of prime numbers up to 50."
   ]
  },
  {
   "cell_type": "code",
   "execution_count": 24,
   "id": "305ef782-59d1-4109-8087-61010335aa0b",
   "metadata": {},
   "outputs": [
    {
     "name": "stdout",
     "output_type": "stream",
     "text": [
      "[2, 3, 5, 7, 11, 13, 17, 19, 23, 29, 31, 37, 41, 43, 47]\n"
     ]
    }
   ],
   "source": [
    "def is_prime(n):\n",
    "    primes = []\n",
    "    for i in range(2, n + 1):\n",
    "        for j in range(2, int(i ** 0.5) + 1):\n",
    "            if i%j == 0:\n",
    "                break\n",
    "        else:\n",
    "            primes.append(i)\n",
    "    return primes\n",
    "\n",
    "prime_list = is_prime(50)\n",
    "print(prime_list)"
   ]
  },
  {
   "cell_type": "code",
   "execution_count": null,
   "id": "6e287580-c199-4940-9449-c1989bb6ad5e",
   "metadata": {},
   "outputs": [],
   "source": [
    "#35. find the second largest number in the list"
   ]
  },
  {
   "cell_type": "code",
   "execution_count": 22,
   "id": "229af1ed-126c-4f08-a482-3756cf4a2b9d",
   "metadata": {},
   "outputs": [
    {
     "name": "stdout",
     "output_type": "stream",
     "text": [
      "Second largest number: 25\n"
     ]
    }
   ],
   "source": [
    "\n",
    "# Example list\n",
    "my_list = [10, 5, 20, 15, 30, 25]\n",
    "\n",
    "# Remove duplicates and sort the list in ascending order\n",
    "sorted_list = sorted(set(my_list))\n",
    "\n",
    "# Find the second largest number\n",
    "if len(sorted_list) >= 2:\n",
    "    second_largest = sorted_list[-2]\n",
    "    print(\"Second largest number:\", second_largest)"
   ]
  },
  {
   "cell_type": "code",
   "execution_count": null,
   "id": "447b7f8f-0b02-4c06-a8bb-4b01f581b586",
   "metadata": {},
   "outputs": [],
   "source": [
    "#36. Replace every element in a list with its square.\n",
    "[ ]\n",
    "# Example list\n",
    "my_list = [2, 4, 6, 8, 10]\n",
    "\n",
    "# Replace every element with its square using a list comprehension\n",
    "squared_list = [x ** 2 for x in my_list]\n",
    "\n",
    "# Print the squared list\n",
    "print(\"Squared list:\", squared_list)"
   ]
  },
  {
   "cell_type": "code",
   "execution_count": null,
   "id": "fccead63-ce3b-46d9-a1dd-0c5c309129ea",
   "metadata": {},
   "outputs": [],
   "source": [
    "#37.Convert a list to a dictionary where list elements become keys and their indices become values."
   ]
  },
  {
   "cell_type": "code",
   "execution_count": 2,
   "id": "f0f858ea-0823-475c-9c3a-9f1eab9f827f",
   "metadata": {},
   "outputs": [
    {
     "name": "stdout",
     "output_type": "stream",
     "text": [
      "Converted dictionary: {'apple': 0, 'banana': 1, 'cherry': 2, 'date': 3, 'elderberry': 4}\n"
     ]
    }
   ],
   "source": [
    "\n",
    "my_list = ['apple', 'banana', 'cherry', 'date', 'elderberry']\n",
    "\n",
    "# Convert list to dictionary using dictionary comprehension\n",
    "my_dict = {element: index for index, element in enumerate(my_list)}\n",
    "\n",
    "# Print the resulting dictionary\n",
    "print(\"Converted dictionary:\", my_dict)"
   ]
  },
  {
   "cell_type": "code",
   "execution_count": null,
   "id": "60cab7dc-91f2-4334-a19f-1c744ad65725",
   "metadata": {},
   "outputs": [],
   "source": [
    "#38. Shuffle the elements of a list randomly."
   ]
  },
  {
   "cell_type": "code",
   "execution_count": 3,
   "id": "c1036d1a-6a73-477e-bba0-9b9ae0b00469",
   "metadata": {},
   "outputs": [
    {
     "name": "stdout",
     "output_type": "stream",
     "text": [
      "Shuffled list: [6, 1, 3, 10, 5, 4, 7, 9, 8, 2]\n"
     ]
    }
   ],
   "source": [
    "import random\n",
    "\n",
    "# Example list\n",
    "my_list = [1, 2, 3, 4, 5, 6, 7, 8, 9, 10]\n",
    "\n",
    "# Shuffle the list randomly\n",
    "random.shuffle(my_list)\n",
    "\n",
    "# Print the shuffled list\n",
    "print(\"Shuffled list:\", my_list)"
   ]
  },
  {
   "cell_type": "code",
   "execution_count": null,
   "id": "a81b2a94-154d-45ed-b5fe-51c846feb4ec",
   "metadata": {},
   "outputs": [],
   "source": [
    "#39. Create a list of the first 10 factorial numbers.\n"
   ]
  },
  {
   "cell_type": "code",
   "execution_count": 4,
   "id": "038dfdda-a06c-4b80-bbb8-079c6ac2c1b4",
   "metadata": {},
   "outputs": [
    {
     "name": "stdout",
     "output_type": "stream",
     "text": [
      "List of the first 10 factorial numbers: [1, 1, 2, 6, 24, 120, 720, 5040, 40320, 362880]\n"
     ]
    }
   ],
   "source": [
    "def factorial(n):\n",
    "    if n == 0 or n == 1:\n",
    "        return 1\n",
    "    else:\n",
    "        return n * factorial(n - 1)\n",
    "\n",
    "# Create a list of the first 10 factorial numbers\n",
    "factorial_numbers = [factorial(i) for i in range(10)]\n",
    "\n",
    "# Print the list of factorial numbers\n",
    "print(\"List of the first 10 factorial numbers:\", factorial_numbers)"
   ]
  },
  {
   "cell_type": "code",
   "execution_count": null,
   "id": "136562a7-6e88-4123-b8bd-cbcbf467b560",
   "metadata": {},
   "outputs": [],
   "source": [
    "#40. Check if two lists have at least one element in common.\n"
   ]
  },
  {
   "cell_type": "code",
   "execution_count": 5,
   "id": "9f077e45-748f-4d97-8538-f6f0c139e4f2",
   "metadata": {},
   "outputs": [
    {
     "name": "stdout",
     "output_type": "stream",
     "text": [
      "The lists have at least one common element.\n"
     ]
    }
   ],
   "source": [
    "def has_common_element(list1, list2):\n",
    "    for item in list1:\n",
    "        if item in list2:\n",
    "            return True\n",
    "    return False\n",
    "\n",
    "# Example lists\n",
    "list1 = [1, 2, 3, 4, 5]\n",
    "list2 = [4, 5, 6, 7, 8]\n",
    "\n",
    "# Check if the two lists have at least one element in common\n",
    "if has_common_element(list1, list2):\n",
    "    print(\"The lists have at least one common element.\")\n",
    "else:\n",
    "    print(\"The lists do not have any common elements.\")"
   ]
  },
  {
   "cell_type": "code",
   "execution_count": null,
   "id": "79c7aff0-fb98-4174-9408-5828328b3718",
   "metadata": {},
   "outputs": [],
   "source": [
    "#41. Remove all elements from a list."
   ]
  },
  {
   "cell_type": "code",
   "execution_count": 6,
   "id": "a3e61250-5e98-4c12-9ec8-ab3d63e5f8f0",
   "metadata": {},
   "outputs": [
    {
     "name": "stdout",
     "output_type": "stream",
     "text": [
      "Empty list: []\n"
     ]
    }
   ],
   "source": [
    "my_list = [1, 2, 3, 4, 5]\n",
    "\n",
    "# Clear all elements from the list\n",
    "my_list.clear()\n",
    "\n",
    "# Print the empty list\n",
    "print(\"Empty list:\", my_list)"
   ]
  },
  {
   "cell_type": "code",
   "execution_count": null,
   "id": "edb8b8b2-0716-4cb7-a640-802076d048af",
   "metadata": {},
   "outputs": [],
   "source": [
    "#42. Replace negative numbers in a list with 0."
   ]
  },
  {
   "cell_type": "code",
   "execution_count": 7,
   "id": "be4e6538-00a5-4a54-8c68-c9716f911141",
   "metadata": {},
   "outputs": [
    {
     "name": "stdout",
     "output_type": "stream",
     "text": [
      "List after replacing negative numbers with 0: [10, 0, 20, 0, 30, 0]\n"
     ]
    }
   ],
   "source": [
    "my_list = [10, -5, 20, -15, 30, -25]\n",
    "\n",
    "# Step 1: Iterate through the list and replace negative numbers with 0\n",
    "for i in range(len(my_list)):\n",
    "    if my_list[i] < 0:\n",
    "        my_list[i] = 0\n",
    "\n",
    "# Print the list after replacing negative numbers with 0\n",
    "print(\"List after replacing negative numbers with 0:\", my_list)"
   ]
  },
  {
   "cell_type": "code",
   "execution_count": null,
   "id": "9a3e9c4d-0924-4183-87bb-23cb2bcf6899",
   "metadata": {},
   "outputs": [],
   "source": [
    "#43.Convert a string into a list of words.\n",
    " "
   ]
  },
  {
   "cell_type": "code",
   "execution_count": 8,
   "id": "460c9d13-e9b6-4639-b718-7a73f5be0af4",
   "metadata": {},
   "outputs": [
    {
     "name": "stdout",
     "output_type": "stream",
     "text": [
      "List of words: ['Hello,', 'this', 'is', 'a', 'sample', 'sentence.']\n"
     ]
    }
   ],
   "source": [
    "my_string = \"Hello, this is a sample sentence.\"\n",
    "\n",
    "# Convert the string into a list of words\n",
    "word_list = my_string.split()\n",
    "\n",
    "# Print the list of words\n",
    "print(\"List of words:\", word_list)"
   ]
  },
  {
   "cell_type": "code",
   "execution_count": null,
   "id": "4348478f-f2b8-4fbb-b831-ed50d2ea5a7c",
   "metadata": {},
   "outputs": [],
   "source": [
    "#44. convert a list of words in string"
   ]
  },
  {
   "cell_type": "code",
   "execution_count": 9,
   "id": "a595925a-5891-4abb-8065-0edd05bd5eed",
   "metadata": {},
   "outputs": [
    {
     "name": "stdout",
     "output_type": "stream",
     "text": [
      "Converted string: Hello, this is a sample sentence.\n"
     ]
    }
   ],
   "source": [
    "word_list = [\"Hello,\", \"this\", \"is\", \"a\", \"sample\", \"sentence.\"]\n",
    "\n",
    "# Convert the list of words into a string\n",
    "my_string = \" \".join(word_list)\n",
    "\n",
    "# Print the resulting string\n",
    "print(\"Converted string:\", my_string)"
   ]
  },
  {
   "cell_type": "code",
   "execution_count": null,
   "id": "e90887a7-e943-43d7-87ff-aac1843c4dcd",
   "metadata": {},
   "outputs": [],
   "source": [
    "#45.Create a list of the first n powers of 2. "
   ]
  },
  {
   "cell_type": "code",
   "execution_count": 10,
   "id": "ca109caa-63bf-4d95-94e0-b265f04d3c1d",
   "metadata": {},
   "outputs": [
    {
     "name": "stdout",
     "output_type": "stream",
     "text": [
      "List of the first 5 powers of 2: [1, 2, 4, 8, 16]\n"
     ]
    }
   ],
   "source": [
    "n = 5\n",
    "\n",
    "# Create a list of the first n powers of 2 using a loop\n",
    "power_list = [2 ** i for i in range(n)]\n",
    "\n",
    "# Print the list of powers of 2\n",
    "print(\"List of the first\", n, \"powers of 2:\", power_list)"
   ]
  },
  {
   "cell_type": "code",
   "execution_count": null,
   "id": "d3612c20-6099-44a5-b83d-22d4b00b9328",
   "metadata": {},
   "outputs": [],
   "source": [
    "#46.Find the longest string in a list of strings. "
   ]
  },
  {
   "cell_type": "code",
   "execution_count": 12,
   "id": "8df1be8b-6238-489c-981e-489920888e2f",
   "metadata": {},
   "outputs": [
    {
     "name": "stdout",
     "output_type": "stream",
     "text": [
      "Longest string: elderberry\n"
     ]
    }
   ],
   "source": [
    "string_list = [\"apple\", \"banana\", \"cherry\", \"date\", \"elderberry\"]\n",
    "\n",
    "# Find the longest string in the list\n",
    "longest_string = \"\"\n",
    "for s in string_list:\n",
    "    if len(s) > len(longest_string):\n",
    "        longest_string = s\n",
    "\n",
    "# Print the longest string\n",
    "print(\"Longest string:\", longest_string)"
   ]
  },
  {
   "cell_type": "code",
   "execution_count": null,
   "id": "f87f30ab-ccc1-4bc6-8687-7309d828529a",
   "metadata": {},
   "outputs": [],
   "source": [
    "#47. Find the shortest string in a list of strings."
   ]
  },
  {
   "cell_type": "code",
   "execution_count": 13,
   "id": "d71c3dc3-bf98-4590-8282-9ef3279dd998",
   "metadata": {},
   "outputs": [
    {
     "name": "stdout",
     "output_type": "stream",
     "text": [
      "Shortest string: date\n"
     ]
    }
   ],
   "source": [
    "string_list = [\"apple\", \"banana\", \"cherry\", \"date\", \"elderberry\"]\n",
    "\n",
    "# Find the shortest string in the list\n",
    "shortest_string = string_list[0]  # Initialize with the first string\n",
    "for s in string_list:\n",
    "    if len(s) < len(shortest_string):\n",
    "        shortest_string = s\n",
    "\n",
    "# Print the shortest string\n",
    "print(\"Shortest string:\", shortest_string)"
   ]
  },
  {
   "cell_type": "code",
   "execution_count": null,
   "id": "ca4edb6d-c01a-4f27-80cc-8915400ada13",
   "metadata": {},
   "outputs": [],
   "source": [
    "#48. Create a list of the first n triangular numbers."
   ]
  },
  {
   "cell_type": "code",
   "execution_count": 14,
   "id": "7700e38c-4906-46a9-96c2-d34eb9550348",
   "metadata": {},
   "outputs": [
    {
     "name": "stdout",
     "output_type": "stream",
     "text": [
      "List of the first 5 triangular numbers: [1, 3, 6, 10, 15]\n"
     ]
    }
   ],
   "source": [
    "def triangular_numbers(n):\n",
    "    return [i * (i + 1) // 2 for i in range(1, n + 1)]\n",
    "\n",
    "# Specify the value of n\n",
    "n = 5\n",
    "\n",
    "# Create a list of the first n triangular numbers\n",
    "triangular_list = triangular_numbers(n)\n",
    "\n",
    "# Print the list of triangular numbers\n",
    "print(\"List of the first\", n, \"triangular numbers:\", triangular_list)"
   ]
  },
  {
   "cell_type": "code",
   "execution_count": null,
   "id": "a7d21e23-bbab-4647-9f57-4722bf89c4a9",
   "metadata": {},
   "outputs": [],
   "source": [
    "#49. Check if a list contains another list as a subsequence."
   ]
  },
  {
   "cell_type": "code",
   "execution_count": 15,
   "id": "bf548c5d-2c96-4ece-a5b8-2b37cdbcceb5",
   "metadata": {},
   "outputs": [
    {
     "name": "stdout",
     "output_type": "stream",
     "text": [
      "Main list contains the subsequence.\n"
     ]
    }
   ],
   "source": [
    "def is_subsequence(subsequence, main_list):\n",
    "    subseq_index = 0  # Index for the subsequence elements\n",
    "    for element in main_list:\n",
    "        if element == subsequence[subseq_index]:\n",
    "            subseq_index += 1\n",
    "            if subseq_index == len(subsequence):\n",
    "                return True\n",
    "    return False\n",
    "\n",
    "# Example main list and subsequence\n",
    "main_list = [1, 2, 3, 4, 5, 6, 7, 8, 9, 10]\n",
    "subsequence = [3, 5, 8]\n",
    "\n",
    "# Check if the main list contains the subsequence\n",
    "if is_subsequence(subsequence, main_list):\n",
    "    print(\"Main list contains the subsequence.\")\n",
    "else:\n",
    "    print(\"Main list does not contain the subsequence.\")"
   ]
  },
  {
   "cell_type": "code",
   "execution_count": null,
   "id": "168debbc-1c94-4d56-adc5-6f360ab5e791",
   "metadata": {},
   "outputs": [],
   "source": [
    "#50.Swap two elements in a list by their indices."
   ]
  },
  {
   "cell_type": "code",
   "execution_count": 16,
   "id": "005cf6bb-20c2-4cd0-b769-b78be29d5ec0",
   "metadata": {},
   "outputs": [
    {
     "name": "stdout",
     "output_type": "stream",
     "text": [
      "List after swapping elements: [1, 4, 3, 2, 5]\n"
     ]
    }
   ],
   "source": [
    "my_list = [1, 2, 3, 4, 5]\n",
    "\n",
    "# Indices of elements to swap\n",
    "index1 = 1\n",
    "index2 = 3\n",
    "\n",
    "# Swap the elements at the specified indices\n",
    "temp = my_list[index1]\n",
    "my_list[index1] = my_list[index2]\n",
    "my_list[index2] = temp\n",
    "\n",
    "# Print the list after swapping\n",
    "print(\"List after swapping elements:\", my_list)"
   ]
  },
  {
   "cell_type": "code",
   "execution_count": null,
   "id": "cef662a7-1066-472e-bc3c-4181ef3080c5",
   "metadata": {},
   "outputs": [],
   "source": [
    "Tuple based practice problem :\n",
    "1. Create a tuple with integers from 1 to 5."
   ]
  },
  {
   "cell_type": "code",
   "execution_count": 1,
   "id": "3504d365-df41-4952-85e1-10c7ef118d5b",
   "metadata": {},
   "outputs": [
    {
     "name": "stdout",
     "output_type": "stream",
     "text": [
      "(1, 2, 3, 4, 5)\n"
     ]
    }
   ],
   "source": [
    "my_tuple = (1, 2, 3, 4, 5)\n",
    "print(my_tuple)"
   ]
  },
  {
   "cell_type": "code",
   "execution_count": null,
   "id": "4c04160c-3c3e-4126-b0b8-3e4af074252e",
   "metadata": {},
   "outputs": [],
   "source": [
    "#2. ACCESS THE THIRD ELEMENT OF THE TUPLE"
   ]
  },
  {
   "cell_type": "code",
   "execution_count": 2,
   "id": "292505ff-d231-41a0-8eac-4305afe38e09",
   "metadata": {},
   "outputs": [
    {
     "name": "stdout",
     "output_type": "stream",
     "text": [
      "The third element of the tuple is: 30\n"
     ]
    }
   ],
   "source": [
    "\n",
    "# Step 1: Create a tuple with some elements\n",
    "my_tuple = (10, 20, 30, 40, 50)\n",
    "\n",
    "# Step 2: Access the third element (index 2) of the tuple\n",
    "third_element = my_tuple[2]\n",
    "\n",
    "# Step 3: Print the third element\n",
    "print(\"The third element of the tuple is:\", third_element)"
   ]
  },
  {
   "cell_type": "code",
   "execution_count": null,
   "id": "7b3c8913-3ce2-47a7-9522-194463af9ad6",
   "metadata": {},
   "outputs": [],
   "source": [
    "#3. Find the length of a tuple without using the len() function."
   ]
  },
  {
   "cell_type": "code",
   "execution_count": 3,
   "id": "b3e91780-9674-404b-b3fe-0592728b2fbd",
   "metadata": {},
   "outputs": [
    {
     "name": "stdout",
     "output_type": "stream",
     "text": [
      "The length of the tuple is: 5\n"
     ]
    }
   ],
   "source": [
    "my_tuple = (10, 20, 30, 40, 50)\n",
    "\n",
    "# Step 2: Initialize a variable to count the elements\n",
    "count = 0\n",
    "\n",
    "# Step 3: Iterate through the tuple and increment the count for each element\n",
    "for i in my_tuple:\n",
    "    count += 1\n",
    "\n",
    "# Step 4: Print the length of the tuple\n",
    "print(\"The length of the tuple is:\", count)"
   ]
  },
  {
   "cell_type": "code",
   "execution_count": null,
   "id": "e06c06f4-413f-474f-a026-4584dec1d06f",
   "metadata": {},
   "outputs": [],
   "source": [
    "#4. Count the occurrences of an element in a tuple."
   ]
  },
  {
   "cell_type": "code",
   "execution_count": 4,
   "id": "20bdb339-db91-4b6b-bc6a-7cccf6b105db",
   "metadata": {},
   "outputs": [
    {
     "name": "stdout",
     "output_type": "stream",
     "text": [
      "The element 20 appears 3 times in the tuple.\n"
     ]
    }
   ],
   "source": [
    "my_tuple = (10, 20, 30, 20, 40, 50, 20)\n",
    "\n",
    "# Step 2: Choose the element to count occurrences of\n",
    "element_to_count = 20\n",
    "\n",
    "# Step 3: Initialize a variable to keep track of the count\n",
    "count = 0\n",
    "\n",
    "# Step 4: Iterate through the tuple and count occurrences of the chosen element\n",
    "for item in my_tuple:\n",
    "    if item == element_to_count:\n",
    "        count += 1\n",
    "\n",
    "# Step 5: Print the count of occurrences\n",
    "print(f\"The element {element_to_count} appears {count} times in the tuple.\")"
   ]
  },
  {
   "cell_type": "code",
   "execution_count": null,
   "id": "edbf39f0-0fa4-4376-ba19-535a6af8742d",
   "metadata": {},
   "outputs": [],
   "source": [
    "#5. Find the index of the first occurrence of an element in a tuple."
   ]
  },
  {
   "cell_type": "code",
   "execution_count": 17,
   "id": "ec3efda6-a283-4577-ab54-7ccc0524f5fd",
   "metadata": {},
   "outputs": [
    {
     "name": "stdout",
     "output_type": "stream",
     "text": [
      "1\n",
      "1\n"
     ]
    }
   ],
   "source": [
    "my_tuple = (10, 20, 30, 20, 40, 50)\n",
    "\n",
    "# Step 2: Choose the element to find the index of\n",
    "element_to_find = 20\n",
    "\n",
    "for element in my_tuple:\n",
    "    if element==element_to_find:\n",
    "        index=my_tuple.index(element)\n",
    "        print(index)\n",
    "   \n",
    "    "
   ]
  },
  {
   "cell_type": "code",
   "execution_count": null,
   "id": "16da341c-1e9f-47c2-b7bf-772f6ff5b847",
   "metadata": {},
   "outputs": [],
   "source": [
    "#6. Check if an element exists in a tuple."
   ]
  },
  {
   "cell_type": "code",
   "execution_count": 18,
   "id": "f94a56b6-2742-4718-8f90-fcfb01d35f3f",
   "metadata": {},
   "outputs": [
    {
     "name": "stdout",
     "output_type": "stream",
     "text": [
      "30 exists in the tuple.\n"
     ]
    }
   ],
   "source": [
    "my_tuple = (10, 20, 30, 40, 50)\n",
    "\n",
    "# Step 2: Choose the element to check for existence\n",
    "element_to_check = 30\n",
    "\n",
    "# Step 3: Check if the element exists in the tuple using the 'in' operator\n",
    "if element_to_check in my_tuple:\n",
    "    print(f\"{element_to_check} exists in the tuple.\")\n",
    "else:\n",
    "    print(f\"{element_to_check} does not exist in the tuple.\")"
   ]
  },
  {
   "cell_type": "code",
   "execution_count": null,
   "id": "5161ad08-8fce-4dfc-bdf4-35513f172612",
   "metadata": {},
   "outputs": [],
   "source": [
    "#7. Convert a tuple to a list."
   ]
  },
  {
   "cell_type": "code",
   "execution_count": 19,
   "id": "dbfd175f-5c0a-413a-aea4-43651e9a4e18",
   "metadata": {},
   "outputs": [
    {
     "name": "stdout",
     "output_type": "stream",
     "text": [
      "Tuple: (10, 20, 30, 40, 50)\n",
      "List: [10, 20, 30, 40, 50]\n"
     ]
    }
   ],
   "source": [
    "my_tuple = (10, 20, 30, 40, 50)\n",
    "\n",
    "# Step 2: Convert the tuple to a list\n",
    "my_list = list(my_tuple)\n",
    "\n",
    "# Step 3: Print the resulting list\n",
    "print(\"Tuple:\", my_tuple)\n",
    "print(\"List:\", my_list)"
   ]
  },
  {
   "cell_type": "code",
   "execution_count": null,
   "id": "8ab8e427-a7ba-4611-9d87-c55f86c41528",
   "metadata": {},
   "outputs": [],
   "source": [
    "#8. Convert a list to a tuple."
   ]
  },
  {
   "cell_type": "code",
   "execution_count": 20,
   "id": "a0cf2ac2-1dd5-4905-9fc6-0537910249f0",
   "metadata": {},
   "outputs": [
    {
     "name": "stdout",
     "output_type": "stream",
     "text": [
      "List: [10, 20, 30, 40, 50]\n",
      "Tuple: (10, 20, 30, 40, 50)\n"
     ]
    }
   ],
   "source": [
    "my_list = [10, 20, 30, 40, 50]\n",
    "\n",
    "# Step 2: Convert the list to a tuple\n",
    "my_tuple = tuple(my_list)\n",
    "\n",
    "# Step 3: Print the resulting tuple\n",
    "print(\"List:\", my_list)\n",
    "print(\"Tuple:\", my_tuple)\n"
   ]
  },
  {
   "cell_type": "code",
   "execution_count": null,
   "id": "2e3993b2-7ce1-4081-96b4-02c612a11216",
   "metadata": {},
   "outputs": [],
   "source": [
    "#9.Unpack the elements of a tuple into variables."
   ]
  },
  {
   "cell_type": "code",
   "execution_count": 21,
   "id": "4b2bd0bf-1d30-4124-a6c1-077491cdba8a",
   "metadata": {},
   "outputs": [
    {
     "name": "stdout",
     "output_type": "stream",
     "text": [
      "var1: 10\n",
      "var2: 20\n",
      "var3: 30\n"
     ]
    }
   ],
   "source": [
    "my_tuple = (10, 20, 30)\n",
    "\n",
    "# Step 2: Unpack the elements of the tuple into variables\n",
    "var1, var2, var3 = my_tuple\n",
    "\n",
    "# Step 3: Print the variables\n",
    "print(\"var1:\", var1)\n",
    "print(\"var2:\", var2)\n",
    "print(\"var3:\", var3)"
   ]
  },
  {
   "cell_type": "code",
   "execution_count": null,
   "id": "d1c885e2-410a-4e7f-b0fc-a085e8238754",
   "metadata": {},
   "outputs": [],
   "source": [
    "#10. Create a tuple of even numbers from 1 to 10."
   ]
  },
  {
   "cell_type": "code",
   "execution_count": 22,
   "id": "105ce49a-64c5-4bc7-9f8a-32cb458f30eb",
   "metadata": {},
   "outputs": [
    {
     "name": "stdout",
     "output_type": "stream",
     "text": [
      "Tuple of even numbers: (2, 4, 6, 8, 10)\n"
     ]
    }
   ],
   "source": [
    " even_numbers_list = [num for num in range(2, 11, 2)]  # Start from 2, step by 2, end at 10\n",
    "\n",
    "# Step 2: Convert the list to a tuple\n",
    "even_numbers_tuple = tuple(even_numbers_list)\n",
    "\n",
    "# Step 3: Print the resulting tuple\n",
    "print(\"Tuple of even numbers:\", even_numbers_tuple)"
   ]
  },
  {
   "cell_type": "code",
   "execution_count": null,
   "id": "686a6835-7480-4b2d-8fff-e3a01c9a4e87",
   "metadata": {},
   "outputs": [],
   "source": [
    "#11. Create a tuple of odd numbers from 1 to 10."
   ]
  },
  {
   "cell_type": "code",
   "execution_count": 23,
   "id": "049abe68-4d59-4a88-af23-2f057e1c5eb9",
   "metadata": {},
   "outputs": [
    {
     "name": "stdout",
     "output_type": "stream",
     "text": [
      "(1, 3, 5, 7, 9)\n"
     ]
    }
   ],
   "source": [
    "odd_numbers_list=[num for num in range(1,11,2)]\n",
    "odd_numbers_tuple=tuple(odd_numbers_list)\n",
    "print(odd_numbers_tuple)"
   ]
  },
  {
   "cell_type": "code",
   "execution_count": null,
   "id": "ee317736-06da-4ec0-96a1-f5bf80d8eac8",
   "metadata": {},
   "outputs": [],
   "source": [
    "#12. Concatenate two tuples."
   ]
  },
  {
   "cell_type": "code",
   "execution_count": 24,
   "id": "1252a8f4-8406-4fd2-90ed-e8cb45002c27",
   "metadata": {},
   "outputs": [
    {
     "name": "stdout",
     "output_type": "stream",
     "text": [
      "Concatenated tuple: (1, 2, 3, 4, 5, 6)\n"
     ]
    }
   ],
   "source": [
    "tuple1 = (1, 2, 3)\n",
    "tuple2 = (4, 5, 6)\n",
    "\n",
    "# Step 2: Concatenate the two tuples\n",
    "concatenated_tuple = tuple1 + tuple2\n",
    "\n",
    "# Step 3: Print the concatenated tuple\n",
    "print(\"Concatenated tuple:\", concatenated_tuple)"
   ]
  },
  {
   "cell_type": "code",
   "execution_count": null,
   "id": "01b14efb-e46a-4207-a0bb-52b89d39ffbb",
   "metadata": {},
   "outputs": [],
   "source": [
    "#13. Repeat a tuple three times."
   ]
  },
  {
   "cell_type": "code",
   "execution_count": 25,
   "id": "190043e0-59c9-4e74-b541-f282c4bd600d",
   "metadata": {},
   "outputs": [
    {
     "name": "stdout",
     "output_type": "stream",
     "text": [
      "Repeated tuple: (1, 2, 3, 1, 2, 3, 1, 2, 3)\n"
     ]
    }
   ],
   "source": [
    "original_tuple = (1, 2, 3)\n",
    "\n",
    "# Step 2: Repeat the tuple three times\n",
    "repeated_tuple = original_tuple * 3\n",
    "\n",
    "# Step 3: Print the repeated tuple\n",
    "print(\"Repeated tuple:\", repeated_tuple)"
   ]
  },
  {
   "cell_type": "code",
   "execution_count": null,
   "id": "dc0509be-7a8c-4d47-855d-bca7c4272903",
   "metadata": {},
   "outputs": [],
   "source": [
    "#14. Check if a tuple is empty.\n"
   ]
  },
  {
   "cell_type": "code",
   "execution_count": 26,
   "id": "036bec69-01d0-4f7d-ac4c-02fdf0e0c683",
   "metadata": {},
   "outputs": [
    {
     "name": "stdout",
     "output_type": "stream",
     "text": [
      "The empty_tuple is empty.\n",
      "The non_empty_tuple is not empty.\n"
     ]
    }
   ],
   "source": [
    "empty_tuple = ()\n",
    "non_empty_tuple = (1, 2, 3)\n",
    "\n",
    "# Step 2: Check if the tuples are empty\n",
    "if not empty_tuple:\n",
    "    print(\"The empty_tuple is empty.\")\n",
    "else:\n",
    "    print(\"The empty_tuple is not empty.\")\n",
    "\n",
    "if not non_empty_tuple:\n",
    "    print(\"The non_empty_tuple is empty.\")\n",
    "else:\n",
    "    print(\"The non_empty_tuple is not empty.\")"
   ]
  },
  {
   "cell_type": "code",
   "execution_count": null,
   "id": "c0550752-1fcb-4b3d-94cd-d63491850a37",
   "metadata": {},
   "outputs": [],
   "source": [
    "#15. Create a nested tuple."
   ]
  },
  {
   "cell_type": "code",
   "execution_count": 27,
   "id": "3eed76c0-1e39-455d-8516-f23b190f5301",
   "metadata": {},
   "outputs": [
    {
     "name": "stdout",
     "output_type": "stream",
     "text": [
      "Nested tuple: ((1, 2, 3), ('a', 'b', 'c'), (True, False))\n"
     ]
    }
   ],
   "source": [
    "nested_tuple = ((1, 2, 3), ('a', 'b', 'c'), (True, False))\n",
    "\n",
    "# Step 2: Print the nested tuple\n",
    "print(\"Nested tuple:\", nested_tuple)"
   ]
  },
  {
   "cell_type": "code",
   "execution_count": null,
   "id": "2d2be123-92bb-46ee-a9a6-bc536854aa8f",
   "metadata": {},
   "outputs": [],
   "source": [
    "#16. Access the first element of a nested tuple."
   ]
  },
  {
   "cell_type": "code",
   "execution_count": 28,
   "id": "5d5033e2-6b2e-449c-b083-b5eaad6f07a6",
   "metadata": {},
   "outputs": [
    {
     "name": "stdout",
     "output_type": "stream",
     "text": [
      "First element of the nested tuple: (1, 2, 3)\n"
     ]
    }
   ],
   "source": [
    "nested_tuple = ((1, 2, 3), ('a', 'b', 'c'), (True, False))\n",
    "\n",
    "# Step 2: Access the first element of the nested tuple\n",
    "first_element = nested_tuple[0]\n",
    "\n",
    "# Step 3: Print the first element\n",
    "print(\"First element of the nested tuple:\", first_element)"
   ]
  },
  {
   "cell_type": "code",
   "execution_count": null,
   "id": "e88eb078-6d63-4121-8f4f-e6784e5aaea2",
   "metadata": {},
   "outputs": [],
   "source": [
    "#17. Create a tuple with a single element."
   ]
  },
  {
   "cell_type": "code",
   "execution_count": 29,
   "id": "a82059b1-47f4-4e46-9853-0b95018fbf79",
   "metadata": {},
   "outputs": [
    {
     "name": "stdout",
     "output_type": "stream",
     "text": [
      "Single element tuple: (42,)\n"
     ]
    }
   ],
   "source": [
    "single_element_tuple = (42,)  # Note the trailing comma\n",
    "\n",
    "# Step 2: Print the single element tuple\n",
    "print(\"Single element tuple:\", single_element_tuple)"
   ]
  },
  {
   "cell_type": "code",
   "execution_count": null,
   "id": "b1710561-5122-4c9d-b8cd-652398226ccf",
   "metadata": {},
   "outputs": [],
   "source": [
    "#18. Compare two tuples."
   ]
  },
  {
   "cell_type": "code",
   "execution_count": 30,
   "id": "9d126b47-aa3f-4dc2-9298-6543ced4b94c",
   "metadata": {},
   "outputs": [
    {
     "name": "stdout",
     "output_type": "stream",
     "text": [
      "tuple1 == tuple2: False\n",
      "tuple1 != tuple2: True\n",
      "tuple1 < tuple2: True\n",
      "tuple1 <= tuple2: True\n",
      "tuple1 > tuple2: False\n",
      "tuple1 >= tuple2: False\n"
     ]
    }
   ],
   "source": [
    "tuple1 = (1, 2, 3)\n",
    "tuple2 = (1, 2, 4)\n",
    "\n",
    "# Step 2: Compare the two tuples using comparison operators\n",
    "print(\"tuple1 == tuple2:\", tuple1 == tuple2)  # Equality check\n",
    "print(\"tuple1 != tuple2:\", tuple1 != tuple2)  # Inequality check\n",
    "print(\"tuple1 < tuple2:\", tuple1 < tuple2)    # Less than check\n",
    "print(\"tuple1 <= tuple2:\", tuple1 <= tuple2)  # Less than or equal to check\n",
    "print(\"tuple1 > tuple2:\", tuple1 > tuple2)    # Greater than check\n",
    "print(\"tuple1 >= tuple2:\", tuple1 >= tuple2)  # Greater than or equal to check"
   ]
  },
  {
   "cell_type": "code",
   "execution_count": null,
   "id": "7f48d157-b727-44e9-9821-7dd0f79f093d",
   "metadata": {},
   "outputs": [],
   "source": [
    "#19. delete a tuple"
   ]
  },
  {
   "cell_type": "code",
   "execution_count": 31,
   "id": "4f4d9e9f-4c42-454b-b266-b16f096db6cf",
   "metadata": {},
   "outputs": [
    {
     "ename": "NameError",
     "evalue": "name 'my_tuple' is not defined",
     "output_type": "error",
     "traceback": [
      "\u001b[0;31m---------------------------------------------------------------------------\u001b[0m",
      "\u001b[0;31mNameError\u001b[0m                                 Traceback (most recent call last)",
      "Cell \u001b[0;32mIn[31], line 7\u001b[0m\n\u001b[1;32m      4\u001b[0m \u001b[38;5;28;01mdel\u001b[39;00m my_tuple\n\u001b[1;32m      6\u001b[0m \u001b[38;5;66;03m# Step 3: Try to access the tuple (will raise a NameError)\u001b[39;00m\n\u001b[0;32m----> 7\u001b[0m \u001b[38;5;28mprint\u001b[39m(\u001b[43mmy_tuple\u001b[49m)\n",
      "\u001b[0;31mNameError\u001b[0m: name 'my_tuple' is not defined"
     ]
    }
   ],
   "source": [
    "my_tuple = (1, 2, 3, 4, 5)\n",
    "\n",
    "# Step 2: Delete the tuple using the 'del' statement\n",
    "del my_tuple\n",
    "\n",
    "# Step 3: Try to access the tuple (will raise a NameError)\n",
    "print(my_tuple)"
   ]
  },
  {
   "cell_type": "code",
   "execution_count": null,
   "id": "2ce2bc03-66dd-4d60-810f-9ae85f7c3f3c",
   "metadata": {},
   "outputs": [],
   "source": [
    "#20.Slice a tuple."
   ]
  },
  {
   "cell_type": "code",
   "execution_count": 32,
   "id": "42971da1-fab7-4df4-a5b4-581cc874b736",
   "metadata": {},
   "outputs": [
    {
     "name": "stdout",
     "output_type": "stream",
     "text": [
      "Sliced tuple: (3, 4, 5, 6)\n"
     ]
    }
   ],
   "source": [
    "my_tuple = (1, 2, 3, 4, 5, 6, 7, 8, 9, 10)\n",
    "\n",
    "# Step 2: Slice the tuple to get a portion of it\n",
    "sliced_tuple = my_tuple[2:6]  # Elements from index 2 to 5 (end index is exclusive)\n",
    "\n",
    "# Step 3: Print the sliced tuple\n",
    "print(\"Sliced tuple:\", sliced_tuple)"
   ]
  },
  {
   "cell_type": "code",
   "execution_count": null,
   "id": "3da42ced-139c-45e3-b33e-d533eea288fe",
   "metadata": {},
   "outputs": [],
   "source": [
    "#21. Find the maximum value in a tuple."
   ]
  },
  {
   "cell_type": "code",
   "execution_count": 33,
   "id": "035d9253-b97c-4e40-9124-0bcb40ea6986",
   "metadata": {},
   "outputs": [
    {
     "name": "stdout",
     "output_type": "stream",
     "text": [
      "Maximum value: 45\n"
     ]
    }
   ],
   "source": [
    "my_tuple = (10, 20, 5, 45, 30)\n",
    "\n",
    "# Step 2: Find the maximum value in the tuple using the 'max()' function\n",
    "max_value = max(my_tuple)\n",
    "\n",
    "# Step 3: Print the maximum value\n",
    "print(\"Maximum value:\", max_value)"
   ]
  },
  {
   "cell_type": "code",
   "execution_count": null,
   "id": "6883f57e-07a7-4a74-87d1-439777cd9541",
   "metadata": {},
   "outputs": [],
   "source": [
    "#22. Find the minimum value in a tuple."
   ]
  },
  {
   "cell_type": "code",
   "execution_count": 34,
   "id": "42ee1db6-c163-4737-9f85-de0c3ace9716",
   "metadata": {},
   "outputs": [
    {
     "name": "stdout",
     "output_type": "stream",
     "text": [
      "Minimum value: 5\n"
     ]
    }
   ],
   "source": [
    "my_tuple = (10, 20, 5, 45, 30)\n",
    "\n",
    "# Step 2: Find the minimum value in the tuple using the 'min()' function\n",
    "min_value = min(my_tuple)\n",
    "\n",
    "# Step 3: Print the minimum value\n",
    "print(\"Minimum value:\", min_value)"
   ]
  },
  {
   "cell_type": "code",
   "execution_count": null,
   "id": "54473ddb-106c-4abc-9ec3-da7f9532f635",
   "metadata": {},
   "outputs": [],
   "source": [
    "#23. Convert a string to a tuple of characters."
   ]
  },
  {
   "cell_type": "code",
   "execution_count": 35,
   "id": "02fd6d1b-4ffb-4288-a798-f2e67657b0ef",
   "metadata": {},
   "outputs": [
    {
     "name": "stdout",
     "output_type": "stream",
     "text": [
      "Tuple of characters: ('H', 'e', 'l', 'l', 'o', ',', ' ', 'W', 'o', 'r', 'l', 'd', '!')\n"
     ]
    }
   ],
   "source": [
    "my_string = \"Hello, World!\"\n",
    "\n",
    "# Step 2: Convert the string to a tuple of characters\n",
    "tuple_of_characters = tuple(my_string)\n",
    "\n",
    "# Step 3: Print the tuple of characters\n",
    "print(\"Tuple of characters:\", tuple_of_characters)"
   ]
  },
  {
   "cell_type": "code",
   "execution_count": null,
   "id": "953c90a6-b0df-439d-acd3-9ad73c850e75",
   "metadata": {},
   "outputs": [],
   "source": [
    "#24. Convert a tuple of characters to a string."
   ]
  },
  {
   "cell_type": "code",
   "execution_count": 36,
   "id": "c96a7946-b022-4b3c-80e4-ec0f9437516c",
   "metadata": {},
   "outputs": [
    {
     "name": "stdout",
     "output_type": "stream",
     "text": [
      "String from tuple: Hello World!\n"
     ]
    }
   ],
   "source": [
    "tuple_of_characters = ('H', 'e', 'l', 'l', 'o', ' ', 'W', 'o', 'r', 'l', 'd', '!')\n",
    "\n",
    "# Step 2: Convert the tuple of characters to a string using the 'join()' method\n",
    "string_from_tuple = ''.join(tuple_of_characters)\n",
    "\n",
    "# Step 3: Print the resulting string\n",
    "print(\"String from tuple:\", string_from_tuple)"
   ]
  },
  {
   "cell_type": "code",
   "execution_count": null,
   "id": "4eaca83c-017c-4635-a9ef-b384136d444c",
   "metadata": {},
   "outputs": [],
   "source": [
    "#25. Create a tuple from multiple data types."
   ]
  },
  {
   "cell_type": "code",
   "execution_count": 37,
   "id": "b9356b6a-9e07-4f6f-b784-5808354ce749",
   "metadata": {},
   "outputs": [
    {
     "name": "stdout",
     "output_type": "stream",
     "text": [
      "(1, 'hello', 3.14, True)\n"
     ]
    }
   ],
   "source": [
    "mixed_tuple = (1, \"hello\", 3.14, True)\n",
    "\n",
    "# Printing the tuple\n",
    "print(mixed_tuple)"
   ]
  },
  {
   "cell_type": "code",
   "execution_count": null,
   "id": "1733b7d2-57b2-45ba-bb65-d31917359b9a",
   "metadata": {},
   "outputs": [],
   "source": [
    "#26. Check if two tuples are identical."
   ]
  },
  {
   "cell_type": "code",
   "execution_count": 38,
   "id": "673c9e38-c639-46da-b345-18a2ae1c0041",
   "metadata": {},
   "outputs": [
    {
     "name": "stdout",
     "output_type": "stream",
     "text": [
      "tuple1 and tuple2 are identical: True\n",
      "tuple1 and tuple3 are identical: False\n"
     ]
    }
   ],
   "source": [
    "tuple1 = (1, 2, 3)\n",
    "tuple2 = (1, 2, 3)\n",
    "tuple3 = (4, 5, 6)\n",
    "\n",
    "# Step 2: Compare the tuples for identity using the equality operator\n",
    "are_identical1 = tuple1 == tuple2\n",
    "are_identical2 = tuple1 == tuple3\n",
    "\n",
    "# Step 3: Print the results\n",
    "print(\"tuple1 and tuple2 are identical:\", are_identical1)\n",
    "print(\"tuple1 and tuple3 are identical:\", are_identical2)"
   ]
  },
  {
   "cell_type": "code",
   "execution_count": null,
   "id": "462d673b-faa7-4907-a933-1888db933914",
   "metadata": {},
   "outputs": [],
   "source": [
    "#27. Sort the elements of a tuple."
   ]
  },
  {
   "cell_type": "code",
   "execution_count": 39,
   "id": "0304ccd9-9934-4ada-86ca-39ac2d221b76",
   "metadata": {},
   "outputs": [
    {
     "name": "stdout",
     "output_type": "stream",
     "text": [
      "Sorted tuple: (1, 2, 3, 5, 8)\n"
     ]
    }
   ],
   "source": [
    "my_tuple = (5, 2, 8, 1, 3)\n",
    "\n",
    "# Step 2: Convert the tuple to a list, sort the list, and convert it back to a tuple\n",
    "sorted_tuple = tuple(sorted(my_tuple))\n",
    "\n",
    "# Step 3: Print the sorted tuple\n",
    "print(\"Sorted tuple:\", sorted_tuple)"
   ]
  },
  {
   "cell_type": "code",
   "execution_count": null,
   "id": "6de84ba9-e0c0-4086-b07d-06ca73e11859",
   "metadata": {},
   "outputs": [],
   "source": [
    "#28. Convert a tuple of integers to a tuple of strings."
   ]
  },
  {
   "cell_type": "code",
   "execution_count": 40,
   "id": "5912b08b-8260-4146-9a59-b8c8d425640b",
   "metadata": {},
   "outputs": [
    {
     "name": "stdout",
     "output_type": "stream",
     "text": [
      "Tuple of strings: ('1', '2', '3', '4', '5')\n"
     ]
    }
   ],
   "source": [
    "tuple_of_integers = (1, 2, 3, 4, 5)\n",
    "\n",
    "# Step 2: Convert the tuple of integers to a tuple of strings using a list comprehension\n",
    "tuple_of_strings = tuple(str(item) for item in tuple_of_integers)\n",
    "\n",
    "# Step 3: Print the tuple of strings\n",
    "print(\"Tuple of strings:\", tuple_of_strings)"
   ]
  },
  {
   "cell_type": "code",
   "execution_count": null,
   "id": "1b1ffd00-2830-47fd-ad71-7a6f6181f5df",
   "metadata": {},
   "outputs": [],
   "source": [
    "#29. Convert a tuple of strings to a tuple of integers."
   ]
  },
  {
   "cell_type": "code",
   "execution_count": 41,
   "id": "9d0ed647-8d97-44a3-868f-a8c5f711c68c",
   "metadata": {},
   "outputs": [
    {
     "name": "stdout",
     "output_type": "stream",
     "text": [
      "Tuple of integers: (10, 20, 30, 40, 50)\n"
     ]
    }
   ],
   "source": [
    "tuple_of_strings = ('10', '20', '30', '40', '50')\n",
    "\n",
    "# Step 2: Convert the tuple of strings to a tuple of integers using a list comprehension\n",
    "tuple_of_integers = tuple(int(item) for item in tuple_of_strings)\n",
    "\n",
    "# Step 3: Print the tuple of integers\n",
    "print(\"Tuple of integers:\", tuple_of_integers)"
   ]
  },
  {
   "cell_type": "code",
   "execution_count": null,
   "id": "eba41a12-be1a-489d-9490-b3444a5bca73",
   "metadata": {},
   "outputs": [],
   "source": [
    "#30. Merge two tuples."
   ]
  },
  {
   "cell_type": "code",
   "execution_count": 42,
   "id": "cb501dc3-d34e-44a7-b161-fda05fe70d7d",
   "metadata": {},
   "outputs": [
    {
     "name": "stdout",
     "output_type": "stream",
     "text": [
      "Merged tuple: (1, 2, 3, 4, 5, 6)\n"
     ]
    }
   ],
   "source": [
    "tuple1 = (1, 2, 3)\n",
    "tuple2 = (4, 5, 6)\n",
    "\n",
    "# Step 2: Merge the two tuples using the '+' operator\n",
    "merged_tuple = tuple1 + tuple2\n",
    "\n",
    "# Step 3: Print the merged tuple\n",
    "print(\"Merged tuple:\", merged_tuple)"
   ]
  },
  {
   "cell_type": "code",
   "execution_count": null,
   "id": "e860846b-58b1-4a65-9752-fedfdffb7728",
   "metadata": {},
   "outputs": [],
   "source": [
    "#31. Flatten a nested tuple."
   ]
  },
  {
   "cell_type": "code",
   "execution_count": 43,
   "id": "510ef52d-1652-46b9-a77e-ab111d6fd0c7",
   "metadata": {},
   "outputs": [
    {
     "name": "stdout",
     "output_type": "stream",
     "text": [
      "Flattened tuple: (1, 2, 3, 4, 5, 6, 7, 8)\n"
     ]
    }
   ],
   "source": [
    "def flatten_tuple(nested_tuple):\n",
    "    flattened = []\n",
    "    for item in nested_tuple:\n",
    "        if isinstance(item, tuple):\n",
    "            flattened.extend(flatten_tuple(item))\n",
    "        else:\n",
    "            flattened.append(item)\n",
    "    return flattened\n",
    "\n",
    "# Step 1: Create a nested tuple\n",
    "nested_tuple = ((1, 2), (3, 4, 5), (6, (7, 8)))\n",
    "\n",
    "# Step 2: Flatten the nested tuple\n",
    "flattened_tuple = tuple(flatten_tuple(nested_tuple))\n",
    "\n",
    "# Step 3: Print the flattened tuple\n",
    "print(\"Flattened tuple:\", flattened_tuple)"
   ]
  },
  {
   "cell_type": "code",
   "execution_count": null,
   "id": "9f9e1196-e830-4fb6-b063-4f4900944fb7",
   "metadata": {},
   "outputs": [],
   "source": [
    "#32. Create a tuple of the first 5 prime numbers."
   ]
  },
  {
   "cell_type": "code",
   "execution_count": 44,
   "id": "21c6b678-42f3-4f33-95b3-a540d53f9f96",
   "metadata": {},
   "outputs": [
    {
     "name": "stdout",
     "output_type": "stream",
     "text": [
      "Tuple of the first 5 prime numbers: (2, 3, 5, 7, 11)\n"
     ]
    }
   ],
   "source": [
    "def is_prime(num):\n",
    "    if num <= 1:\n",
    "        return False\n",
    "    for i in range(2, int(num ** 0.5) + 1):\n",
    "        if num % i == 0:\n",
    "            return False\n",
    "    return True\n",
    "\n",
    "# Generate the first 5 prime numbers\n",
    "prime_numbers_list = [num for num in range(2, 100) if is_prime(num)][:5]\n",
    "\n",
    "# Convert the list to a tuple\n",
    "prime_numbers_tuple = tuple(prime_numbers_list)\n",
    "\n",
    "# Print the tuple of prime numbers\n",
    "print(\"Tuple of the first 5 prime numbers:\", prime_numbers_tuple)"
   ]
  },
  {
   "cell_type": "code",
   "execution_count": null,
   "id": "9af46c5e-2c66-4ed1-9211-6f6141faae07",
   "metadata": {},
   "outputs": [],
   "source": [
    "#33. Check if a tuple is a palindrome."
   ]
  },
  {
   "cell_type": "code",
   "execution_count": 45,
   "id": "247db7ef-3f3b-48c6-a031-5d34a5e22135",
   "metadata": {},
   "outputs": [
    {
     "name": "stdout",
     "output_type": "stream",
     "text": [
      "palindrome_tuple is a palindrome: True\n",
      "non_palindrome_tuple is a palindrome: False\n"
     ]
    }
   ],
   "source": [
    "def is_palindrome(tup):\n",
    "    return tup == tup[::-1]\n",
    "\n",
    "# Create tuples for testing\n",
    "palindrome_tuple = (1, 2, 3, 2, 1)\n",
    "non_palindrome_tuple = (1, 2, 3, 4, 5)\n",
    "\n",
    "# Check if the tuples are palindromes\n",
    "is_palindrome1 = is_palindrome(palindrome_tuple)\n",
    "is_palindrome2 = is_palindrome(non_palindrome_tuple)\n",
    "\n",
    "# Print the results\n",
    "print(\"palindrome_tuple is a palindrome:\", is_palindrome1)\n",
    "print(\"non_palindrome_tuple is a palindrome:\", is_palindrome2)"
   ]
  },
  {
   "cell_type": "code",
   "execution_count": null,
   "id": "46ba53a1-ceaf-4db2-9952-c6df7f3db858",
   "metadata": {},
   "outputs": [],
   "source": [
    "#34. Create a tuple of squares of numbers from 1 to 5."
   ]
  },
  {
   "cell_type": "code",
   "execution_count": 46,
   "id": "4cf0d96c-05b3-44fc-b0ee-f51fc6e6ad0a",
   "metadata": {},
   "outputs": [
    {
     "name": "stdout",
     "output_type": "stream",
     "text": [
      "Tuple of squares: (1, 4, 9, 16, 25)\n"
     ]
    }
   ],
   "source": [
    "squares_tuple = tuple(x ** 2 for x in range(1, 6))\n",
    "\n",
    "# Print the tuple of squares\n",
    "print(\"Tuple of squares:\", squares_tuple)"
   ]
  },
  {
   "cell_type": "code",
   "execution_count": null,
   "id": "1acb4adb-02af-46e6-80f1-8d93eaccf9b0",
   "metadata": {},
   "outputs": [],
   "source": [
    "#35. Filter out all even numbers from a tuple."
   ]
  },
  {
   "cell_type": "code",
   "execution_count": 47,
   "id": "206af0a6-59f7-4b86-a40f-6dd5bba48eab",
   "metadata": {},
   "outputs": [
    {
     "name": "stdout",
     "output_type": "stream",
     "text": [
      "Filtered tuple: (1, 3, 5, 7, 9)\n"
     ]
    }
   ],
   "source": [
    "original_tuple = (1, 2, 3, 4, 5, 6, 7, 8, 9, 10)\n",
    "\n",
    "# Filter out even numbers using a list comprehension\n",
    "filtered_tuple = tuple(num for num in original_tuple if num % 2 != 0)\n",
    "\n",
    "# Print the filtered tuple\n",
    "print(\"Filtered tuple:\", filtered_tuple)"
   ]
  },
  {
   "cell_type": "code",
   "execution_count": null,
   "id": "4e19d4a5-f395-4977-a0ee-8eea7b9a6798",
   "metadata": {},
   "outputs": [],
   "source": [
    "#36. Multiply all elements in a tuple by 2."
   ]
  },
  {
   "cell_type": "code",
   "execution_count": 48,
   "id": "4bffa0fc-81e1-40a5-8c67-c1ab13d84237",
   "metadata": {},
   "outputs": [
    {
     "name": "stdout",
     "output_type": "stream",
     "text": [
      "Doubled tuple: (2, 4, 6, 8, 10)\n"
     ]
    }
   ],
   "source": [
    "original_tuple = (1, 2, 3, 4, 5)\n",
    "\n",
    "# Multiply all elements by 2 using a list comprehension and convert to a tuple\n",
    "doubled_tuple = tuple(num * 2 for num in original_tuple)\n",
    "\n",
    "# Print the doubled tuple\n",
    "print(\"Doubled tuple:\", doubled_tuple)"
   ]
  },
  {
   "cell_type": "code",
   "execution_count": null,
   "id": "f4c503c7-2243-43aa-99b2-1d7885112635",
   "metadata": {},
   "outputs": [],
   "source": [
    "#37. create a tuple of random numbers"
   ]
  },
  {
   "cell_type": "code",
   "execution_count": 49,
   "id": "03b6f399-d954-44a5-9fb7-e0f701b31fbc",
   "metadata": {},
   "outputs": [
    {
     "name": "stdout",
     "output_type": "stream",
     "text": [
      "Random tuple: (54, 61, 49, 33, 39, 9, 37, 77, 61, 8)\n"
     ]
    }
   ],
   "source": [
    "import random\n",
    "\n",
    "# Create a tuple of random numbers using a list comprehension\n",
    "random_tuple = tuple(random.randint(1, 100) for _ in range(10))  # Generating 10 random numbers between 1 and 100\n",
    "\n",
    "# Print the tuple of random numbers\n",
    "print(\"Random tuple:\", random_tuple)"
   ]
  },
  {
   "cell_type": "code",
   "execution_count": null,
   "id": "0d415280-2a2f-489a-855e-7e34d7740b28",
   "metadata": {},
   "outputs": [],
   "source": [
    "#38. Check if a tuple is sorted."
   ]
  },
  {
   "cell_type": "code",
   "execution_count": 50,
   "id": "041b9157-7e22-41fa-8091-f844a0c09f9e",
   "metadata": {},
   "outputs": [
    {
     "name": "stdout",
     "output_type": "stream",
     "text": [
      "sorted_tuple is sorted: True\n",
      "unsorted_tuple is sorted: False\n"
     ]
    }
   ],
   "source": [
    "def is_sorted(tup):\n",
    "    for i in range(len(tup) - 1):\n",
    "        if tup[i] > tup[i + 1]:\n",
    "            return False\n",
    "    return True\n",
    "\n",
    "# Create tuples for testing\n",
    "sorted_tuple = (1, 2, 3, 4, 5)\n",
    "unsorted_tuple = (5, 3, 1, 4, 2)\n",
    "\n",
    "# Check if the tuples are sorted\n",
    "is_sorted1 = is_sorted(sorted_tuple)\n",
    "is_sorted2 = is_sorted(unsorted_tuple)\n",
    "\n",
    "# Print the results\n",
    "print(\"sorted_tuple is sorted:\", is_sorted1)\n",
    "print(\"unsorted_tuple is sorted:\", is_sorted2)"
   ]
  },
  {
   "cell_type": "code",
   "execution_count": null,
   "id": "76fea95a-8af0-4e04-ac4f-71feb3d69f6e",
   "metadata": {},
   "outputs": [],
   "source": [
    "#39. Rotate a tuple to the left by n positions.\n"
   ]
  },
  {
   "cell_type": "code",
   "execution_count": 51,
   "id": "1ca8e02d-e793-4ece-bfa1-ef427776fb1a",
   "metadata": {},
   "outputs": [
    {
     "name": "stdout",
     "output_type": "stream",
     "text": [
      "(3, 4, 5, 1, 2)\n"
     ]
    }
   ],
   "source": [
    "def rotate_tuple_left(tup, n):\n",
    "    n = n % len(tup)  # Ensure n is within the range of tuple length\n",
    "    rotated_tuple = tup[n:] + tup[:n]  # Rotate the tuple\n",
    "    return rotated_tuple\n",
    "my_tuple = (1, 2, 3, 4, 5)\n",
    "n_positions = 2\n",
    "result = rotate_tuple_left(my_tuple, n_positions)\n",
    "print(result)"
   ]
  },
  {
   "cell_type": "code",
   "execution_count": null,
   "id": "71be102b-c8ff-4593-9ca8-8b1e8a33589f",
   "metadata": {},
   "outputs": [],
   "source": [
    "#40. Rotate a tuple to the right by n positions.\n"
   ]
  },
  {
   "cell_type": "code",
   "execution_count": 52,
   "id": "58a0bc2e-30af-4d97-9410-e86c21b67f2a",
   "metadata": {},
   "outputs": [
    {
     "name": "stdout",
     "output_type": "stream",
     "text": [
      "(4, 5, 1, 2, 3)\n"
     ]
    }
   ],
   "source": [
    "def rotate_tuple_right(tup, n):\n",
    "    n = n % len(tup)  # Ensure n is within the range of tuple length\n",
    "    rotated_tuple = tup[-n:] + tup[:-n]  # Rotate the tuple\n",
    "    return rotated_tuple\n",
    "my_tuple = (1, 2, 3, 4, 5)\n",
    "n_positions = 2\n",
    "result = rotate_tuple_right(my_tuple, n_positions)\n",
    "print(result)"
   ]
  },
  {
   "cell_type": "code",
   "execution_count": null,
   "id": "68e09de9-1316-430e-94f2-944b0aee30fc",
   "metadata": {},
   "outputs": [],
   "source": [
    "#41. Create a tuple of the first 5 Fibonacci numbers."
   ]
  },
  {
   "cell_type": "code",
   "execution_count": 53,
   "id": "569f3743-d215-4cff-9785-e80b3ba1ac37",
   "metadata": {},
   "outputs": [
    {
     "name": "stdout",
     "output_type": "stream",
     "text": [
      "(0, 1, 1, 2, 3)\n"
     ]
    }
   ],
   "source": [
    "def generate_fibonacci(n):\n",
    "    fibonacci = [0, 1]  # Initialize the list with the first two Fibonacci numbers\n",
    "    while len(fibonacci) < n:  # Continue generating Fibonacci numbers until the list has n elements\n",
    "        next_number = fibonacci[-1] + fibonacci[-2]  # Calculate the next Fibonacci number\n",
    "        fibonacci.append(next_number)  # Add the next Fibonacci number to the list\n",
    "    return tuple(fibonacci)  # Convert the list to a tuple and return it\n",
    "fibonacci_tuple = generate_fibonacci(5)\n",
    "\n",
    "# Print the resulting tuple\n",
    "print(fibonacci_tuple)"
   ]
  },
  {
   "cell_type": "code",
   "execution_count": null,
   "id": "e0061853-13e4-46d3-872e-2a8faa914114",
   "metadata": {},
   "outputs": [],
   "source": [
    "#42. Create a tuple from user input."
   ]
  },
  {
   "cell_type": "code",
   "execution_count": 54,
   "id": "0202a769-f91a-46ee-a1f8-7bdf2d51c55f",
   "metadata": {},
   "outputs": [
    {
     "name": "stdin",
     "output_type": "stream",
     "text": [
      "Enter elements separated by commas:  mnnnn,kkkk,mmmm\n"
     ]
    },
    {
     "name": "stdout",
     "output_type": "stream",
     "text": [
      "User input tuple: ('mnnnn', 'kkkk', 'mmmm')\n"
     ]
    }
   ],
   "source": [
    "input_str = input(\"Enter elements separated by commas: \")\n",
    "\n",
    "# Splitting the input string into a list of strings\n",
    "input_list = input_str.split(',')\n",
    "\n",
    "# Converting the list of strings to a tuple\n",
    "user_tuple = tuple(input_list)\n",
    "\n",
    "# Printing the created tuple\n",
    "print(\"User input tuple:\", user_tuple)"
   ]
  },
  {
   "cell_type": "code",
   "execution_count": null,
   "id": "e3a59da4-74ba-45a3-97db-9729679325c5",
   "metadata": {},
   "outputs": [],
   "source": [
    "#43. Swap two elements in a tuple."
   ]
  },
  {
   "cell_type": "code",
   "execution_count": 55,
   "id": "b034f1b3-06fe-4e9f-a2a7-4119e94f3ece",
   "metadata": {},
   "outputs": [
    {
     "name": "stdout",
     "output_type": "stream",
     "text": [
      "Swapped tuple: (1, 4, 3, 2, 5)\n"
     ]
    }
   ],
   "source": [
    "my_tuple = (1, 2, 3, 4, 5)\n",
    "\n",
    "# Swap elements at indices 1 and 3\n",
    "index1 = 1\n",
    "index2 = 3\n",
    "swapped_tuple = tuple(\n",
    "    my_tuple[i] if i not in (index1, index2) else\n",
    "    my_tuple[index2] if i == index1 else\n",
    "    my_tuple[index1]\n",
    "    for i in range(len(my_tuple))\n",
    ")\n",
    "\n",
    "# Print the swapped tuple\n",
    "print(\"Swapped tuple:\", swapped_tuple)"
   ]
  },
  {
   "cell_type": "code",
   "execution_count": null,
   "id": "0219378c-3945-4de7-bd45-63db8d6acc43",
   "metadata": {},
   "outputs": [],
   "source": [
    "#44. Reverse the elements of a tuple."
   ]
  },
  {
   "cell_type": "code",
   "execution_count": 56,
   "id": "57122a25-37ab-4fea-acb8-745a44df7e48",
   "metadata": {},
   "outputs": [
    {
     "name": "stdout",
     "output_type": "stream",
     "text": [
      "Reversed tuple: (5, 4, 3, 2, 1)\n"
     ]
    }
   ],
   "source": [
    "my_tuple = (1, 2, 3, 4, 5)\n",
    "\n",
    "# Reverse the elements using slicing\n",
    "reversed_tuple = my_tuple[::-1]\n",
    "\n",
    "# Print the reversed tuple\n",
    "print(\"Reversed tuple:\", reversed_tuple)"
   ]
  },
  {
   "cell_type": "code",
   "execution_count": null,
   "id": "5f701467-379d-4678-9036-6dd4d19339b7",
   "metadata": {},
   "outputs": [],
   "source": [
    "#45. Create a tuple of the first n powers of 2."
   ]
  },
  {
   "cell_type": "code",
   "execution_count": 57,
   "id": "50b55244-8e34-48b4-978e-6f04d5ac045f",
   "metadata": {},
   "outputs": [
    {
     "name": "stdout",
     "output_type": "stream",
     "text": [
      "Tuple of the first 5 powers of 2: (1, 2, 4, 8, 16)\n"
     ]
    }
   ],
   "source": [
    "n = 5\n",
    "\n",
    "# Create a tuple of the first n powers of 2 using a list comprehension\n",
    "powers_of_2_tuple = tuple(2 ** i for i in range(n))\n",
    "\n",
    "# Print the tuple of powers of 2\n",
    "print(\"Tuple of the first\", n, \"powers of 2:\", powers_of_2_tuple)"
   ]
  },
  {
   "cell_type": "code",
   "execution_count": null,
   "id": "3a46f39b-c8f1-4f1b-9b22-2f246bd4ddf1",
   "metadata": {},
   "outputs": [],
   "source": [
    "#46. Find the longest string in a tuple of strings."
   ]
  },
  {
   "cell_type": "code",
   "execution_count": 58,
   "id": "4aac86ac-eab9-45e7-b852-34ba4989e70b",
   "metadata": {},
   "outputs": [
    {
     "name": "stdout",
     "output_type": "stream",
     "text": [
      "Longest string: watermelon\n"
     ]
    }
   ],
   "source": [
    "string_tuple = (\"apple\", \"banana\", \"grape\", \"kiwi\", \"watermelon\")\n",
    "\n",
    "# Find the longest string in the tuple\n",
    "longest_string = max(string_tuple, key=len)\n",
    "\n",
    "# Print the longest string\n",
    "print(\"Longest string:\", longest_string)"
   ]
  },
  {
   "cell_type": "code",
   "execution_count": null,
   "id": "b380f803-45f5-46f0-8b14-ff11f4645b2d",
   "metadata": {},
   "outputs": [],
   "source": [
    "#47. Find the shortest string in a tuple of strings."
   ]
  },
  {
   "cell_type": "code",
   "execution_count": 59,
   "id": "90fc4bf9-2111-49e6-ab46-e2760ce9bf77",
   "metadata": {},
   "outputs": [
    {
     "name": "stdout",
     "output_type": "stream",
     "text": [
      "Shortest string: kiwi\n"
     ]
    }
   ],
   "source": [
    "string_tuple = (\"apple\", \"banana\", \"grape\", \"kiwi\", \"watermelon\")\n",
    "\n",
    "# Find the shortest string in the tuple\n",
    "shortest_string = min(string_tuple, key=len)\n",
    "\n",
    "# Print the shortest string\n",
    "print(\"Shortest string:\", shortest_string)"
   ]
  },
  {
   "cell_type": "code",
   "execution_count": null,
   "id": "fce4b3db-2674-426d-942e-470d98553913",
   "metadata": {},
   "outputs": [],
   "source": [
    "#48. Create a tuple of the first n triangular numbers."
   ]
  },
  {
   "cell_type": "code",
   "execution_count": 60,
   "id": "045bfcd9-ab07-4524-9031-d3b185984a49",
   "metadata": {},
   "outputs": [
    {
     "name": "stdout",
     "output_type": "stream",
     "text": [
      "Tuple of the first 5 triangular numbers: (1, 3, 6, 10, 15)\n"
     ]
    }
   ],
   "source": [
    "n = 5\n",
    "\n",
    "# Create a tuple of the first n triangular numbers using a list comprehension\n",
    "triangular_numbers_tuple = tuple((i * (i + 1)) // 2 for i in range(1, n + 1))\n",
    "\n",
    "# Print the tuple of triangular numbers\n",
    "print(\"Tuple of the first\", n, \"triangular numbers:\", triangular_numbers_tuple)"
   ]
  },
  {
   "cell_type": "code",
   "execution_count": null,
   "id": "c0456e35-f2f4-4ea5-828f-1c8be5ce3c5e",
   "metadata": {},
   "outputs": [],
   "source": [
    "#49. Check if a tuple contains another tuple as a subsequence.\n",
    "[ ]"
   ]
  },
  {
   "cell_type": "code",
   "execution_count": 61,
   "id": "1ce68c9d-9560-47ac-baf1-9876be9d87a5",
   "metadata": {},
   "outputs": [
    {
     "name": "stdout",
     "output_type": "stream",
     "text": [
      "Main tuple contains subsequence tuple: True\n"
     ]
    }
   ],
   "source": [
    "def contains_subsequence(main_tuple, sub_tuple):\n",
    "    sub_length = len(sub_tuple)\n",
    "    for i in range(len(main_tuple) - sub_length + 1):\n",
    "        if main_tuple[i:i+sub_length] == sub_tuple:\n",
    "            return True\n",
    "    return False\n",
    "\n",
    "# Main tuple\n",
    "main_tuple = (1, 2, 3, 4, 5, 6, 7, 8, 9)\n",
    "\n",
    "# Subsequence tuple\n",
    "sub_tuple = (3, 4, 5)\n",
    "\n",
    "# Check if the main tuple contains the subsequence tuple\n",
    "contains_subseq = contains_subsequence(main_tuple, sub_tuple)\n",
    "\n",
    "# Print the result\n",
    "print(\"Main tuple contains subsequence tuple:\", contains_subseq)"
   ]
  },
  {
   "cell_type": "code",
   "execution_count": null,
   "id": "ce019883-5271-4730-ac8b-f247fb930b76",
   "metadata": {},
   "outputs": [],
   "source": [
    "#50. Create a tuple of alternating 1s and 0s of length n."
   ]
  },
  {
   "cell_type": "code",
   "execution_count": 62,
   "id": "fd6f668f-7b45-4f87-bd62-9812da451845",
   "metadata": {},
   "outputs": [
    {
     "name": "stdout",
     "output_type": "stream",
     "text": [
      "Tuple of alternating 1s and 0s: (0, 1, 0, 1, 0, 1, 0, 1, 0, 1)\n"
     ]
    }
   ],
   "source": [
    "n = 10\n",
    "\n",
    "# Create a tuple of alternating 1s and 0s using a list comprehension\n",
    "alternating_tuple = tuple(i % 2 for i in range(n))\n",
    "\n",
    "# Print the tuple of alternating 1s and 0s\n",
    "print(\"Tuple of alternating 1s and 0s:\", alternating_tuple)"
   ]
  },
  {
   "cell_type": "code",
   "execution_count": null,
   "id": "7e83a3f0-6502-443f-830a-2b95023db418",
   "metadata": {},
   "outputs": [],
   "source": [
    "#Set based problems:\n",
    "1. Create a set with integers from 1 to 5"
   ]
  },
  {
   "cell_type": "code",
   "execution_count": 1,
   "id": "1a5392df-094c-4558-b5e9-c1e17e848f53",
   "metadata": {},
   "outputs": [
    {
     "name": "stdout",
     "output_type": "stream",
     "text": [
      "{1, 2, 3, 4, 5}\n"
     ]
    }
   ],
   "source": [
    "my_set = set()\n",
    "\n",
    "# Step 2: Add integers from 1 to 5 to the set\n",
    "my_set.add(1)\n",
    "my_set.add(2)\n",
    "my_set.add(3)\n",
    "my_set.add(4)\n",
    "my_set.add(5)\n",
    "\n",
    "# Step 3: Print the final set\n",
    "print(my_set)"
   ]
  },
  {
   "cell_type": "code",
   "execution_count": null,
   "id": "841cb306-4494-43b1-bd28-710e50f53b90",
   "metadata": {},
   "outputs": [],
   "source": [
    " 2. Add an element to a set"
   ]
  },
  {
   "cell_type": "code",
   "execution_count": 2,
   "id": "46a55826-061a-410c-94f4-4806c2588e90",
   "metadata": {},
   "outputs": [
    {
     "name": "stdout",
     "output_type": "stream",
     "text": [
      "Original set: {1, 2, 3, 4, 5}\n",
      "Set after adding element: {1, 2, 3, 4, 5, 6}\n"
     ]
    }
   ],
   "source": [
    "# Step 1: Create a set\n",
    "my_set = {1, 2, 3, 4, 5}\n",
    "\n",
    "# Step 2: Display the original set\n",
    "print(\"Original set:\", my_set)\n",
    "\n",
    "# Step 3: Add an element to the set\n",
    "element_to_add = 6\n",
    "my_set.add(element_to_add)\n",
    "\n",
    "# Step 4: Display the modified set\n",
    "print(\"Set after adding element:\", my_set)"
   ]
  },
  {
   "cell_type": "code",
   "execution_count": null,
   "id": "7ca7ad65-7e8d-4195-babd-95ad0a6190bc",
   "metadata": {},
   "outputs": [],
   "source": [
    "3.  Remove an element from a set."
   ]
  },
  {
   "cell_type": "code",
   "execution_count": 3,
   "id": "0524d9fd-f3a5-4ade-a317-f837e0354e85",
   "metadata": {},
   "outputs": [
    {
     "name": "stdout",
     "output_type": "stream",
     "text": [
      "Original Set: {1, 2, 3, 4, 5}\n",
      "Set after removing 3 : {1, 2, 4, 5}\n"
     ]
    }
   ],
   "source": [
    "my_set = {1, 2, 3, 4, 5}\n",
    "\n",
    "# Step 2: Print the original set\n",
    "print(\"Original Set:\", my_set)\n",
    "\n",
    "# Step 3: Choose an element to remove\n",
    "element_to_remove = 3\n",
    "\n",
    "# Step 4: Use the remove() method to remove the chosen element\n",
    "# Note: If the element is not present in the set, remove() raises a KeyError.\n",
    "my_set.remove(element_to_remove)\n",
    "\n",
    "# Step 5: Print the modified set after removal\n",
    "print(\"Set after removing\", element_to_remove, \":\", my_set)"
   ]
  },
  {
   "cell_type": "code",
   "execution_count": null,
   "id": "56129874-6827-43d9-a203-184c64f0e5ac",
   "metadata": {},
   "outputs": [],
   "source": [
    "#4. Check if an element exists in a set."
   ]
  },
  {
   "cell_type": "code",
   "execution_count": 4,
   "id": "a2447069-91bd-4c35-9ace-a5e2ad05571f",
   "metadata": {},
   "outputs": [
    {
     "name": "stdin",
     "output_type": "stream",
     "text": [
      "Enter the element to check:  5\n"
     ]
    },
    {
     "name": "stdout",
     "output_type": "stream",
     "text": [
      "5 exists in the set.\n"
     ]
    }
   ],
   "source": [
    "my_set = {1, 3, 5, 7, 9}\n",
    "\n",
    "# Step 2: Ask the user for the element they want to check\n",
    "element_to_check = int(input(\"Enter the element to check: \"))\n",
    "\n",
    "# Step 3: Use the \"in\" keyword to check if the element exists in the set\n",
    "if element_to_check in my_set:\n",
    "    # Step 4: If the element exists in the set, print a message\n",
    "    print(f\"{element_to_check} exists in the set.\")\n"
   ]
  },
  {
   "cell_type": "code",
   "execution_count": null,
   "id": "c937ac50-030a-4584-a157-275a130c07df",
   "metadata": {},
   "outputs": [],
   "source": [
    "#5.  Find the length of a set without using the len() function"
   ]
  },
  {
   "cell_type": "code",
   "execution_count": 5,
   "id": "627d1665-4c4e-4534-9e86-13b425f1eada",
   "metadata": {},
   "outputs": [
    {
     "name": "stdout",
     "output_type": "stream",
     "text": [
      "Length of the set: 5\n"
     ]
    }
   ],
   "source": [
    "my_set = {1, 2, 3, 4, 5}\n",
    "\n",
    "# Initialize a variable to count the elements in the set\n",
    "count = 0\n",
    "\n",
    "# Iterate through each element in the set\n",
    "for _ in my_set:\n",
    "    # Increase the count by 1 for each element\n",
    "    count += 1\n",
    "\n",
    "# Print the count, which is the length of the set\n",
    "print(\"Length of the set:\", count)"
   ]
  },
  {
   "cell_type": "code",
   "execution_count": null,
   "id": "0cfeef27-5ff1-485f-a959-cbc289378282",
   "metadata": {},
   "outputs": [],
   "source": [
    "#6. Clear all elements from a set."
   ]
  },
  {
   "cell_type": "code",
   "execution_count": 6,
   "id": "5db14e49-53ae-4d39-80b6-38702b9dd5e3",
   "metadata": {},
   "outputs": [
    {
     "name": "stdout",
     "output_type": "stream",
     "text": [
      "Original set: {1, 2, 3, 4, 5}\n",
      "Set after clearing: set()\n"
     ]
    }
   ],
   "source": [
    "my_set = {1, 2, 3, 4, 5}\n",
    "\n",
    "# Step 2: Display the original set\n",
    "print(\"Original set:\", my_set)\n",
    "\n",
    "# Step 3: Clear all elements from the set using the clear() method\n",
    "my_set.clear()\n",
    "\n",
    "# Step 4: Display the set after clearing\n",
    "print(\"Set after clearing:\", my_set)"
   ]
  },
  {
   "cell_type": "code",
   "execution_count": null,
   "id": "4cc09658-8728-4b0c-893a-7501c1bd7b78",
   "metadata": {},
   "outputs": [],
   "source": [
    "#7. Create a set of even numbers from 1 to 10"
   ]
  },
  {
   "cell_type": "code",
   "execution_count": 7,
   "id": "6a8d4484-c540-4dc1-9180-82876b3cb4aa",
   "metadata": {},
   "outputs": [
    {
     "name": "stdout",
     "output_type": "stream",
     "text": [
      "{2, 4, 6, 8, 10}\n"
     ]
    }
   ],
   "source": [
    "even_numbers_set = set()\n",
    "\n",
    "# Step 2: Iterate through numbers from 1 to 10\n",
    "for num in range(1, 11):\n",
    "    # Step 3: Check if the number is even\n",
    "    if num % 2 == 0:\n",
    "        # Step 4: Add the even number to the set\n",
    "        even_numbers_set.add(num)\n",
    "\n",
    "# Step 5: Print the set of even numbers\n",
    "print(even_numbers_set)"
   ]
  },
  {
   "cell_type": "code",
   "execution_count": null,
   "id": "f1a1212f-87be-46a1-9c0a-df30b680c403",
   "metadata": {},
   "outputs": [],
   "source": [
    "#8. Create a set of odd numbers from 1 to 10"
   ]
  },
  {
   "cell_type": "code",
   "execution_count": 8,
   "id": "b46c96f2-cdcd-417f-a9e9-aade321399e9",
   "metadata": {},
   "outputs": [
    {
     "name": "stdout",
     "output_type": "stream",
     "text": [
      "{1, 3, 5, 7, 9}\n"
     ]
    }
   ],
   "source": [
    "odd_numbers_set = set()\n",
    "\n",
    "# Step 2: Iterate through numbers from 1 to 10.\n",
    "for num in range(1, 11):\n",
    "    # Step 3: Check if the current number is odd.\n",
    "    if num % 2 != 0:\n",
    "        # Step 4: If the number is odd, add it to the set.\n",
    "        odd_numbers_set.add(num)\n",
    "\n",
    "# Step 5: Print the final set of odd numbers.\n",
    "print(odd_numbers_set)"
   ]
  },
  {
   "cell_type": "code",
   "execution_count": null,
   "id": "8eb4e145-f1a3-49b6-9714-4a1c66430757",
   "metadata": {},
   "outputs": [],
   "source": [
    "#9. Find the union of two sets"
   ]
  },
  {
   "cell_type": "code",
   "execution_count": 10,
   "id": "d84ff761-b14c-4133-a0e2-fe1549c73b8e",
   "metadata": {},
   "outputs": [
    {
     "name": "stdout",
     "output_type": "stream",
     "text": [
      "Set 1: {1, 2, 3, 4, 5}\n",
      "Set 2: {4, 5, 6, 7, 8}\n",
      "{1, 2, 3, 4, 5, 6, 7, 8}\n"
     ]
    }
   ],
   "source": [
    "set1 = {1, 2, 3, 4, 5}\n",
    "set2 = {4, 5, 6, 7, 8}\n",
    "\n",
    "# Find the union of the two sets using the `union()` method\n",
    "union_result = set1.union(set2)\n",
    "\n",
    "# Print the original sets and their union\n",
    "print(\"Set 1:\", set1)\n",
    "print(\"Set 2:\", set2)\n",
    "print(union_result)"
   ]
  },
  {
   "cell_type": "code",
   "execution_count": null,
   "id": "ab74495f-6406-40c7-acc7-cb2e4f36dc83",
   "metadata": {},
   "outputs": [],
   "source": [
    "#10.Find the intersection of two sets"
   ]
  },
  {
   "cell_type": "code",
   "execution_count": 1,
   "id": "837f01fc-260f-40bf-91bc-417a6fc42f15",
   "metadata": {},
   "outputs": [
    {
     "name": "stdout",
     "output_type": "stream",
     "text": [
      "Set 1: {1, 2, 3, 4, 5}\n",
      "Set 2: {3, 4, 5, 6, 7}\n",
      "Intersection: {3, 4, 5}\n"
     ]
    }
   ],
   "source": [
    "set1 = {1, 2, 3, 4, 5}\n",
    "set2 = {3, 4, 5, 6, 7}\n",
    "\n",
    "# Find the intersection using the intersection() method\n",
    "intersection_result = set1.intersection(set2)\n",
    "\n",
    "# Print the original sets and the intersection\n",
    "print(\"Set 1:\", set1)\n",
    "print(\"Set 2:\", set2)\n",
    "print(\"Intersection:\", intersection_result)"
   ]
  },
  {
   "cell_type": "code",
   "execution_count": null,
   "id": "76cb0746-4d89-4c54-8486-5ec0e3bd3358",
   "metadata": {},
   "outputs": [],
   "source": [
    "#11. Find the difference between two sets."
   ]
  },
  {
   "cell_type": "code",
   "execution_count": 2,
   "id": "91e6dd19-353a-453f-b611-a331681c5af9",
   "metadata": {},
   "outputs": [
    {
     "name": "stdout",
     "output_type": "stream",
     "text": [
      "Set 1: {1, 2, 3, 4, 5}\n",
      "Set 2: {3, 4, 5, 6, 7}\n",
      "Difference: {1, 2}\n"
     ]
    }
   ],
   "source": [
    "set1 = {1, 2, 3, 4, 5}\n",
    "set2 = {3, 4, 5, 6, 7}\n",
    "\n",
    "# Find the difference between the sets using the difference() method\n",
    "difference_set = set1.difference(set2)\n",
    "\n",
    "# Print the original sets and the difference set\n",
    "print(\"Set 1:\", set1)\n",
    "print(\"Set 2:\", set2)\n",
    "print(\"Difference:\", difference_set)"
   ]
  },
  {
   "cell_type": "code",
   "execution_count": null,
   "id": "68291db8-cbe5-4005-9b78-2034c5bdc332",
   "metadata": {},
   "outputs": [],
   "source": [
    "#12. Check if a set is a subset of another set."
   ]
  },
  {
   "cell_type": "code",
   "execution_count": 3,
   "id": "6d8f7f1e-faa5-4056-be7c-eb786df581c9",
   "metadata": {},
   "outputs": [
    {
     "name": "stdout",
     "output_type": "stream",
     "text": [
      "Is set1 a subset of set2: True\n"
     ]
    }
   ],
   "source": [
    "set1 = {1, 2, 3}\n",
    "set2 = {1, 2, 3, 4, 5}\n",
    "\n",
    "# Use the \"issubset()\" method to check if set1 is a subset of set2\n",
    "is_subset = set1.issubset(set2)\n",
    "\n",
    "# Print the result\n",
    "print(\"Is set1 a subset of set2:\", is_subset)"
   ]
  },
  {
   "cell_type": "code",
   "execution_count": null,
   "id": "65c20881-cbc5-4f4a-9c60-ae894ebebfb9",
   "metadata": {},
   "outputs": [],
   "source": [
    "#13. Check if a set is a superset of another set."
   ]
  },
  {
   "cell_type": "code",
   "execution_count": 4,
   "id": "f40261b5-56f5-49be-b7da-206588c2f44f",
   "metadata": {},
   "outputs": [
    {
     "name": "stdout",
     "output_type": "stream",
     "text": [
      "set1 is a superset of set2\n"
     ]
    }
   ],
   "source": [
    "set1 = {1, 2, 3, 4, 5, 6}\n",
    "set2 = {3, 4}\n",
    "\n",
    "# Check if set1 is a superset of set2\n",
    "is_superset = set1.issuperset(set2)\n",
    "\n",
    "# Print the result\n",
    "if is_superset:\n",
    "    print(\"set1 is a superset of set2\")\n",
    "else:\n",
    "    print(\"set1 is not a superset of set2\")"
   ]
  },
  {
   "cell_type": "code",
   "execution_count": null,
   "id": "9b9f682e-413c-40d4-9eaf-8494a501f1c2",
   "metadata": {},
   "outputs": [],
   "source": [
    "#14. Create a set from a list"
   ]
  },
  {
   "cell_type": "code",
   "execution_count": 5,
   "id": "590357fe-40de-4b26-ac62-305815307601",
   "metadata": {},
   "outputs": [
    {
     "name": "stdout",
     "output_type": "stream",
     "text": [
      "Original List: [2, 4, 1, 4, 3, 2, 5]\n",
      "Set from List: {1, 2, 3, 4, 5}\n"
     ]
    }
   ],
   "source": [
    "my_list = [2, 4, 1, 4, 3, 2, 5]\n",
    "\n",
    "# Step 2: Use the set() constructor to convert the list into a set\n",
    "# This automatically removes duplicates and creates a set with unique elements\n",
    "my_set = set(my_list)\n",
    "\n",
    "# Step 3: Print the original list and the resulting set\n",
    "print(\"Original List:\", my_list)\n",
    "print(\"Set from List:\", my_set)"
   ]
  },
  {
   "cell_type": "code",
   "execution_count": null,
   "id": "3cc16bf2-6e23-4ba1-8539-27847aee08c2",
   "metadata": {},
   "outputs": [],
   "source": [
    "#15.Convert a set to a list."
   ]
  },
  {
   "cell_type": "code",
   "execution_count": 6,
   "id": "92596d46-4139-4b95-88e0-30d4b44b25dc",
   "metadata": {},
   "outputs": [
    {
     "name": "stdout",
     "output_type": "stream",
     "text": [
      "Original Set: {1, 2, 3, 4, 5, 6, 9}\n",
      "Converted List: [1, 2, 3, 4, 5, 6, 9]\n"
     ]
    }
   ],
   "source": [
    "my_set = {3, 1, 4, 1, 5, 9, 2, 6, 5}\n",
    "\n",
    "# Step 2: Convert the set to a list using the list() function\n",
    "my_list = list(my_set)\n",
    "\n",
    "# Now, my_list contains the elements from my_set in list format\n",
    "\n",
    "# Step 3: Print the original set and the converted list\n",
    "print(\"Original Set:\", my_set)\n",
    "print(\"Converted List:\", my_list)"
   ]
  },
  {
   "cell_type": "code",
   "execution_count": null,
   "id": "dcd2a10e-8909-4bc2-a5ee-614e2a4623d3",
   "metadata": {},
   "outputs": [],
   "source": [
    "#16. Remove a random element from a set."
   ]
  },
  {
   "cell_type": "code",
   "execution_count": 7,
   "id": "c85bc7db-f822-4579-bde8-001e9e148a89",
   "metadata": {},
   "outputs": [
    {
     "name": "stdout",
     "output_type": "stream",
     "text": [
      "Original set: {1, 2, 3, 4, 5}\n",
      "Updated set after removing 1 : {2, 3, 4, 5}\n"
     ]
    }
   ],
   "source": [
    "import random  # Import the random module\n",
    "\n",
    "# Create a set with some elements\n",
    "my_set = {1, 2, 3, 4, 5}\n",
    "\n",
    "# Display the original set\n",
    "print(\"Original set:\", my_set)\n",
    "\n",
    "# Choose a random element from the set using the random.choice() function\n",
    "random_element = random.choice(list(my_set))\n",
    "\n",
    "# Remove the chosen random element from the set using the remove() method\n",
    "my_set.remove(random_element)\n",
    "\n",
    "# Display the updated set after removing the random element\n",
    "print(\"Updated set after removing\", random_element, \":\", my_set)"
   ]
  },
  {
   "cell_type": "code",
   "execution_count": null,
   "id": "ec8cd142-334d-43ff-ae1c-fcb15d0b370e",
   "metadata": {},
   "outputs": [],
   "source": [
    "#17. Pop an element from a set."
   ]
  },
  {
   "cell_type": "code",
   "execution_count": 8,
   "id": "8cf85fe9-c1bd-4cfd-8104-1944125188fd",
   "metadata": {},
   "outputs": [
    {
     "name": "stdout",
     "output_type": "stream",
     "text": [
      "Original set: {1, 2, 3, 4, 5}\n",
      "Popped element: 1\n",
      "Set after popping: {2, 3, 4, 5}\n"
     ]
    }
   ],
   "source": [
    "my_set = {1, 2, 3, 4, 5}\n",
    "\n",
    "# Print the original set\n",
    "print(\"Original set:\", my_set)\n",
    "\n",
    "# Pop an element from the set using the pop() method\n",
    "popped_element = my_set.pop()\n",
    "\n",
    "# Print the element that was popped\n",
    "print(\"Popped element:\", popped_element)\n",
    "\n",
    "# Print the set after popping an element\n",
    "print(\"Set after popping:\", my_set)"
   ]
  },
  {
   "cell_type": "code",
   "execution_count": null,
   "id": "fc11cb79-3b26-4e42-b069-e891a274aab5",
   "metadata": {},
   "outputs": [],
   "source": [
    "#18. Check if two sets have no elements in common."
   ]
  },
  {
   "cell_type": "code",
   "execution_count": 11,
   "id": "3f005e94-4ab7-4fcb-ba47-af3a98db35f0",
   "metadata": {},
   "outputs": [
    {
     "name": "stdout",
     "output_type": "stream",
     "text": [
      "no common elements\n"
     ]
    }
   ],
   "source": [
    "set1 = {1, 2, 3, 4}\n",
    "set2 = {5, 6, 7, 8}\n",
    "\n",
    "# Step 2: Check if the intersection of the two sets is empty\n",
    "# The intersection is the set of elements that are common to both sets\n",
    "common_elements = set1.intersection(set2)\n",
    "\n",
    "# Step 3: Check if the common_elements set is empty\n",
    "if not common_elements:\n",
    "    print(\"no common elements\")"
   ]
  },
  {
   "cell_type": "code",
   "execution_count": null,
   "id": "6a8e3e89-ea5a-43ed-aa31-2a0366763770",
   "metadata": {},
   "outputs": [],
   "source": [
    "#19. Find the symmetric difference between two sets."
   ]
  },
  {
   "cell_type": "code",
   "execution_count": 12,
   "id": "c6ca889e-2845-4b83-af98-456497634437",
   "metadata": {},
   "outputs": [
    {
     "name": "stdout",
     "output_type": "stream",
     "text": [
      "Symmetric Difference: {1, 2, 3, 6, 7, 8}\n"
     ]
    }
   ],
   "source": [
    "set1 = {1, 2, 3, 4, 5}\n",
    "set2 = {4, 5, 6, 7, 8}\n",
    "\n",
    "# Calculate the symmetric difference using the ^ operator\n",
    "symmetric_difference = set1 ^ set2\n",
    "\n",
    "# Print the symmetric difference\n",
    "print(\"Symmetric Difference:\", symmetric_difference)"
   ]
  },
  {
   "cell_type": "code",
   "execution_count": null,
   "id": "a7643b10-9dcb-4ffa-9652-b9a1401ca15d",
   "metadata": {},
   "outputs": [],
   "source": [
    "#20. Update a set with elements from another set."
   ]
  },
  {
   "cell_type": "code",
   "execution_count": 13,
   "id": "14b7e887-2ecb-4f1d-8862-8d039a77e2c0",
   "metadata": {},
   "outputs": [
    {
     "name": "stdout",
     "output_type": "stream",
     "text": [
      "Set 1: {1, 2, 3}\n",
      "Set 2: {3, 4, 5}\n",
      "Updated Set 1: {1, 2, 3, 4, 5}\n"
     ]
    }
   ],
   "source": [
    "set1 = {1, 2, 3}\n",
    "print(\"Set 1:\", set1)\n",
    "\n",
    "# Create the second set\n",
    "set2 = {3, 4, 5}\n",
    "print(\"Set 2:\", set2)\n",
    "\n",
    "# Update set1 with elements from set2\n",
    "set1.update(set2)\n",
    "print(\"Updated Set 1:\", set1)"
   ]
  },
  {
   "cell_type": "code",
   "execution_count": null,
   "id": "59a51693-4445-419e-aecc-a256fdba532f",
   "metadata": {},
   "outputs": [],
   "source": [
    "#21. Create a set of the first 5 prime numbers."
   ]
  },
  {
   "cell_type": "code",
   "execution_count": 14,
   "id": "37355079-9ffd-4f76-ae4a-4a46ceb139e6",
   "metadata": {},
   "outputs": [
    {
     "name": "stdout",
     "output_type": "stream",
     "text": [
      "Set of the first 5 prime numbers: {2, 3, 5, 7, 11}\n"
     ]
    }
   ],
   "source": [
    "def is_prime(num):\n",
    "    if num <= 1:\n",
    "        return False\n",
    "    for i in range(2, int(num ** 0.5) + 1):\n",
    "        if num % i == 0:\n",
    "            return False\n",
    "    return True\n",
    "\n",
    "# Create an empty set to store the prime numbers\n",
    "prime_set = set()\n",
    "num = 2\n",
    "\n",
    "# Loop until we have found the first 5 prime numbers\n",
    "while len(prime_set) < 5:\n",
    "    # Check if the current number is prime using the is_prime function\n",
    "    if is_prime(num):\n",
    "        # If the number is prime, add it to the prime_set\n",
    "        prime_set.add(num)\n",
    "\n",
    "    # Move on to the next number for the next iteration\n",
    "    num += 1\n",
    "\n",
    "# Print the set of prime numbers\n",
    "print(\"Set of the first 5 prime numbers:\", prime_set)"
   ]
  },
  {
   "cell_type": "code",
   "execution_count": null,
   "id": "448f68d1-58d7-4518-a13f-cc86463a04b2",
   "metadata": {},
   "outputs": [],
   "source": [
    "#22. Check if two sets are identical."
   ]
  },
  {
   "cell_type": "code",
   "execution_count": 15,
   "id": "71cb80d5-18c0-4bce-8902-7e9de13c7a87",
   "metadata": {},
   "outputs": [
    {
     "name": "stdout",
     "output_type": "stream",
     "text": [
      "The sets are identical.\n"
     ]
    }
   ],
   "source": [
    "set1 = {1, 2, 3, 4, 5}\n",
    "set2 = {3, 1, 5, 2, 4}  # The order of elements doesn't matter in sets\n",
    "\n",
    "# Step 2: Check if the sets are identical using the `==` operator\n",
    "# Sets are unordered collections, so the order of elements doesn't matter.\n",
    "# The `==` operator compares the content of the sets.\n",
    "if set1 == set2:\n",
    "    print(\"The sets are identical.\")\n",
    "else:\n",
    "    print(\"The sets are not identical.\")"
   ]
  },
  {
   "cell_type": "code",
   "execution_count": null,
   "id": "6df27bae-aae5-4074-9787-fb22ba4cc74a",
   "metadata": {},
   "outputs": [],
   "source": [
    "#23. Create a frozen set"
   ]
  },
  {
   "cell_type": "code",
   "execution_count": 16,
   "id": "6b58b3b9-d4d1-4da6-bbd4-8b7afd2c5080",
   "metadata": {},
   "outputs": [
    {
     "name": "stdout",
     "output_type": "stream",
     "text": [
      "Frozen Set: frozenset({1, 2, 3, 4, 5})\n"
     ]
    }
   ],
   "source": [
    "elements = [1, 2, 3, 4, 5]\n",
    "\n",
    "# Step 3: Create a frozen set using the 'frozenset' constructor and passing the list of elements\n",
    "my_frozen_set = frozenset(elements)\n",
    "\n",
    "# Step 4: Print the frozen set\n",
    "print(\"Frozen Set:\", my_frozen_set)"
   ]
  },
  {
   "cell_type": "code",
   "execution_count": null,
   "id": "56af01cf-0949-4101-8a83-4a2e7fdba4d5",
   "metadata": {},
   "outputs": [],
   "source": [
    "#24. Check if a set is disjoint with another set."
   ]
  },
  {
   "cell_type": "code",
   "execution_count": 17,
   "id": "1d59a28f-bee2-4959-846b-e8e7d17f61f8",
   "metadata": {},
   "outputs": [
    {
     "name": "stdout",
     "output_type": "stream",
     "text": [
      "Are the sets disjoint? True\n"
     ]
    }
   ],
   "source": [
    "set1 = {1, 2, 3, 4}\n",
    "set2 = {5, 6, 7, 8}\n",
    "\n",
    "# Step 2: Use the `isdisjoint()` method to check if the sets are disjoint\n",
    "# The `isdisjoint()` method returns True if the sets have no common elements,\n",
    "# and False if they have at least one common element.\n",
    "disjoint_status = set1.isdisjoint(set2)\n",
    "\n",
    "# Step 3: Print the result\n",
    "print(\"Are the sets disjoint?\", disjoint_status)"
   ]
  },
  {
   "cell_type": "code",
   "execution_count": null,
   "id": "06c1d735-2d9f-4f18-bccc-0f5972538873",
   "metadata": {},
   "outputs": [],
   "source": [
    "#25. Create a set of squares of numbers from 1 to 5."
   ]
  },
  {
   "cell_type": "code",
   "execution_count": 27,
   "id": "4589677c-1e2e-4ec3-b2db-cde72643ee6b",
   "metadata": {},
   "outputs": [
    {
     "name": "stdout",
     "output_type": "stream",
     "text": [
      "{1, 4, 9, 16, 25}\n"
     ]
    }
   ],
   "source": [
    "square_set=set()\n",
    "\n",
    "for num in range(1,6,1):\n",
    "    square=num**2\n",
    "    square_set.add(square)\n",
    "print(square_set)"
   ]
  },
  {
   "cell_type": "code",
   "execution_count": null,
   "id": "7f71f236-f98c-435e-b19f-b5043f51163d",
   "metadata": {},
   "outputs": [],
   "source": [
    "#26. Filter out all even numbers from a set."
   ]
  },
  {
   "cell_type": "code",
   "execution_count": 28,
   "id": "8b91c21c-eaf7-4755-9dda-5aa7c4722fd2",
   "metadata": {},
   "outputs": [
    {
     "name": "stdout",
     "output_type": "stream",
     "text": [
      "Original Set: {1, 2, 3, 4, 5}\n",
      "Even Numbers Set: {2, 4}\n"
     ]
    }
   ],
   "source": [
    "original_set = {1, 2, 3, 4, 5}\n",
    "\n",
    "# Step 2: Initialize an empty set to store the filtered even numbers\n",
    "even_numbers_set = set()\n",
    "\n",
    "# Step 3: Iterate through each element in the original set\n",
    "for num in original_set:\n",
    "    # Step 4: Check if the current number is even (divisible by 2)\n",
    "    if num % 2 == 0:\n",
    "        # Step 5: If even, add it to the even_numbers_set\n",
    "        even_numbers_set.add(num)\n",
    "\n",
    "# Step 6: Print the original set and the set containing even numbers\n",
    "print(\"Original Set:\", original_set)\n",
    "print(\"Even Numbers Set:\", even_numbers_set)"
   ]
  },
  {
   "cell_type": "code",
   "execution_count": null,
   "id": "0d04cd44-0bcb-46b0-b02c-358a242f09c7",
   "metadata": {},
   "outputs": [],
   "source": [
    " #27.Multiply all elements in a set by 2."
   ]
  },
  {
   "cell_type": "code",
   "execution_count": 29,
   "id": "5fda102a-e56c-42b7-8c9c-9314c267e441",
   "metadata": {},
   "outputs": [
    {
     "name": "stdout",
     "output_type": "stream",
     "text": [
      "Original Set: {1, 2, 3, 4, 5}\n",
      "Multiplied Set: {2, 4, 6, 8, 10}\n"
     ]
    }
   ],
   "source": [
    "original_set = {1, 2, 3, 4, 5}\n",
    "\n",
    "# Initialize an empty set to store the multiplied elements\n",
    "multiplied_set = set()\n",
    "\n",
    "# Loop through each element in the original set\n",
    "for num in original_set:\n",
    "    # Multiply the current element by 2\n",
    "    multiplied_num = num * 2\n",
    "\n",
    "    # Add the multiplied element to the multiplied_set\n",
    "    multiplied_set.add(multiplied_num)\n",
    "\n",
    "# The original_set remains unchanged\n",
    "print(\"Original Set:\", original_set)\n",
    "\n",
    "# Display the set with elements multiplied by 2\n",
    "print(\"Multiplied Set:\", multiplied_set)"
   ]
  },
  {
   "cell_type": "code",
   "execution_count": null,
   "id": "c691bf53-d3fe-42dd-b704-65aa95168537",
   "metadata": {},
   "outputs": [],
   "source": [
    "#28. Create a set of random numbers."
   ]
  },
  {
   "cell_type": "code",
   "execution_count": null,
   "id": "eacc6eb3-ee9a-428c-a200-72cb8060a69c",
   "metadata": {},
   "outputs": [],
   "source": [
    "import random\n",
    "\n",
    "# Step 2: Define the number of random numbers you want in the set\n",
    "num_random_numbers = 5\n",
    "\n",
    "# Step 3: Initialize an empty set to store the random numbers\n",
    "random_number_set = set()\n",
    "for _in random_number_set\n",
    "  random_element = random.choice(list(my_set)) "
   ]
  },
  {
   "cell_type": "code",
   "execution_count": null,
   "id": "573d21af-ffee-49e7-8a99-9a5743e2c597",
   "metadata": {},
   "outputs": [],
   "source": [
    "#29. Check if a set is empty."
   ]
  },
  {
   "cell_type": "code",
   "execution_count": 30,
   "id": "6b5fce93-50a4-4ffc-943f-c4cd6feaa91a",
   "metadata": {},
   "outputs": [
    {
     "name": "stdout",
     "output_type": "stream",
     "text": [
      "The set is empty.\n"
     ]
    }
   ],
   "source": [
    "my_set = set()\n",
    "\n",
    "# Step 2: Check if the set is empty using the 'if' statement\n",
    "if not my_set:\n",
    "    print(\"The set is empty.\")\n",
    "else:\n",
    "    print(\"The set is not empty.\")"
   ]
  },
  {
   "cell_type": "code",
   "execution_count": null,
   "id": "e163ad98-4834-4b9f-8ac6-d3b65901acec",
   "metadata": {},
   "outputs": [],
   "source": [
    "#30. Create a nested set "
   ]
  },
  {
   "cell_type": "code",
   "execution_count": 32,
   "id": "0b5e9b78-5f2b-4e8c-8c99-7ffb85784480",
   "metadata": {},
   "outputs": [
    {
     "name": "stdout",
     "output_type": "stream",
     "text": [
      "{frozenset({1, 2, 3, 4, 5}), frozenset({6, 7, 8, 9, 10})}\n"
     ]
    }
   ],
   "source": [
    "set1 = {1, 2, 3, 4, 5}\n",
    "set2 = {6, 7, 8, 9, 10}\n",
    "\n",
    "# Step 2: Create frozensets from the inner sets\n",
    "frozen_set1 = frozenset(set1)\n",
    "frozen_set2 = frozenset(set2)\n",
    "\n",
    "# Step 3: Create the nested set using the frozensets\n",
    "nested_set = {frozen_set1, frozen_set2}\n",
    "print(nested_set)"
   ]
  },
  {
   "cell_type": "code",
   "execution_count": null,
   "id": "68f55a23-f944-4d32-88a3-9ddf5a0b22fc",
   "metadata": {},
   "outputs": [],
   "source": [
    "#31. Remove an element from a set using the discard method."
   ]
  },
  {
   "cell_type": "code",
   "execution_count": 33,
   "id": "1c9f8ab9-7685-43ea-a9e4-c9b40862e0c6",
   "metadata": {},
   "outputs": [
    {
     "name": "stdout",
     "output_type": "stream",
     "text": [
      "Initial set: {1, 2, 3, 4, 5}\n",
      "Set after removing 3 : {1, 2, 4, 5}\n"
     ]
    }
   ],
   "source": [
    "my_set = {1, 2, 3, 4, 5}\n",
    "\n",
    "# Display the initial set\n",
    "print(\"Initial set:\", my_set)\n",
    "\n",
    "# Define the element to be removed\n",
    "element_to_remove = 3\n",
    "\n",
    "# Use the discard() method to remove the element from the set\n",
    "# If the element is not present in the set, discard() won't raise an error\n",
    "my_set.discard(element_to_remove)\n",
    "\n",
    "# Display the set after removing the element\n",
    "print(\"Set after removing\", element_to_remove, \":\", my_set)"
   ]
  },
  {
   "cell_type": "code",
   "execution_count": null,
   "id": "19d3d8cc-5897-40fe-a542-6045cf08331b",
   "metadata": {},
   "outputs": [],
   "source": [
    "#32. Compare two sets."
   ]
  },
  {
   "cell_type": "code",
   "execution_count": 34,
   "id": "0d978120-c040-4460-af42-2f4f732bf191",
   "metadata": {},
   "outputs": [
    {
     "name": "stdout",
     "output_type": "stream",
     "text": [
      "Set 1: {1, 2, 3, 4, 5}\n",
      "Set 2: {4, 5, 6, 7, 8}\n",
      "Is set1 a subset of set2? False\n",
      "Is set2 a subset of set1? False\n",
      "Intersection: {4, 5}\n",
      "Union: {1, 2, 3, 4, 5, 6, 7, 8}\n",
      "Elements in set1 but not in set2: {1, 2, 3}\n",
      "Elements in set2 but not in set1: {8, 6, 7}\n"
     ]
    }
   ],
   "source": [
    "set1 = {1, 2, 3, 4, 5}\n",
    "set2 = {4, 5, 6, 7, 8}\n",
    "\n",
    "# Step 2: Use set operations to compare the sets\n",
    "# Check if set1 is a subset of set2\n",
    "is_subset = set1.issubset(set2)\n",
    "\n",
    "# Check if set2 is a subset of set1\n",
    "is_superset = set1.issuperset(set2)\n",
    "\n",
    "# Find the intersection of the sets\n",
    "intersection = set1.intersection(set2)\n",
    "\n",
    "# Find the union of the sets\n",
    "union = set1.union(set2)\n",
    "\n",
    "# Find the elements that are in set1 but not in set2\n",
    "difference1 = set1.difference(set2)\n",
    "\n",
    "# Find the elements that are in set2 but not in set1\n",
    "difference2 = set2.difference(set1)\n",
    "\n",
    "# Step 3: Print the results\n",
    "print(\"Set 1:\", set1)\n",
    "print(\"Set 2:\", set2)\n",
    "print(\"Is set1 a subset of set2?\", is_subset)\n",
    "print(\"Is set2 a subset of set1?\", is_superset)\n",
    "print(\"Intersection:\", intersection)\n",
    "print(\"Union:\", union)\n",
    "print(\"Elements in set1 but not in set2:\", difference1)\n",
    "print(\"Elements in set2 but not in set1:\", difference2)"
   ]
  },
  {
   "cell_type": "code",
   "execution_count": null,
   "id": "e3bed567-ff21-4d0c-8b28-257be0d7e6fe",
   "metadata": {},
   "outputs": [],
   "source": [
    "#33. Create a set from a string."
   ]
  },
  {
   "cell_type": "code",
   "execution_count": 35,
   "id": "7b7731ce-f726-4478-8db3-b000498cf375",
   "metadata": {},
   "outputs": [
    {
     "name": "stdout",
     "output_type": "stream",
     "text": [
      "{'o', 'l', 'e', 'h'}\n"
     ]
    }
   ],
   "source": [
    "input_string = \"hello\"\n",
    "\n",
    "# Step 2: Use the set() constructor to create a set from the characters in the string\n",
    "char_set = set(input_string)\n",
    "\n",
    "# Step 3: Print the resulting set\n",
    "print(char_set)"
   ]
  },
  {
   "cell_type": "code",
   "execution_count": null,
   "id": "b6a8c8d2-475f-4346-b00e-437554f2dacd",
   "metadata": {},
   "outputs": [],
   "source": [
    "#34. Convert a set of strings to a set of integers.\n"
   ]
  },
  {
   "cell_type": "code",
   "execution_count": 36,
   "id": "a65a4566-f5bc-4f84-a3c1-575f6598fdd5",
   "metadata": {},
   "outputs": [
    {
     "name": "stdout",
     "output_type": "stream",
     "text": [
      "Original String Set: {'789', '456', '123'}\n",
      "Converted Integer Set: {456, 123, 789}\n"
     ]
    }
   ],
   "source": [
    "string_set = {\"123\", \"456\", \"789\"}\n",
    "\n",
    "# Step 2: Initialize an empty set to store integers\n",
    "integer_set = set()\n",
    "\n",
    "# Step 3: Iterate through each string in the string set\n",
    "for string in string_set:\n",
    "    # Step 4: Convert the string to an integer using the int() function\n",
    "    integer_value = int(string)\n",
    "\n",
    "    # Step 5: Add the integer to the integer set\n",
    "    integer_set.add(integer_value)\n",
    "\n",
    "# Step 6: Print the original string set and the converted integer set\n",
    "print(\"Original String Set:\", string_set)\n",
    "print(\"Converted Integer Set:\", integer_set)"
   ]
  },
  {
   "cell_type": "code",
   "execution_count": null,
   "id": "d8c67b60-cca8-4059-9e26-f5fb4748be79",
   "metadata": {},
   "outputs": [],
   "source": [
    "#35. Convert a set of integers to a set of strings."
   ]
  },
  {
   "cell_type": "code",
   "execution_count": 37,
   "id": "7fa08864-e787-4604-b218-cb6f4dc53b96",
   "metadata": {},
   "outputs": [
    {
     "name": "stdout",
     "output_type": "stream",
     "text": [
      "Original integers_set: {1, 2, 3, 4, 5}\n",
      "Original integers_set: {1, 2, 3, 4, 5}\n",
      "Original integers_set: {1, 2, 3, 4, 5}\n",
      "Original integers_set: {1, 2, 3, 4, 5}\n",
      "Original integers_set: {1, 2, 3, 4, 5}\n",
      "Converted strings_set: {'4', '5', '1', '2', '3'}\n"
     ]
    }
   ],
   "source": [
    "integers_set = {1, 2, 3, 4, 5}\n",
    "\n",
    "# Step 2: Initialize an empty set to store the strings\n",
    "strings_set = set()\n",
    "\n",
    "# Step 3: Iterate through each integer in the integers_set\n",
    "for num in integers_set:\n",
    "    # Step 4: Convert the integer to a string using the str() function\n",
    "    num_str = str(num)\n",
    "\n",
    "    # Step 5: Add the string representation to the strings_set\n",
    "    strings_set.add(num_str)\n",
    "    print(\"Original integers_set:\", integers_set)\n",
    "print(\"Converted strings_set:\", strings_set)"
   ]
  },
  {
   "cell_type": "code",
   "execution_count": null,
   "id": "011c11bd-d212-45a4-a75c-1ec3b526da2c",
   "metadata": {},
   "outputs": [],
   "source": [
    "#36. Create a set from a tuple."
   ]
  },
  {
   "cell_type": "code",
   "execution_count": 38,
   "id": "ac3f405c-9930-44b8-bac3-872f96f78ced",
   "metadata": {},
   "outputs": [
    {
     "name": "stdout",
     "output_type": "stream",
     "text": [
      "{1, 2, 3, 4, 5}\n"
     ]
    }
   ],
   "source": [
    "input_tuple = (1, 2, 3, 2, 4, 5, 1)\n",
    "\n",
    "# Step 1: Convert the tuple to a set\n",
    "output_set = set(input_tuple)\n",
    "# At this point, the set() function is used to convert the elements of the tuple into a set.\n",
    "# Since sets only contain unique elements, duplicate values are automatically removed.\n",
    "\n",
    "# Step 2: Print the resulting set\n",
    "print(output_set)"
   ]
  },
  {
   "cell_type": "code",
   "execution_count": null,
   "id": "c60f0591-ab41-4f9b-8211-f826cb906193",
   "metadata": {},
   "outputs": [],
   "source": [
    "#37. Convert a set to a tuple."
   ]
  },
  {
   "cell_type": "code",
   "execution_count": 39,
   "id": "bc617eb9-86b0-4e87-8644-a3788ed86850",
   "metadata": {},
   "outputs": [
    {
     "name": "stdout",
     "output_type": "stream",
     "text": [
      "Original set: {1, 2, 3, 4, 5}\n",
      "Converted tuple: (1, 2, 3, 4, 5)\n"
     ]
    }
   ],
   "source": [
    "input_set = {1, 2, 3, 4, 5}\n",
    "\n",
    "# Step 2: Convert the set to a tuple\n",
    "output_tuple = tuple(input_set)\n",
    "\n",
    "# Step 3: Print the original set and the converted tuple\n",
    "print(\"Original set:\", input_set)\n",
    "print(\"Converted tuple:\", output_tuple)"
   ]
  },
  {
   "cell_type": "code",
   "execution_count": null,
   "id": "a24fbd41-c400-4f2f-a1ae-3ae8e3dec832",
   "metadata": {},
   "outputs": [],
   "source": [
    "#38. Find the maximum value in a set."
   ]
  },
  {
   "cell_type": "code",
   "execution_count": null,
   "id": "7b46b111-ad23-4946-b1d3-c0058aacecf3",
   "metadata": {},
   "outputs": [],
   "source": [
    "my_set = {15, 7, 22, 13, 8}\n",
    "\n",
    "# Initialize a variable to store the maximum value\n",
    "max_value = None\n",
    "\n",
    "# Iterate through each element in the set\n",
    "for num in my_set:"
   ]
  },
  {
   "cell_type": "code",
   "execution_count": null,
   "id": "5a4772cd-f69a-448f-b44c-d10bff6bc79d",
   "metadata": {},
   "outputs": [],
   "source": [
    "#39. Find the minimum value in a set."
   ]
  },
  {
   "cell_type": "code",
   "execution_count": 25,
   "id": "058b937b-c5f5-4419-971b-b11ab94c5888",
   "metadata": {},
   "outputs": [
    {
     "name": "stdout",
     "output_type": "stream",
     "text": [
      "4\n"
     ]
    }
   ],
   "source": [
    "def MIN(sets):\n",
    "    return (min(sets))\n",
    "     \n",
    "sets = set([4, 12, 10, 9, 4, 13])\n",
    "print(MIN(sets))"
   ]
  },
  {
   "cell_type": "code",
   "execution_count": null,
   "id": "ef49a170-6909-4f79-ac2d-25d1d984b401",
   "metadata": {},
   "outputs": [],
   "source": [
    "#40. Create a set from user input."
   ]
  },
  {
   "cell_type": "code",
   "execution_count": 40,
   "id": "01efd40e-f770-4fd4-a5f3-2e5daddd62a2",
   "metadata": {},
   "outputs": [
    {
     "name": "stdout",
     "output_type": "stream",
     "text": [
      "Enter elements for the set (type 'done' to finish):\n"
     ]
    },
    {
     "name": "stdin",
     "output_type": "stream",
     "text": [
      ">  shaurya bhavya ruchira\n",
      ">  done\n"
     ]
    },
    {
     "name": "stdout",
     "output_type": "stream",
     "text": [
      "Final set: {'shaurya bhavya ruchira'}\n"
     ]
    }
   ],
   "source": [
    "user_set = set()\n",
    "\n",
    "# Step 2: Get input from the user\n",
    "print(\"Enter elements for the set (type 'done' to finish):\")\n",
    "while True:\n",
    "    user_input = input(\"> \")  # Get input from the user\n",
    "\n",
    "    if user_input.lower() == 'done':\n",
    "        break  # Exit the loop if the user enters 'done'\n",
    "\n",
    "    # Step 3: Add the user input to the set\n",
    "    user_set.add(user_input)\n",
    "\n",
    "# Step 4: Display the final set created from user input\n",
    "print(\"Final set:\", user_set)"
   ]
  },
  {
   "cell_type": "code",
   "execution_count": null,
   "id": "5a914600-a666-48ed-aa9a-ed8b5fabf152",
   "metadata": {},
   "outputs": [],
   "source": [
    "#41. Check if the intersection of two sets is empty."
   ]
  },
  {
   "cell_type": "code",
   "execution_count": 41,
   "id": "14296f87-d879-49ec-b050-5d292ea1045a",
   "metadata": {},
   "outputs": [],
   "source": [
    "set1 = {1, 2, 3, 4, 5}\n",
    "set2 = {4, 5, 6, 7, 8}\n",
    "\n",
    "# Step 2: Find the intersection of the two sets using the `intersection()` method\n",
    "intersection_result = set1.intersection(set2)\n",
    "\n",
    "# Step 3: Check if the intersection result is empty\n",
    "if not intersection_result:\n",
    "    print(\"The intersection of the two sets is empty.\")\n"
   ]
  },
  {
   "cell_type": "code",
   "execution_count": null,
   "id": "aa224bb5-3943-4d21-80a8-8d98f944f03b",
   "metadata": {},
   "outputs": [],
   "source": [
    "#42. Create a set of the first 5 Fibonacci numbers."
   ]
  },
  {
   "cell_type": "code",
   "execution_count": 43,
   "id": "b84e8e05-6d24-4cd2-861c-790026838bbc",
   "metadata": {},
   "outputs": [
    {
     "name": "stdout",
     "output_type": "stream",
     "text": [
      "Set of the first 5 Fibonacci numbers: {0, 1, 2, 3, 5}\n"
     ]
    }
   ],
   "source": [
    "\n",
    "fibonacci_set = set()\n",
    "\n",
    "# Initialize the first two Fibonacci numbers\n",
    "a, b = 0, 1\n",
    "\n",
    "# Loop to generate the first 5 Fibonacci numbers\n",
    "for _ in range(6):\n",
    "    # Add the current Fibonacci number to the set\n",
    "    fibonacci_set.add(a)\n",
    "\n",
    "    # Calculate the next Fibonacci number\n",
    "    a, b = b, a + b\n",
    "\n",
    "# Print the set of Fibonacci numbers\n",
    "print(\"Set of the first 5 Fibonacci numbers:\", fibonacci_set)"
   ]
  },
  {
   "cell_type": "code",
   "execution_count": null,
   "id": "4b2ebf0c-e2cb-4f59-b5e1-08a98eea596c",
   "metadata": {},
   "outputs": [],
   "source": [
    "#43. Remove duplicates from a list using sets."
   ]
  },
  {
   "cell_type": "code",
   "execution_count": 44,
   "id": "f1f5aef6-c7ae-4d3d-9056-e4329ab9930d",
   "metadata": {},
   "outputs": [
    {
     "name": "stdout",
     "output_type": "stream",
     "text": [
      "Original List: [2, 4, 6, 8, 4, 10, 6, 12, 14, 8]\n",
      "List with Duplicates Removed: [2, 4, 6, 8, 10, 12, 14]\n"
     ]
    }
   ],
   "source": [
    "original_list = [2, 4, 6, 8, 4, 10, 6, 12, 14, 8]\n",
    "\n",
    "# Step 2: Convert the list to a set\n",
    "unique_set = set(original_list)\n",
    "# Now, 'unique_set' contains only unique elements from 'original_list'\n",
    "\n",
    "# Step 3: Convert the set back to a list\n",
    "unique_list = list(unique_set)\n",
    "# Now, 'unique_list' is a list containing only unique elements\n",
    "\n",
    "# Step 4: Print the original list and the list with duplicates removed\n",
    "print(\"Original List:\", original_list)\n",
    "print(\"List with Duplicates Removed:\", unique_list)"
   ]
  },
  {
   "cell_type": "code",
   "execution_count": null,
   "id": "05ec93df-04ee-4465-b271-d6027887437a",
   "metadata": {},
   "outputs": [],
   "source": [
    "#44. Check if two sets have the same elements, regardless of their count."
   ]
  },
  {
   "cell_type": "code",
   "execution_count": 1,
   "id": "f5fcc32a-f760-48bd-b05b-3d029db1f927",
   "metadata": {},
   "outputs": [
    {
     "name": "stdout",
     "output_type": "stream",
     "text": [
      "The sets have the same elements.\n"
     ]
    }
   ],
   "source": [
    "def have_same_elements(set1, set2):\n",
    "    # Convert the sets to lists and sort them\n",
    "    sorted_list1 = sorted(list(set1))\n",
    "    sorted_list2 = sorted(list(set2))\n",
    "\n",
    "    # Compare the sorted lists to check if they are equal\n",
    "    return sorted_list1 == sorted_list2\n",
    "\n",
    "# Example sets\n",
    "set1 = {1, 2, 3, 2, 1}\n",
    "set2 = {3, 1, 2}\n",
    "\n",
    "# Check if the sets have the same elements\n",
    "result = have_same_elements(set1, set2)\n",
    "\n",
    "# Print the result\n",
    "if result:\n",
    "    print(\"The sets have the same elements.\")\n",
    "else:\n",
    "    print(\"The sets do not have the same elements.\")"
   ]
  },
  {
   "cell_type": "code",
   "execution_count": null,
   "id": "1d723ba2-e1be-4d0f-aeef-49ba3d5a2732",
   "metadata": {},
   "outputs": [],
   "source": [
    "#45. Create a set of the first n powers of 2"
   ]
  },
  {
   "cell_type": "code",
   "execution_count": 2,
   "id": "887ffbdc-902f-4471-adda-9186847b72e5",
   "metadata": {},
   "outputs": [
    {
     "name": "stdout",
     "output_type": "stream",
     "text": [
      "{1, 2, 4, 8, 16}\n"
     ]
    }
   ],
   "source": [
    "def generate_powers_of_2(n):\n",
    "    # Initialize an empty set to store the powers of 2\n",
    "    powers_of_2 = set()\n",
    "\n",
    "    # Loop from 0 to n-1\n",
    "    for i in range(n):\n",
    "        # Calculate the current power of 2 using the exponentiation operator **\n",
    "        power = 2 ** i\n",
    "\n",
    "        # Add the current power of 2 to the set\n",
    "        powers_of_2.add(power)\n",
    "\n",
    "    # Return the set of powers of 2\n",
    "    return powers_of_2\n",
    "n = 5\n",
    "\n",
    "# Call the function to generate the set of powers of 2\n",
    "powers_set = generate_powers_of_2(n)\n",
    "\n",
    "# Print the resulting set\n",
    "print(powers_set)"
   ]
  },
  {
   "cell_type": "code",
   "execution_count": null,
   "id": "fc20ec52-ea07-42db-ba94-eba98b134183",
   "metadata": {},
   "outputs": [],
   "source": [
    "#46.Find the common elements between a set and a list."
   ]
  },
  {
   "cell_type": "code",
   "execution_count": 3,
   "id": "45cd96c2-937e-47fc-8811-31d8b6e84da7",
   "metadata": {},
   "outputs": [
    {
     "name": "stdout",
     "output_type": "stream",
     "text": [
      "Common elements: [7, 9, 12]\n"
     ]
    }
   ],
   "source": [
    "my_set = {3, 7, 9, 12, 15}\n",
    "my_list = [7, 12, 5, 9]\n",
    "\n",
    "# Step 2: Convert the list to a set for efficient comparison\n",
    "list_to_set = set(my_list)\n",
    "\n",
    "# Step 3: Initialize an empty list to store common elements\n",
    "common_elements = []\n",
    "\n",
    "# Step 4: Iterate through the elements in the set\n",
    "for element in my_set:\n",
    "    # Step 5: Check if the element is present in the converted set (list_to_set)\n",
    "    if element in list_to_set:\n",
    "        # Step 6: If the element is present in both the set and the list, add it to the common_elements list\n",
    "        common_elements.append(element)\n",
    "\n",
    "# Step 7: Print the common elements\n",
    "print(\"Common elements:\", common_elements)"
   ]
  },
  {
   "cell_type": "code",
   "execution_count": null,
   "id": "f2ee5cae-9ef2-4b01-a285-8c6404e5e54d",
   "metadata": {},
   "outputs": [],
   "source": [
    "#47. Create a set of the first n triangular numbers.:"
   ]
  },
  {
   "cell_type": "code",
   "execution_count": 4,
   "id": "9c1edb84-375e-48df-9f72-4b2481dcd2c6",
   "metadata": {},
   "outputs": [
    {
     "name": "stdin",
     "output_type": "stream",
     "text": [
      "Enter the value of n:  5\n"
     ]
    },
    {
     "name": "stdout",
     "output_type": "stream",
     "text": [
      "The set of the first 5 triangular numbers is: {1, 3, 6, 10, 15}\n"
     ]
    }
   ],
   "source": [
    "def generate_triangular_numbers(n):\n",
    "    triangular_numbers = set()  # Create an empty set to store the triangular numbers\n",
    "    for i in range(1, n + 1):\n",
    "        triangular_number = i * (i + 1) // 2  # Calculate the ith triangular number using the formula\n",
    "        triangular_numbers.add(triangular_number)  # Add the calculated triangular number to the set\n",
    "    return triangular_numbers\n",
    "\n",
    "# Input the value of 'n'\n",
    "n = int(input(\"Enter the value of n: \"))\n",
    "\n",
    "# Call the function to generate the set of first 'n' triangular numbers\n",
    "triangular_set = generate_triangular_numbers(n)\n",
    "\n",
    "# Display the set of triangular numbers\n",
    "print(f\"The set of the first {n} triangular numbers is:\", triangular_set)"
   ]
  },
  {
   "cell_type": "code",
   "execution_count": null,
   "id": "461816ee-4d36-4d63-a2fa-d1235831f75a",
   "metadata": {},
   "outputs": [],
   "source": [
    "#48. Check if a set contains another set as a subset."
   ]
  },
  {
   "cell_type": "code",
   "execution_count": 5,
   "id": "9ee5ad0e-463c-424a-aa1d-0adbbfa12bc7",
   "metadata": {},
   "outputs": [
    {
     "name": "stdout",
     "output_type": "stream",
     "text": [
      "set2 is a subset of set1\n"
     ]
    }
   ],
   "source": [
    "set1 = {1, 2, 3, 4, 5}\n",
    "set2 = {3, 4}\n",
    "\n",
    "# Check if set2 is a subset of set1\n",
    "is_subset = set2.issubset(set1)\n",
    "\n",
    "# Print the result\n",
    "if is_subset:\n",
    "    print(\"set2 is a subset of set1\")\n",
    "else:\n",
    "    print(\"set2 is not a subset of set1\")"
   ]
  },
  {
   "cell_type": "code",
   "execution_count": null,
   "id": "ba5ed3db-5d7d-49fe-8788-ba284d94232a",
   "metadata": {},
   "outputs": [],
   "source": [
    "#49.Create a set of alternating 1s and 0s of length n."
   ]
  },
  {
   "cell_type": "code",
   "execution_count": 6,
   "id": "bf4e8f11-df08-4219-a78d-14ee53107606",
   "metadata": {},
   "outputs": [
    {
     "name": "stdout",
     "output_type": "stream",
     "text": [
      "{0, 1}\n"
     ]
    }
   ],
   "source": [
    "def create_alternating_set(n):\n",
    "    # Initialize an empty set to store the alternating sequence.\n",
    "    alternating_set = set()\n",
    "\n",
    "    # Loop to generate alternating 1s and 0s.\n",
    "    for i in range(n):\n",
    "        # Alternate between adding 1 and 0 to the set based on whether i is even or odd.\n",
    "        if i % 2 == 0:\n",
    "            alternating_set.add(1)  # Add 1 if i is even.\n",
    "        else:\n",
    "            alternating_set.add(0)  # Add 0 if i is odd.\n",
    "\n",
    "    return alternating_set\n",
    "\n",
    "# Define the desired length of the alternating set.\n",
    "length_n = 10\n",
    "\n",
    "# Call the function to create the alternating set of length 'length_n'.\n",
    "result = create_alternating_set(length_n)\n",
    "\n",
    "# Print the resulting set.\n",
    "print(result)"
   ]
  },
  {
   "cell_type": "code",
   "execution_count": null,
   "id": "df23c6dc-d36e-4140-809d-99bf928fb569",
   "metadata": {},
   "outputs": [],
   "source": [
    "#50. Merge multiple sets into one."
   ]
  },
  {
   "cell_type": "code",
   "execution_count": 7,
   "id": "e294f6dc-e6a7-4b35-89b3-8eed40f0dfa7",
   "metadata": {},
   "outputs": [
    {
     "name": "stdout",
     "output_type": "stream",
     "text": [
      "{1, 2, 3, 4, 5, 6, 7}\n"
     ]
    }
   ],
   "source": [
    "set1 = {1, 2, 3}\n",
    "set2 = {3, 4, 5}\n",
    "set3 = {5, 6, 7}\n",
    "\n",
    "# Step 2: Use the union() method to merge sets\n",
    "merged_set = set1.union(set2, set3)\n",
    "print(merged_set)"
   ]
  }
 ],
 "metadata": {
  "kernelspec": {
   "display_name": "Python 3 (ipykernel)",
   "language": "python",
   "name": "python3"
  },
  "language_info": {
   "codemirror_mode": {
    "name": "ipython",
    "version": 3
   },
   "file_extension": ".py",
   "mimetype": "text/x-python",
   "name": "python",
   "nbconvert_exporter": "python",
   "pygments_lexer": "ipython3",
   "version": "3.10.8"
  }
 },
 "nbformat": 4,
 "nbformat_minor": 5
}
